{
 "cells": [
  {
   "cell_type": "code",
   "execution_count": null,
   "metadata": {},
   "outputs": [],
   "source": [
    "import pandas as pd\n",
    "egd10 = pd.read_excel(\"data/EGD10.xlsx\")"
   ]
  },
  {
   "cell_type": "code",
   "execution_count": null,
   "metadata": {},
   "outputs": [],
   "source": [
    "targets = list(map(lambda x: x.upper(), [\n",
    "    \"PV1ling\",\n",
    "    \"PV2ling\",\n",
    "    \"PV3ling\",\n",
    "    \"PV4ling\",\n",
    "    \"PV5ling\",\n",
    "    \"PV1mat\",\n",
    "    \"PV2mat\",\n",
    "    \"PV3mat\",\n",
    "    \"PV4mat\",\n",
    "    \"PV5mat\",\n",
    "    \"PV1mfis\",\n",
    "    \"PV2mfis\",\n",
    "    \"PV3mfis\",\n",
    "    \"PV4mfis\",\n",
    "    \"PV5mfis\",\n",
    "    \"PV1syc\",\n",
    "    \"PV2syc\",\n",
    "    \"PV3syc\",\n",
    "    \"PV4syc\",\n",
    "    \"PV5syc\",\n",
    "]))\n",
    "\n",
    "new_targets = [\n",
    "    \"S15A\", \"S15B\", \"S15C\", \"S15D\", \"S15E\", \"S15F\", \"S15G\",\n",
    "    \"S20A\", \"S20B\", \"S20C\", \"S20D\", \"S20E\", \"S20F\", \"S20G\", \"S20H\", \"S20I\", \"S20J\",\n",
    "    \"S21A\", \"S21B\", \"S21C\",\n",
    "    \"S22A\", \"S22B\", \"S22C\", \"S22D\", \"S22E\", \"S22F\"\n",
    "]"
   ]
  },
  {
   "cell_type": "code",
   "execution_count": null,
   "metadata": {},
   "outputs": [],
   "source": [
    "egd10.loc[:, \"Nota_Media\"] = egd10[targets].mean(axis=1)\n",
    "egd10.drop(targets, axis=1, inplace=True)\n",
    "egd10.loc[:, \"Nota_Media\"] = egd10[\"Nota_Media\"].apply(lambda x: x / 100)"
   ]
  },
  {
   "cell_type": "code",
   "execution_count": null,
   "metadata": {},
   "outputs": [],
   "source": [
    "egd10.dropna(inplace=True)\n",
    "# Cambiar los valores 5 por 1 en las columnas que comienzan con \"S15\"\n",
    "for col in new_targets:\n",
    "    if col.startswith(\"S15\"):\n",
    "        egd10[col] = egd10[col].replace(5, 1)\n",
    "# Eliminar valores nulos\n",
    "egd10 = egd10[(egd10[new_targets] != 9).all(axis=1)]"
   ]
  },
  {
   "cell_type": "code",
   "execution_count": null,
   "metadata": {},
   "outputs": [],
   "source": [
    "# Ver distribución de valores para las variables new_targets\n",
    "for col in new_targets:\n",
    "    if col in egd10.columns:\n",
    "        print(f\"Distribución de valores para {col}:\")\n",
    "        print(egd10[col].value_counts(dropna=False))\n",
    "        print(\"\\n\")\n",
    "    else:\n",
    "        print(f\"La columna {col} no se encuentra en el DataFrame.\\n\")"
   ]
  },
  {
   "cell_type": "code",
   "execution_count": null,
   "metadata": {},
   "outputs": [],
   "source": [
    "import numpy as np\n",
    "import seaborn as sns\n",
    "\n",
    "import matplotlib.pyplot as plt\n",
    "\n",
    "# Seleccionar las características para calcular la matriz de correlación\n",
    "df_feat = egd10[[\"Nota_Media\"] + new_targets]\n",
    "\n",
    "# Calcular la matriz de correlación\n",
    "corr = df_feat.corr()\n",
    "\n",
    "# Generar una máscara para el triángulo superior\n",
    "mask = np.triu(np.ones_like(corr, dtype=bool))\n",
    "\n",
    "# Configurar la figura de matplotlib\n",
    "plt.figure(figsize=(11, 9))\n",
    "\n",
    "# Generar un colormap divergente personalizado\n",
    "cmap = sns.diverging_palette(230, 20, as_cmap=True)\n",
    "\n",
    "# Dibujar el heatmap con la máscara y la relación de aspecto correcta\n",
    "sns.heatmap(corr, mask=mask, cmap=cmap, vmax=.3, center=0,\n",
    "            square=True, linewidths=.5, cbar_kws={\"shrink\": .5})\n",
    "\n",
    "plt.show()"
   ]
  },
  {
   "cell_type": "code",
   "execution_count": null,
   "metadata": {},
   "outputs": [],
   "source": [
    "from scipy.cluster.hierarchy import dendrogram, linkage\n",
    "from scipy.spatial.distance import pdist\n",
    "\n",
    "# Calcular la matriz de distancias\n",
    "dist_matrix = pdist(corr)\n",
    "\n",
    "# Realizar el enlace jerárquico\n",
    "Z = linkage(dist_matrix, method='ward')\n",
    "\n",
    "# Dibujar el dendrograma\n",
    "plt.figure(figsize=(15, 10))\n",
    "dendrogram(Z, labels=corr.columns, leaf_rotation=90, leaf_font_size=10)\n",
    "plt.title('Dendrograma de las variables')\n",
    "plt.xlabel('Variables')\n",
    "plt.ylabel('Distancia')\n",
    "plt.show()"
   ]
  },
  {
   "cell_type": "code",
   "execution_count": null,
   "metadata": {},
   "outputs": [],
   "source": [
    "# Mapeos para las variables de tiempo y frecuencia\n",
    "# Los valores representan horas estimadas para cada categoría\n",
    "map_tiempo = {1: 0, 2: 0.25, 3: 0.75, 4: 1.5, 5: 2.5}\n",
    "map_frecuencia = {1: 0, 2: 0.2, 3: 0.65, 4: 1.25}\n",
    "\n",
    "\n",
    "\n",
    "# Listas de características según tipo de actividad\n",
    "# Variables relacionadas con actividades digitales\n",
    "tiempo_features_digital = [\"S15D\", \"S15E\", \"S20I\", \"S20J\"]\n",
    "frecuencia_features_digital = [\"S21A\",\"S22D\", \"S22F\", \"S22E\"]\n",
    "\n",
    "# Variables relacionadas con actividades culturales\n",
    "tiempo_features_cultural = [\"S15C\", \"S15A\", \"S20D\"]\n",
    "\n",
    "# Conversión de variables digitales\n",
    "# Mapear las categorías numéricas a horas estimadas para cada variable de tiempo y frecuencia digital\n",
    "for feature in tiempo_features_digital:\n",
    "    egd10[feature + \"_horas_digital\"] = egd10[feature].map(map_tiempo)\n",
    "\n",
    "for feature in frecuencia_features_digital:\n",
    "    egd10[feature + \"_horas_digital\"] = egd10[feature].map(map_frecuencia)\n",
    "\n",
    "# Sumar todas las horas digitales en una nueva columna unificada\n",
    "# Combina tiempo y frecuencia para calcular un total de horas invertidas en actividades digitales\n",
    "egd10[\"Horas_Digitales\"] = egd10[[feature + \"_horas_digital\" for feature in tiempo_features_digital + frecuencia_features_digital]].sum(axis=1)\n",
    "\n",
    "# Conversión de variables culturales\n",
    "# Mapear las categorías numéricas a horas estimadas para cada variable de tiempo y frecuencia cultural\n",
    "# Sumar todas las horas culturales en una nueva columna unificada\n",
    "# Combina tiempo y frecuencia para calcular un total de horas invertidas en actividades culturales\n",
    "egd10['Total_Horas_Cultural'] = egd10[[\"S15C\", \"S15A\", \"S20D\"]].applymap(map_tiempo.get).sum(axis=1) + egd10[[\"S21A\", \"S22D\", \"S22F\", \"S22E\"]].applymap(map_frecuencia.get).sum(axis=1)\n",
    "\n"
   ]
  },
  {
   "cell_type": "code",
   "execution_count": null,
   "metadata": {},
   "outputs": [],
   "source": [
    "# Definir el umbral de diferencia\n",
    "umbral = 3.0  # Ajusta este valor según la sensibilidad deseada\n",
    "\n",
    "# Clasificar en tres categorías\n",
    "egd10['Mayor_Horas'] = egd10.apply(\n",
    "    lambda row: (\n",
    "        'Cultural' if row['Total_Horas_Cultural'] > row['Total_Horas_Digital'] + umbral else\n",
    "        'Digital' if row['Total_Horas_Digital'] > row['Total_Horas_Cultural'] + umbral else\n",
    "        'Igualado'\n",
    "    ),\n",
    "    axis=1\n",
    ")\n",
    "# Mapear las categorías de 'Mayor_Horas' a valores numéricos\n",
    "egd10['Mayor_Horas_Bin'] = egd10['Mayor_Horas'].apply(\n",
    "    lambda x: 1 if x == 'Cultural' else -1 if x == 'Digital' else 0\n",
    ")\n",
    "\n",
    "# Verificar las frecuencias de los valores binarios\n",
    "print(egd10['Mayor_Horas_Bin'].value_counts())\n",
    "\n",
    "\n",
    "# Verificar las frecuencias de cada categoría\n",
    "print(egd10['Mayor_Horas'].value_counts())\n"
   ]
  }
 ],
 "metadata": {
  "language_info": {
   "name": "python"
  }
 },
 "nbformat": 4,
 "nbformat_minor": 2
}
