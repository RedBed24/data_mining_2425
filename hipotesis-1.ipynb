{
 "cells": [
  {
   "cell_type": "markdown",
   "metadata": {},
   "source": [
    "# Efecto de la ayuda con los deberes en el rendimiento académico\n",
    "\n",
    "Los estudiantes que reciben ayuda con los deberes de sus padres, hermanos o profesores particulares tienen un mejor rendimiento académico que aquellos que no reciben ayuda.\n"
   ]
  },
  {
   "cell_type": "markdown",
   "metadata": {},
   "source": [
    "## Selección de datos\n"
   ]
  },
  {
   "cell_type": "markdown",
   "metadata": {},
   "source": [
    "Para validar esta hipótesis, cogeremos las notas y aquellas variables que tengan que ver con la ayuda recibida por los estudiantes.\n"
   ]
  },
  {
   "cell_type": "markdown",
   "metadata": {},
   "source": [
    "Para el dataset de egd10, seleccionaremos las siguientes variables:\n",
    "\n",
    "- `S19A`: Ayuda deberes-De mis padres\n",
    "- `S19B`: Ayuda deberes-De mis hermanos\n",
    "- `S19C`: Ayuda deberes-De mis amigos\n",
    "- `S19D`: Ayuda deberes-De un profesor o profesora particular\n",
    "- `S19E`: Ayuda deberes-Asisto a una academia\n",
    "- `S19F`: Ayuda deberes-No recibo ayuda de nadie\n",
    "- `S26D`: Recibo ayuda extra de mis profesores y profesoras si la necesito\n",
    "- `S31B`: Relación con tu madre-Se preocupa por mis hábitos de trabajo y estudio\n",
    "- `S31C`: Relación con tu madre-Me anima a estudiar\n",
    "- `S31D`: Relación con tu madre-Me pregunta si tengo deberes\n",
    "- `S31E`: Relación con tu madre-Comprueba que hago los deberes\n",
    "- `S31F`: Relación con tu madre-Me ayuda a hacer los deberes y trabajos\n",
    "- `S31G`: Relación con tu madre-Me pregunta cómo me ha ido en clase\n",
    "- `S31H`: Relación con tu madre-Se preocupa por mis resultados y calificaciones escolares\n",
    "- `S32B`: Relación con tu padre-Se preocupa por mis hábitos de trabajo y estudio\n",
    "- `S32C`: Relación con tu padre-Me anima a estudiar\n",
    "- `S32D`: Relación con tu padre-Me pregunta si tengo deberes\n",
    "- `S32E`: Relación con tu padre-Comprueba que hago los deberes\n",
    "- `S32F`: Relación con tu padre-Me ayuda a hacer los deberes y trabajos\n",
    "- `S32G`: Relación con tu padre-Me pregunta cómo me ha ido en clase\n",
    "- `S32H`: Relación con tu padre-Se preocupa por mis resultados y calificaciones escolares\n",
    "- `PV1ling`: Puntuación PV1-LINGÜÍSTICA\n",
    "- `PV2ling`: Puntuación PV2-LINGÜÍSTICA\n",
    "- `PV3ling`: Puntuación PV3-LINGÜÍSTICA\n",
    "- `PV4ling`: Puntuación PV4-LINGÜÍSTICA\n",
    "- `PV5ling`: Puntuación PV5-LINGÜÍSTICA\n",
    "- `PV1mat`: Puntuación PV1-MATEMÁTICA\n",
    "- `PV2mat`: Puntuación PV2-MATEMÁTICA\n",
    "- `PV3mat`: Puntuación PV3-MATEMÁTICA\n",
    "- `PV4mat`: Puntuación PV4-MATEMÁTICA\n",
    "- `PV5mat`: Puntuación PV5-MATEMÁTICA\n",
    "- `PV1mfis`: Puntuación PV1-C I MUNDO FÍSICO\n",
    "- `PV2mfis`: Puntuación PV2-C I MUNDO FÍSICO\n",
    "- `PV3mfis`: Puntuación PV3-C I MUNDO FÍSICO\n",
    "- `PV4mfis`: Puntuación PV4-C I MUNDO FÍSICO\n",
    "- `PV5mfis`: Puntuación PV5-C I MUNDO FÍSICO\n",
    "- `PV1syc`: Puntuación PV1-SOCIAL Y CIUDADANA\n",
    "- `PV2syc`: Puntuación PV2-SOCIAL Y CIUDADANA\n",
    "- `PV3syc`: Puntuación PV3-SOCIAL Y CIUDADANA\n",
    "- `PV4syc`: Puntuación PV4-SOCIAL Y CIUDADANA\n",
    "- `PV5syc`: Puntuación PV5-SOCIAL Y CIUDADANA\n"
   ]
  },
  {
   "cell_type": "markdown",
   "metadata": {},
   "source": [
    "Para el dataset de egd09, seleccionaremos las siguientes variables:\n",
    "\n",
    "- `P20A`: Ayuda deberes-No recibo ayuda de nadie\n",
    "- `P20B`: Ayuda deberes-De una profesora o profesor particular\n",
    "- `P20C`: Ayuda deberes-De mis padres o mis abuelos\n",
    "- `P31C`: Relación con tu madre-Se preocupa por mis hábitos de trabajo y estudio\n",
    "- `P31D`: Relación con tu madre-Me anima a estudiar\n",
    "- `P31E`: Relación con tu madre-Comprueba que hago los deberes\n",
    "- `P31F`: Relación con tu madre-Me ayuda a hacer los deberes y trabajos\n",
    "- `P31G`: Relación con tu madre-Se preocupa por mis calificaciones\n",
    "- `P32C`: Relación con tu padre-Se preocupa por mis hábitos de trabajo y estudio\n",
    "- `P32D`: Relación con tu padre-Me anima a estudiar\n",
    "- `P32E`: Relación con tu padre-Comprueba que hago los deberes\n",
    "- `P32F`: Relación con tu padre-Me ayuda a hacer los deberes y trabajos\n",
    "- `P32G`: Relación con tu padre-Se preocupa por mis calificaciones\n",
    "- `PF12A`: Ayuda deberes - No recibe ayuda de nadie\n",
    "- `PF12B`: Ayuda deberes - De un profesor particular\n",
    "- `PF12C`: Ayuda deberes - Asiste a una academia\n",
    "- `PF12D`: Ayuda deberes - De sus padres\n",
    "- `PF12E`: Ayuda deberes - De hermanos u otros familiares\n",
    "- `PV1ling`: Puntuación PV1-LINGÜÍSTICA\n",
    "- `PV2ling`: Puntuación PV2-LINGÜÍSTICA\n",
    "- `PV3ling`: Puntuación PV3-LINGÜÍSTICA\n",
    "- `PV4ling`: Puntuación PV4-LINGÜÍSTICA\n",
    "- `PV5ling`: Puntuación PV5-LINGÜÍSTICA\n",
    "- `PV1mat`: Puntuación PV1-MATEMÁTICA\n",
    "- `PV2mat`: Puntuación PV2-MATEMÁTICA\n",
    "- `PV3mat`: Puntuación PV3-MATEMÁTICA\n",
    "- `PV4mat`: Puntuación PV4-MATEMÁTICA\n",
    "- `PV5mat`: Puntuación PV5-MATEMÁTICA\n",
    "- `PV1mfis`: Puntuación PV1-C I MUNDO FÍSICO\n",
    "- `PV2mfis`: Puntuación PV2-C I MUNDO FÍSICO\n",
    "- `PV3mfis`: Puntuación PV3-C I MUNDO FÍSICO\n",
    "- `PV4mfis`: Puntuación PV4-C I MUNDO FÍSICO\n",
    "- `PV5mfis`: Puntuación PV5-C I MUNDO FÍSICO\n",
    "- `PV1syc`: Puntuación PV1-SOCIAL Y CIUDADANA\n",
    "- `PV2syc`: Puntuación PV2-SOCIAL Y CIUDADANA\n",
    "- `PV3syc`: Puntuación PV3-SOCIAL Y CIUDADANA\n",
    "- `PV4syc`: Puntuación PV4-SOCIAL Y CIUDADANA\n",
    "- `PV5syc`: Puntuación PV5-SOCIAL Y CIUDADANA\n"
   ]
  },
  {
   "cell_type": "markdown",
   "metadata": {},
   "source": [
    "Cabe destacar que en el dataset de egd09 hay variables que hablan de lo mismo pero de la perspectiva de los padres y desde la de los alumnos, en específico, las variables P20[A-C], por parte de los alumnos y PF12[A-E] por parte de los familiares.\n",
    "Por lo tanto, se tomará en cuenta la información de los padres y la de los alumnos para hacer un análisis más completo.\n"
   ]
  },
  {
   "cell_type": "markdown",
   "metadata": {},
   "source": [
    "Hemos decidido quedarnos con las variables que tratan la preoupación de los padres por los hábitos de estudio de los hijos ya que creemos que pueda tener relación con la ayuda que reciben los estudiantes.\n",
    "Por lo que luego podríamos intentar unificar estas junto con la ayuda recibida.\n"
   ]
  },
  {
   "cell_type": "markdown",
   "metadata": {},
   "source": [
    "## Tratamiento y limpieza de datos\n"
   ]
  },
  {
   "cell_type": "markdown",
   "metadata": {},
   "source": [
    "## Características de la tarjeta de datos\n"
   ]
  },
  {
   "cell_type": "markdown",
   "metadata": {},
   "source": [
    "## Líneas de Trabajo\n"
   ]
  }
 ],
 "metadata": {
  "language_info": {
   "name": "python"
  }
 },
 "nbformat": 4,
 "nbformat_minor": 2
}
