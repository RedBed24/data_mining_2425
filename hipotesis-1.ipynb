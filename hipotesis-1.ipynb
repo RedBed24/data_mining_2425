{
 "cells": [
  {
   "cell_type": "markdown",
   "metadata": {},
   "source": [
    "# Efecto de la ayuda con los deberes en el rendimiento académico\n",
    "\n",
    "Los estudiantes que reciben ayuda con los deberes de sus padres, hermanos o profesores particulares tienen un mejor rendimiento académico que aquellos que no reciben ayuda.\n"
   ]
  },
  {
   "cell_type": "markdown",
   "metadata": {},
   "source": [
    "## Selección de datos\n"
   ]
  },
  {
   "cell_type": "markdown",
   "metadata": {},
   "source": [
    "Para validar esta hipótesis, cogeremos las notas y aquellas variables que tengan que ver con la ayuda recibida por los estudiantes.\n"
   ]
  },
  {
   "cell_type": "markdown",
   "metadata": {},
   "source": [
    "Para el dataset de egd10, seleccionaremos las siguientes variables:\n",
    "\n",
    "- `S19A`: Ayuda deberes-De mis padres\n",
    "- `S19B`: Ayuda deberes-De mis hermanos\n",
    "- `S19C`: Ayuda deberes-De mis amigos\n",
    "- `S19D`: Ayuda deberes-De un profesor o profesora particular\n",
    "- `S19E`: Ayuda deberes-Asisto a una academia\n",
    "- `S19F`: Ayuda deberes-No recibo ayuda de nadie\n",
    "- `S26D`: Recibo ayuda extra de mis profesores y profesoras si la necesito\n",
    "- `S31B`: Relación con tu madre-Se preocupa por mis hábitos de trabajo y estudio\n",
    "- `S31C`: Relación con tu madre-Me anima a estudiar\n",
    "- `S31D`: Relación con tu madre-Me pregunta si tengo deberes\n",
    "- `S31E`: Relación con tu madre-Comprueba que hago los deberes\n",
    "- `S31F`: Relación con tu madre-Me ayuda a hacer los deberes y trabajos\n",
    "- `S31G`: Relación con tu madre-Me pregunta cómo me ha ido en clase\n",
    "- `S31H`: Relación con tu madre-Se preocupa por mis resultados y calificaciones escolares\n",
    "- `S32B`: Relación con tu padre-Se preocupa por mis hábitos de trabajo y estudio\n",
    "- `S32C`: Relación con tu padre-Me anima a estudiar\n",
    "- `S32D`: Relación con tu padre-Me pregunta si tengo deberes\n",
    "- `S32E`: Relación con tu padre-Comprueba que hago los deberes\n",
    "- `S32F`: Relación con tu padre-Me ayuda a hacer los deberes y trabajos\n",
    "- `S32G`: Relación con tu padre-Me pregunta cómo me ha ido en clase\n",
    "- `S32H`: Relación con tu padre-Se preocupa por mis resultados y calificaciones escolares\n",
    "- `PV1ling`: Puntuación PV1-LINGÜÍSTICA\n",
    "- `PV2ling`: Puntuación PV2-LINGÜÍSTICA\n",
    "- `PV3ling`: Puntuación PV3-LINGÜÍSTICA\n",
    "- `PV4ling`: Puntuación PV4-LINGÜÍSTICA\n",
    "- `PV5ling`: Puntuación PV5-LINGÜÍSTICA\n",
    "- `PV1mat`: Puntuación PV1-MATEMÁTICA\n",
    "- `PV2mat`: Puntuación PV2-MATEMÁTICA\n",
    "- `PV3mat`: Puntuación PV3-MATEMÁTICA\n",
    "- `PV4mat`: Puntuación PV4-MATEMÁTICA\n",
    "- `PV5mat`: Puntuación PV5-MATEMÁTICA\n",
    "- `PV1mfis`: Puntuación PV1-C I MUNDO FÍSICO\n",
    "- `PV2mfis`: Puntuación PV2-C I MUNDO FÍSICO\n",
    "- `PV3mfis`: Puntuación PV3-C I MUNDO FÍSICO\n",
    "- `PV4mfis`: Puntuación PV4-C I MUNDO FÍSICO\n",
    "- `PV5mfis`: Puntuación PV5-C I MUNDO FÍSICO\n",
    "- `PV1syc`: Puntuación PV1-SOCIAL Y CIUDADANA\n",
    "- `PV2syc`: Puntuación PV2-SOCIAL Y CIUDADANA\n",
    "- `PV3syc`: Puntuación PV3-SOCIAL Y CIUDADANA\n",
    "- `PV4syc`: Puntuación PV4-SOCIAL Y CIUDADANA\n",
    "- `PV5syc`: Puntuación PV5-SOCIAL Y CIUDADANA\n"
   ]
  },
  {
   "cell_type": "markdown",
   "metadata": {},
   "source": [
    "Para el dataset de egd09, seleccionaremos las siguientes variables:\n",
    "\n",
    "- `P20A`: Ayuda deberes-No recibo ayuda de nadie\n",
    "- `P20B`: Ayuda deberes-De una profesora o profesor particular\n",
    "- `P20C`: Ayuda deberes-De mis padres o mis abuelos\n",
    "- `P31C`: Relación con tu madre-Se preocupa por mis hábitos de trabajo y estudio\n",
    "- `P31D`: Relación con tu madre-Me anima a estudiar\n",
    "- `P31E`: Relación con tu madre-Comprueba que hago los deberes\n",
    "- `P31F`: Relación con tu madre-Me ayuda a hacer los deberes y trabajos\n",
    "- `P31G`: Relación con tu madre-Se preocupa por mis calificaciones\n",
    "- `P32C`: Relación con tu padre-Se preocupa por mis hábitos de trabajo y estudio\n",
    "- `P32D`: Relación con tu padre-Me anima a estudiar\n",
    "- `P32E`: Relación con tu padre-Comprueba que hago los deberes\n",
    "- `P32F`: Relación con tu padre-Me ayuda a hacer los deberes y trabajos\n",
    "- `P32G`: Relación con tu padre-Se preocupa por mis calificaciones\n",
    "- `PF12A`: Ayuda deberes - No recibe ayuda de nadie\n",
    "- `PF12B`: Ayuda deberes - De un profesor particular\n",
    "- `PF12C`: Ayuda deberes - Asiste a una academia\n",
    "- `PF12D`: Ayuda deberes - De sus padres\n",
    "- `PF12E`: Ayuda deberes - De hermanos u otros familiares\n",
    "- `PV1ling`: Puntuación PV1-LINGÜÍSTICA\n",
    "- `PV2ling`: Puntuación PV2-LINGÜÍSTICA\n",
    "- `PV3ling`: Puntuación PV3-LINGÜÍSTICA\n",
    "- `PV4ling`: Puntuación PV4-LINGÜÍSTICA\n",
    "- `PV5ling`: Puntuación PV5-LINGÜÍSTICA\n",
    "- `PV1mat`: Puntuación PV1-MATEMÁTICA\n",
    "- `PV2mat`: Puntuación PV2-MATEMÁTICA\n",
    "- `PV3mat`: Puntuación PV3-MATEMÁTICA\n",
    "- `PV4mat`: Puntuación PV4-MATEMÁTICA\n",
    "- `PV5mat`: Puntuación PV5-MATEMÁTICA\n",
    "- `PV1mfis`: Puntuación PV1-C I MUNDO FÍSICO\n",
    "- `PV2mfis`: Puntuación PV2-C I MUNDO FÍSICO\n",
    "- `PV3mfis`: Puntuación PV3-C I MUNDO FÍSICO\n",
    "- `PV4mfis`: Puntuación PV4-C I MUNDO FÍSICO\n",
    "- `PV5mfis`: Puntuación PV5-C I MUNDO FÍSICO\n",
    "- `PV1syc`: Puntuación PV1-SOCIAL Y CIUDADANA\n",
    "- `PV2syc`: Puntuación PV2-SOCIAL Y CIUDADANA\n",
    "- `PV3syc`: Puntuación PV3-SOCIAL Y CIUDADANA\n",
    "- `PV4syc`: Puntuación PV4-SOCIAL Y CIUDADANA\n",
    "- `PV5syc`: Puntuación PV5-SOCIAL Y CIUDADANA\n"
   ]
  },
  {
   "cell_type": "markdown",
   "metadata": {},
   "source": [
    "Cabe destacar que en el dataset de egd09 hay variables que hablan de lo mismo pero de la perspectiva de los padres y desde la de los alumnos, en específico, las variables P20[A-C], por parte de los alumnos y PF12[A-E] por parte de los familiares.\n",
    "Por lo tanto, se tomará en cuenta la información de los padres y la de los alumnos para hacer un análisis más completo.\n"
   ]
  },
  {
   "cell_type": "markdown",
   "metadata": {},
   "source": [
    "Hemos decidido quedarnos con las variables que tratan la preoupación de los padres por los hábitos de estudio de los hijos ya que creemos que pueda tener relación con la ayuda que reciben los estudiantes.\n",
    "Por lo que luego podríamos intentar unificar estas junto con la ayuda recibida.\n"
   ]
  },
  {
   "cell_type": "code",
   "execution_count": null,
   "metadata": {},
   "outputs": [],
   "source": [
    "import pandas as pd"
   ]
  },
  {
   "cell_type": "code",
   "execution_count": null,
   "metadata": {},
   "outputs": [],
   "source": [
    "# Load the data from the Excel file\n",
    "# WARNING TAKES A LONG TIME\n",
    "# only loads the first sheet, thats the one that contains the data\n",
    "# other sheets contain metadata\n",
    "egd09 = pd.read_excel(\"data/EGD09.xlsx\")\n",
    "egd10 = pd.read_excel(\"data/EGD10.xlsx\")"
   ]
  },
  {
   "cell_type": "code",
   "execution_count": null,
   "metadata": {},
   "outputs": [],
   "source": [
    "selected_09_features = [\n",
    "    \"P20A\",\n",
    "    \"P20B\",\n",
    "    \"P20C\",\n",
    "    \"P31C\",\n",
    "    \"P31D\",\n",
    "    \"P31E\",\n",
    "    \"P31F\",\n",
    "    \"P31G\",\n",
    "    \"P32C\",\n",
    "    \"P32D\",\n",
    "    \"P32E\",\n",
    "    \"P32F\",\n",
    "    \"P32G\",\n",
    "    \"PF12A\",\n",
    "    \"PF12B\",\n",
    "    \"PF12C\",\n",
    "    \"PF12D\",\n",
    "    \"PF12E\",\n",
    "]\n",
    "\n",
    "selected_10_features = [\n",
    "    \"S19A\",\n",
    "    \"S19B\",\n",
    "    \"S19C\",\n",
    "    \"S19D\",\n",
    "    \"S19E\",\n",
    "    \"S19F\",\n",
    "    \"S26D\",\n",
    "    \"S31B\",\n",
    "    \"S31C\",\n",
    "    \"S31D\",\n",
    "    \"S31E\",\n",
    "    \"S31F\",\n",
    "    \"S31G\",\n",
    "    \"S31H\",\n",
    "    \"S32B\",\n",
    "    \"S32C\",\n",
    "    \"S32D\",\n",
    "    \"S32E\",\n",
    "    \"S32F\",\n",
    "    \"S32G\",\n",
    "    \"S32H\",\n",
    "]\n",
    "\n",
    "targets_09 = [\n",
    "    \"PV1ling\",\n",
    "    \"PV2ling\",\n",
    "    \"PV3ling\",\n",
    "    \"PV4ling\",\n",
    "    \"PV5ling\",\n",
    "    \"PV1mat\",\n",
    "    \"PV2mat\",\n",
    "    \"PV3mat\",\n",
    "    \"PV4mat\",\n",
    "    \"PV5mat\",\n",
    "    \"PV1mfis\",\n",
    "    \"PV2mfis\",\n",
    "    \"PV3mfis\",\n",
    "    \"PV4mfis\",\n",
    "    \"PV5mfis\",\n",
    "    \"PV1syc\",\n",
    "    \"PV2syc\",\n",
    "    \"PV3syc\",\n",
    "    \"PV4syc\",\n",
    "    \"PV5syc\",\n",
    "]\n",
    "\n",
    "# edg10 has the same targets as egd09, but it uses upper case letters\n",
    "targets_10 = list(map(lambda x: x.upper(), targets_09))\n"
   ]
  },
  {
   "cell_type": "code",
   "execution_count": null,
   "metadata": {},
   "outputs": [],
   "source": [
    "egd09 = egd09[selected_09_features + targets_09]\n",
    "egd10 = egd10[selected_10_features + targets_10]"
   ]
  },
  {
   "cell_type": "markdown",
   "metadata": {},
   "source": [
    "## Tratamiento y limpieza de datos\n"
   ]
  },
  {
   "cell_type": "markdown",
   "metadata": {},
   "source": [
    "Tenemos una gran cantidad de variables, muchas de estas hablan realmente de lo mismo, por lo que vamos a unificarl subconjuntos de variables en una sola variable.\n",
    "Por ejemplo, podríamos quedarnos con la nota media, otra variable que hable de la ayuda recibida y otra que hable de la preocupación de los padres por los estudios de sus hijos."
   ]
  },
  {
   "cell_type": "code",
   "execution_count": null,
   "metadata": {},
   "outputs": [],
   "source": [
    "egd10.loc[:, \"mean_score\"] = egd10[targets_10].mean(axis=1)\n",
    "egd10.drop(targets_10, axis=1, inplace=True)\n",
    "egd10.loc[:, \"mean_score\"] = egd10[\"mean_score\"].apply(lambda x: x/100)\n"
   ]
  },
  {
   "cell_type": "code",
   "execution_count": null,
   "metadata": {},
   "outputs": [],
   "source": [
    "egd09.loc[:, \"mean_score\"] = egd09[targets_09].mean(axis=1)\n",
    "egd09.drop(targets_09, axis=1, inplace=True)\n",
    "egd09.loc[:, \"mean_score\"] = egd09[\"mean_score\"].apply(lambda x: x/100)\n"
   ]
  },
  {
   "cell_type": "markdown",
   "metadata": {},
   "source": [
    "También hay que tratar los valores nulos, ya que no podemos trabajar con ellos.\n",
    "Trataremos de igual manera aquellos valores inútiles, que no aporten información relevante, como los \"no sabe/no contesta\"."
   ]
  },
  {
   "cell_type": "markdown",
   "metadata": {},
   "source": [
    "## Características de la tarjeta de datos\n"
   ]
  },
  {
   "cell_type": "markdown",
   "metadata": {},
   "source": [
    "## Líneas de Trabajo\n"
   ]
  }
 ],
 "metadata": {
  "language_info": {
   "name": "python"
  }
 },
 "nbformat": 4,
 "nbformat_minor": 2
}
