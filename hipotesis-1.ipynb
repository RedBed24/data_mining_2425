{
 "cells": [
  {
   "cell_type": "markdown",
   "metadata": {},
   "source": [
    "## Efecto de la ayuda con los deberes en el rendimiento académico\n",
    "\n",
    "**- Hipótesis:**\n",
    "*Los estudiantes que reciben ayuda con los deberes de sus padres, hermanos o profesores particulares tienen un mejor rendimiento académico que aquellos que no reciben ayuda.*\n"
   ]
  },
  {
   "cell_type": "markdown",
   "metadata": {},
   "source": [
    "### Selección de datos\n"
   ]
  },
  {
   "cell_type": "markdown",
   "metadata": {},
   "source": [
    "Para validar esta hipótesis, seleccionaremos tanto las calificaciones como las variables relacionadas con la ayuda que reciben los estudiantes.\n"
   ]
  },
  {
   "cell_type": "markdown",
   "metadata": {},
   "source": [
    "**Variables seleccionadas para `egd10`:**\n",
    "\n",
    "- `S19A`: Ayuda deberes-De mis padres\n",
    "- `S19B`: Ayuda deberes-De mis hermanos\n",
    "- `S19C`: Ayuda deberes-De mis amigos\n",
    "- `S19D`: Ayuda deberes-De un profesor o profesora particular\n",
    "- `S19E`: Ayuda deberes-Asisto a una academia\n",
    "- `S19F`: Ayuda deberes-No recibo ayuda de nadie\n",
    "- `S26D`: Recibo ayuda extra de mis profesores y profesoras si la necesito\n",
    "- `S31B`: Relación con tu madre-Se preocupa por mis hábitos de trabajo y estudio\n",
    "- `S31C`: Relación con tu madre-Me anima a estudiar\n",
    "- `S31D`: Relación con tu madre-Me pregunta si tengo deberes\n",
    "- `S31E`: Relación con tu madre-Comprueba que hago los deberes\n",
    "- `S31F`: Relación con tu madre-Me ayuda a hacer los deberes y trabajos\n",
    "- `S31G`: Relación con tu madre-Me pregunta cómo me ha ido en clase\n",
    "- `S31H`: Relación con tu madre-Se preocupa por mis resultados y calificaciones escolares\n",
    "- `S32B`: Relación con tu padre-Se preocupa por mis hábitos de trabajo y estudio\n",
    "- `S32C`: Relación con tu padre-Me anima a estudiar\n",
    "- `S32D`: Relación con tu padre-Me pregunta si tengo deberes\n",
    "- `S32E`: Relación con tu padre-Comprueba que hago los deberes\n",
    "- `S32F`: Relación con tu padre-Me ayuda a hacer los deberes y trabajos\n",
    "- `S32G`: Relación con tu padre-Me pregunta cómo me ha ido en clase\n",
    "- `S32H`: Relación con tu padre-Se preocupa por mis resultados y calificaciones escolares\n",
    "- `PV1ling`: Puntuación PV1-LINGÜÍSTICA\n",
    "- `PV2ling`: Puntuación PV2-LINGÜÍSTICA\n",
    "- `PV3ling`: Puntuación PV3-LINGÜÍSTICA\n",
    "- `PV4ling`: Puntuación PV4-LINGÜÍSTICA\n",
    "- `PV5ling`: Puntuación PV5-LINGÜÍSTICA\n",
    "- `PV1mat`: Puntuación PV1-MATEMÁTICA\n",
    "- `PV2mat`: Puntuación PV2-MATEMÁTICA\n",
    "- `PV3mat`: Puntuación PV3-MATEMÁTICA\n",
    "- `PV4mat`: Puntuación PV4-MATEMÁTICA\n",
    "- `PV5mat`: Puntuación PV5-MATEMÁTICA\n",
    "- `PV1mfis`: Puntuación PV1-C I MUNDO FÍSICO\n",
    "- `PV2mfis`: Puntuación PV2-C I MUNDO FÍSICO\n",
    "- `PV3mfis`: Puntuación PV3-C I MUNDO FÍSICO\n",
    "- `PV4mfis`: Puntuación PV4-C I MUNDO FÍSICO\n",
    "- `PV5mfis`: Puntuación PV5-C I MUNDO FÍSICO\n",
    "- `PV1syc`: Puntuación PV1-SOCIAL Y CIUDADANA\n",
    "- `PV2syc`: Puntuación PV2-SOCIAL Y CIUDADANA\n",
    "- `PV3syc`: Puntuación PV3-SOCIAL Y CIUDADANA\n",
    "- `PV4syc`: Puntuación PV4-SOCIAL Y CIUDADANA\n",
    "- `PV5syc`: Puntuación PV5-SOCIAL Y CIUDADANA\n"
   ]
  },
  {
   "cell_type": "markdown",
   "metadata": {},
   "source": [
    "Cabe destacar que, en el dataset `egd09`, hay variables que tratan sobre los mismos temas, pero desde la perspectiva de los padres y los alumnos. Específicamente, se incluyen las variables P20[A-C] (alumnos) y PF12[A-E] (familiares). Sin embargo, las variables relacionadas con la ayuda en ambos datasets difieren en algunos aspectos.\n",
    "\n",
    "Para simplificar el procesamiento de datos, al menos en esta entrega, consideraremos únicamente los datos del dataset `egd10`, ya que nos centramos en los adolescentes, quienes presentan un desempeño cognitivo más exigente que el de los niños, lo que resulta más interesante para extraer conclusiones.\n",
    "\n"
   ]
  },
  {
   "cell_type": "markdown",
   "metadata": {},
   "source": [
    "Hemos decidido seleccionar también las variables que reflejan la preocupación de los padres por los hábitos de estudio de sus hijos, ya que consideramos que podrían estar relacionadas con la ayuda que reciben los estudiantes.\n"
   ]
  },
  {
   "cell_type": "code",
   "execution_count": null,
   "metadata": {},
   "outputs": [],
   "source": [
    "import pandas as pd"
   ]
  },
  {
   "cell_type": "code",
   "execution_count": null,
   "metadata": {},
   "outputs": [],
   "source": [
    "# Load the data from the Excel file\n",
    "# WARNING TAKES A LONG TIME\n",
    "# only loads the first sheet, thats the one that contains the data\n",
    "# other sheets contain metadata\n",
    "\n",
    "egd10 = pd.read_excel(\"data/EGD10.xlsx\")"
   ]
  },
  {
   "cell_type": "code",
   "execution_count": null,
   "metadata": {},
   "outputs": [],
   "source": [
    "selected_features = [\n",
    "    \"S19A\",\n",
    "    \"S19B\",\n",
    "    \"S19C\",\n",
    "    \"S19D\",\n",
    "    \"S19E\",\n",
    "    \"S19F\",\n",
    "    \"S26D\",\n",
    "    \"S31B\",\n",
    "    \"S31C\",\n",
    "    \"S31D\",\n",
    "    \"S31E\",\n",
    "    \"S31F\",\n",
    "    \"S31G\",\n",
    "    \"S31H\",\n",
    "    \"S32B\",\n",
    "    \"S32C\",\n",
    "    \"S32D\",\n",
    "    \"S32E\",\n",
    "    \"S32F\",\n",
    "    \"S32G\",\n",
    "    \"S32H\",\n",
    "]\n",
    "\n",
    "targets = [\n",
    "    \"PV1LING\",\n",
    "    \"PV2LING\",\n",
    "    \"PV3LING\",\n",
    "    \"PV4LING\",\n",
    "    \"PV5LING\",\n",
    "    \"PV1MAT\",\n",
    "    \"PV2MAT\",\n",
    "    \"PV3MAT\",\n",
    "    \"PV4MAT\",\n",
    "    \"PV5MAT\",\n",
    "    \"PV1MFIS\",\n",
    "    \"PV2MFIS\",\n",
    "    \"PV3MFIS\",\n",
    "    \"PV4MFIS\",\n",
    "    \"PV5MFIS\",\n",
    "    \"PV1SYC\",\n",
    "    \"PV2SYC\",\n",
    "    \"PV3SYC\",\n",
    "    \"PV4SYC\",\n",
    "    \"PV5SYC\",\n",
    "]"
   ]
  },
  {
   "cell_type": "code",
   "execution_count": null,
   "metadata": {},
   "outputs": [],
   "source": [
    "egd10 = egd10[selected_features + targets]"
   ]
  },
  {
   "cell_type": "markdown",
   "metadata": {},
   "source": [
    "### Tratamiento y limpieza de datos\n"
   ]
  },
  {
   "cell_type": "markdown",
   "metadata": {},
   "source": [
    "Tenemos una gran cantidad de variables, muchas de estas se refieren a lo mismo y hay demasiada redundancia de datos por estructuras de variables del dataset como las \"checkboxes\". Adicionalmente, tendremos que tratar los valores nulos de cada una de las variables que vayamos a tener en cuenta. Empezaremos por esto último."
   ]
  },
  {
   "cell_type": "markdown",
   "metadata": {},
   "source": [
    "#### Tratamiento de valores nulos"
   ]
  },
  {
   "cell_type": "markdown",
   "metadata": {},
   "source": [
    "Debemos prestar especial atención a los valores por defecto.  \n",
    "Actualmente, las variables de ayuda parecen representar preguntas de tipo \"sí o no\", donde el valor por defecto se interpreta como \"no\". Por lo tanto, estos \"no\" deben considerarse adecuadamente y no descartarse. Para tratarlos, realizaremos una reducción de dimensionalidad, unificando todas las variables de ayuda en una sola. Explicaremos esto posterioremente en profundidad.  \n",
    "Por el momento eliminaremos los valores nulos."
   ]
  },
  {
   "cell_type": "markdown",
   "metadata": {},
   "source": [
    "Primeramente haremos un recuento de ellos para el caso de `selected_features`:"
   ]
  },
  {
   "cell_type": "code",
   "execution_count": null,
   "metadata": {},
   "outputs": [],
   "source": [
    "pca_help_variables = [\n",
    "    \"S19A\",\n",
    "    \"S19B\",\n",
    "    \"S19C\",\n",
    "    \"S19D\",\n",
    "    \"S19E\",\n",
    "    \"S19F\",\n",
    "]\n",
    "pca_mother_interest_variables = [\n",
    "    \"S31B\",\n",
    "    \"S31C\",\n",
    "    \"S31D\",\n",
    "    \"S31E\",\n",
    "    \"S31F\",\n",
    "    \"S31G\",\n",
    "    \"S31H\",\n",
    "]\n",
    "pca_father_interest_variables = [\n",
    "    \"S32B\",\n",
    "    \"S32C\",\n",
    "    \"S32D\",\n",
    "    \"S32E\",\n",
    "    \"S32F\",\n",
    "    \"S32G\",\n",
    "    \"S32H\",\n",
    "]\n",
    "\n",
    "# Imprimir valores nulos y valores por defecto\n",
    "print(f\"EGD 10 help nulls:\\n{egd10[pca_help_variables].isnull().sum()}\\n\")\n",
    "print(f\"EGD 10 help default values:\\n{egd10[pca_help_variables].eq(9).sum()}\\n\")\n",
    "\n",
    "print(\n",
    "    f\"EGD 10 mother interest nulls:\\n{egd10[pca_mother_interest_variables].isnull().sum()}\\n\"\n",
    ")\n",
    "print(\n",
    "    f\"EGD 10 mother interest default values:\\n{egd10[pca_mother_interest_variables].eq(9).sum()}\\n\"\n",
    ")\n",
    "\n",
    "print(\n",
    "    f\"EGD 10 father interest nulls:\\n{egd10[pca_father_interest_variables].isnull().sum()}\\n\"\n",
    ")\n",
    "print(\n",
    "    f\"EGD 10 father interest default values:\\n{egd10[pca_father_interest_variables].eq(9).sum()}\\n\"\n",
    ")"
   ]
  },
  {
   "cell_type": "markdown",
   "metadata": {},
   "source": [
    "En el caso de `pca_father_interest_variables` y `pca_mother_interest_variables`, el valor \"9\" está correctamente definido para \"No contesta\", por lo que podemos tratarlo como un nulo con normalidad:\n"
   ]
  },
  {
   "cell_type": "code",
   "execution_count": null,
   "metadata": {},
   "outputs": [],
   "source": [
    "variables = pca_father_interest_variables + pca_mother_interest_variables\n",
    "egd10[variables] = egd10[variables].replace(9, pd.NA)"
   ]
  },
  {
   "cell_type": "markdown",
   "metadata": {},
   "source": [
    "A continuación, eliminamos las instancias con valores nulos:"
   ]
  },
  {
   "cell_type": "code",
   "execution_count": null,
   "metadata": {},
   "outputs": [],
   "source": [
    "egd10.dropna(subset=selected_features, inplace=True)"
   ]
  },
  {
   "cell_type": "markdown",
   "metadata": {},
   "source": [
    "Para el caso de las variables de `targets`, realizaremos un tratamiento de las mismas que se ocupará de lidiar con estos valores nulos en el siguiente apartado, por lo tanto lo ignoraremos por el momento."
   ]
  },
  {
   "cell_type": "markdown",
   "metadata": {},
   "source": [
    "#### Tratamiento de las variables"
   ]
  },
  {
   "cell_type": "markdown",
   "metadata": {},
   "source": [
    "Con el principal objetivo de reducir la dimensionalidad de las variables y mejorar la claridad de las mismas de cara a evaluar posteriormente la hipótesis, realizaremos el siguiente tratamiento de los datos.  "
   ]
  },
  {
   "cell_type": "markdown",
   "metadata": {},
   "source": [
    "Comenzaremos con las variables de `target` referentes a las calificaciones:  \n",
    "\n",
    "En este caso, realizaremos una media aritmética. Esto nos facilita el manejo de la variable objetivo y nos trata de manera automática los valores nulos con la función mean(), ignorándolos.\n",
    "Esto tiene sentido, ya que en un caso hipotético de que algún alumno no cursara alguna asignatura por convalidación o cualquier otra razón, la nota media no tendría en cuenta esa asignatura en concreto."
   ]
  },
  {
   "cell_type": "code",
   "execution_count": null,
   "metadata": {},
   "outputs": [],
   "source": [
    "egd10.loc[:, \"Nota_Media\"] = egd10[targets].mean(axis=1)\n",
    "egd10.loc[:, \"Nota_Media\"] = egd10[\"Nota_Media\"].apply(lambda x: x / 100)"
   ]
  },
  {
   "cell_type": "markdown",
   "metadata": {},
   "source": [
    "Eliminamos las instancias con valores de nota completamente nulos:"
   ]
  },
  {
   "cell_type": "code",
   "execution_count": null,
   "metadata": {},
   "outputs": [],
   "source": [
    "print(f\"Sin nota: {egd10[\"Nota_Media\"].isnull().sum()}\")\n",
    "egd10.dropna(subset=[\"Nota_Media\"], inplace=True)"
   ]
  },
  {
   "cell_type": "markdown",
   "metadata": {},
   "source": [
    "Continuaremos con las referentes a la ayuda recibida:  \n",
    "\n",
    "En este caso, tenemos un grupo de variables de tipo \"checkbox\". Este grupo de variables funciona de la siguiente manera:  \n",
    "(A la izquierda está escrita la variable y a la derecha los valores que puede tomar)\n",
    "\n",
    "- **`S19A`** -> `1` o `9`\n",
    "- **`S19B`** -> `2` o `9`\n",
    "- **`S19C`** -> `3` o `9`\n",
    "- **`S19D`** -> `4` o `9`\n",
    "- **`S19E`** -> `5` o `9`\n",
    "- **`S20E`** -> `6` o `9`\n",
    "\n",
    "Los valores tienen el siguiente significado:  \n",
    "- `1, 2, 3, 4`,`5` o `6` indican \"Sí\".  \n",
    "- `9` indica \"No\".\n",
    "\n",
    "Aunque estas variables deberían ser booleanas, en el dataset no lo son, lo que complica su entendimiento y su manipulación. Por lo tanto, sería recomendable transformarlas para facilitar su análisis.\n"
   ]
  },
  {
   "cell_type": "markdown",
   "metadata": {},
   "source": [
    "Por lo tanto, realizaremos una media aritmética ponderada, otorgándole más peso a las ayudas más relevantes o de más calidad, para unificar todo este grupo de variables en una característica que represente el **prcentaje total de ayuda recibida**:"
   ]
  },
  {
   "cell_type": "code",
   "execution_count": null,
   "metadata": {},
   "outputs": [],
   "source": [
    "# Eliminar S19F, que representa que el alumno no recibió ningun tipo de ayuda (Esto se puede calcular observando si el resto de variables es 9)\n",
    "important_help_variables = [\n",
    "    \"S19A\",\n",
    "    \"S19B\",\n",
    "    \"S19C\",\n",
    "    \"S19D\",\n",
    "    \"S19E\",\n",
    "]\n",
    "\n",
    "# Pesos asignados a cada variable en función a la calidad o importancia de la auyda\n",
    "pesos = {\n",
    "    \"S19A\": 2,  # Importancia media\n",
    "    \"S19B\": 2,  # Importancia media\n",
    "    \"S19C\": 1,  # Importancia baja\n",
    "    \"S19D\": 3,  # Importancia alta\n",
    "    \"S19E\": 3,  # Importancia alta\n",
    "}\n",
    "\n",
    "# Función para calcular el porcentaje de ayuda ponderado\n",
    "def calcular_porcentaje_ponderado(fila):\n",
    "    suma_ponderada = sum((fila[var] != 9) * pesos[var] for var in pesos)\n",
    "    suma_pesos = sum(pesos.values())\n",
    "    return suma_ponderada / suma_pesos\n",
    "\n",
    "\n",
    "# Aplicar la función a cada fila del DataFrame\n",
    "egd10.loc[:, \"Porcentaje_Ayuda\"] = egd10.apply(calcular_porcentaje_ponderado, axis=1)\n",
    "\n",
    "# Mostrar el resultado\n",
    "print(egd10[\"Porcentaje_Ayuda\"])"
   ]
  },
  {
   "cell_type": "markdown",
   "metadata": {},
   "source": [
    "Para los grupos de variables `pca_father_interest_variables` y `pca_mother_interest_variables`, haremos un promedio y lo normalizaremos para que quede en modo de porcentaje. Esto tiene sentido ya que, en cierto modo, las variables del grupo deberían estar correlacionadas, pues los valores que estas pueden adquirir son los siguientes:\n",
    "\n",
    "- **1** -> Nunca o casi nunca  \n",
    "- **2** -> Algunas veces  \n",
    "- **3** -> Casi siempre  \n",
    "- **4** -> Siempre  \n",
    "\n",
    "Estos valores siguen un criterio de ordenación, por lo que podemos observar claramente la correlación.\n"
   ]
  },
  {
   "cell_type": "code",
   "execution_count": null,
   "metadata": {},
   "outputs": [],
   "source": [
    "import seaborn as sns\n",
    "import matplotlib.pyplot as plt\n",
    "\n",
    "# Calcular la matriz de correlación (ignorando los NaN)\n",
    "correlation_matrix = egd10[pca_mother_interest_variables].corr()\n",
    "\n",
    "# Visualizar la matriz de correlación con un heatmap\n",
    "plt.figure(figsize=(10, 8))\n",
    "sns.heatmap(\n",
    "    correlation_matrix,\n",
    "    annot=True,  # Mostrar los valores de correlación en el heatmap\n",
    "    cmap=\"coolwarm\",\n",
    "    vmin=-1,\n",
    "    vmax=1,\n",
    ")\n",
    "plt.title(\"Matriz de Correlación - Relación con la Madre\")\n",
    "plt.show()"
   ]
  },
  {
   "cell_type": "markdown",
   "metadata": {},
   "source": [
    "Observamos en la mayoría de los casos un nivel medio-alto de correlación entre variables. Procedemos a unificarlas de la manera comentada anterioremente:"
   ]
  },
  {
   "cell_type": "code",
   "execution_count": null,
   "metadata": {},
   "outputs": [],
   "source": [
    "import numpy as np\n",
    "\n",
    "# Calcular promedio normalizado de la relación con la madre\n",
    "egd10[\"Relacion_Madre_Promedio\"] = (\n",
    "    egd10[pca_mother_interest_variables].mean(axis=1, skipna=True) - 1\n",
    ") / (4 - 1)\n",
    "\n",
    "# Calcular promedio normalizado de la relación con el padre\n",
    "egd10[\"Relacion_Padre_Promedio\"] = (\n",
    "    egd10[pca_father_interest_variables].mean(axis=1, skipna=True) - 1\n",
    ") / (4 - 1)\n",
    "\n",
    "# Redondear a dos decimales\n",
    "egd10[\"Relacion_Madre_Promedio\"] = egd10[\"Relacion_Madre_Promedio\"].map(\"{:.2f}\".format)\n",
    "egd10[\"Relacion_Padre_Promedio\"] = egd10[\"Relacion_Padre_Promedio\"].map(\"{:.2f}\".format)\n",
    "\n",
    "\n",
    "# Mostrar los datos\n",
    "print(egd10[\"Relacion_Madre_Promedio\"].head())\n",
    "print(egd10[\"Relacion_Padre_Promedio\"].head())"
   ]
  },
  {
   "cell_type": "markdown",
   "metadata": {},
   "source": [
    "### Características de la tarjeta de datos\n"
   ]
  },
  {
   "cell_type": "markdown",
   "metadata": {},
   "source": [
    "El nuevo dataset generado, `tarjeta_H1`, representa una versión refinada y simplificada de los datos originales, obtenida a través de la transformación y selección de las características más relevantes para la hipotésis que nos atañe en este caso.  \n",
    "Las transformaciones empleada en las características de importancia seleccionadas ha sido principalmente la reducción de la dimensionalidad mediante métricas agregadas, como medias y medias ponderadas, y la conversión de tipos de datos para facilitar la posterior comprobación de la hipótesis."
   ]
  },
  {
   "cell_type": "code",
   "execution_count": null,
   "metadata": {},
   "outputs": [],
   "source": [
    "# Filtrar las columnas deseadas\n",
    "egd10_h1 = egd10[[\"Porcentaje_Ayuda\", \"Relacion_Madre_Promedio\", \"Relacion_Padre_Promedio\", \"Nota_Media\"]]\n",
    "\n",
    "# Guardar el nuevo DataFrame en un archivo CSV\n",
    "egd10_h1.to_csv(\"data/tarjeta_H1.csv\", index=False, float_format=\"%.2f\")"
   ]
  },
  {
   "cell_type": "markdown",
   "metadata": {},
   "source": [
    "Las variables finales del dataset son:\n",
    "- `Porcentaje Ayuda`: porcentaje de ayuda recibida por el estudiante\n",
    "- `Relacion_Madre_Promedio`: porcentaje de apoyo o interés de la madre por los estudios del alumno\n",
    "- `Relacion_Padre_Promedio`: porcentaje de apoyo o interés del padre por los estudios del alumno\n",
    "- `Nota Media`: nota media del estudiante\n",
    "\n",
    "Sin valores nulos ni valores por defecto."
   ]
  },
  {
   "cell_type": "markdown",
   "metadata": {},
   "source": [
    "### Líneas de Trabajo\n"
   ]
  },
  {
   "cell_type": "markdown",
   "metadata": {},
   "source": [
    "Para validar la hipótesis de que la ayuda con los deberes influye en el rendimiento académico, se podría realizar un análisis de correlación entre las variables que reflejan la ayuda recibida por los estudiantes y sus calificaciones. Alternativamente, podrían emplearse técnicas de clustering para identificar agrupaciones de estudiantes en función de los niveles de ayuda y su impacto en el desempeño académico.\n",
    "\n",
    "Este análisis permitirá determinar si existe una relación estadísticamente significativa entre ambas variables, así como evaluar la magnitud de dicha relación.\n"
   ]
  },
  {
   "cell_type": "markdown",
   "metadata": {},
   "source": [
    "### Validacíon de hipótesis"
   ]
  },
  {
   "cell_type": "code",
   "execution_count": null,
   "metadata": {},
   "outputs": [],
   "source": [
    "# Análisis de correlación\n",
    "correlation_matrix = egd10_h1.corr()\n",
    "\n",
    "# Visualizar la matriz de correlación con un heatmap\n",
    "plt.figure(figsize=(10, 8))\n",
    "sns.heatmap(\n",
    "    correlation_matrix,\n",
    "    annot=True,  # Mostrar los valores de correlación en el heatmap\n",
    "    cmap=\"coolwarm\",\n",
    "    vmin=-1,\n",
    "    vmax=1,\n",
    ")\n",
    "plt.title(\"Matriz de Correlación - Relación con la Madre\")\n",
    "plt.show()"
   ]
  },
  {
   "cell_type": "markdown",
   "metadata": {},
   "source": [
    "El análisis de correlación realizado sobre el dataset indica que no existe una relación significativa entre las variables relacionadas con la ayuda o el apoyo parental y el rendimiento académico (medido como Nota Media). A continuación, se resumen las principales observaciones:\n",
    "\n",
    "1. **Porcentaje de Ayuda y Nota Media:** La correlación es negativa y muy baja (-0.076), lo que sugiere que el nivel de ayuda recibido por los estudiantes no tiene un impacto claro en su desempeño académico.\n",
    "\n",
    "2. **Relación con la Madre y Nota Media:** La correlación es prácticamente nula (-0.011), lo que indica que el apoyo percibido de la madre no muestra una asociación directa con las notas.\n",
    "\n",
    "3. **Relación con el Padre y Nota Media:** Similar al caso anterior, la correlación es muy baja (-0.014), mostrando una falta de relación significativa.\n",
    "\n",
    "#### Interpretación\n",
    "Estos resultados sugieren que las variables incluidas en el análisis no son predictores fuertes del rendimiento académico. Esto podría deberse a:\n",
    "\n",
    "- La existencia de otros factores más relevantes que no están considerados en el dataset, como motivación intrínseca, entorno escolar o socioeconómico.\n",
    "- La posibilidad de que la relación entre estas variables y las notas no sea lineal.\n",
    "\n",
    "#### Conclusión \n",
    "Con base en este análisis, no se valida la hipótesis inicial de que los estudiantes que reciben ayuda con los deberes de padres, hermanos o profesores particulares tienen un mejor rendimiento académico."
   ]
  }
 ],
 "metadata": {
  "language_info": {
   "name": "python"
  }
 },
 "nbformat": 4,
 "nbformat_minor": 2
}
