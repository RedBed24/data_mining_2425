{
 "cells": [
  {
   "cell_type": "markdown",
   "metadata": {},
   "source": [
    "## Impacto de la situación laboral de los padres en el rendimiento académico\n",
    "\n",
    "**- Hipótesis:**\n",
    "*Los estudiantes cuyos padres tienen una situación laboral estable o más estudios formales obtienen mejores resultados académicos en comparación con aquellos cuyos padres tienen menos estudios o están desempleados.*"
   ]
  },
  {
   "cell_type": "markdown",
   "metadata": {},
   "source": [
    "### Selección de datos\n"
   ]
  },
  {
   "cell_type": "markdown",
   "metadata": {},
   "source": [
    "Como en el resto de hipótesis, debemos seleccionar las notas de los estudiantes.\n",
    "En este caso también necesitaremos la situación laboral de los padres y su nivel de educación.\n"
   ]
  },
  {
   "cell_type": "markdown",
   "metadata": {
    "vscode": {
     "languageId": "plaintext"
    }
   },
   "source": [
    "**Variables seleccionadas para `egd09`:**\n",
    "\n",
    "- `PF15`: Profesión de la madre\n",
    "- `PF16`: Estudios de la madre\n",
    "- `PF17`: Situación laboral de la madre\n",
    "- `PF19`: Profesión del padre\n",
    "- `PF20`: Estudios del padre\n",
    "- `PF21`: Situación laboral del padre\n"
   ]
  },
  {
   "cell_type": "markdown",
   "metadata": {},
   "source": [
    "Como ya hemos mencionado en hipótesis anteriores, el conjunto de datos `egd09` incluye variables correspondientes a los cuestionarios realizados tanto por los alumnos como por sus padres.\n",
    "En esta hipótesis, nos centraremos en el cuestionario completado por los padres, dado que consideramos que tienen una perspectiva más precisa en comparación con sus hijos.\n"
   ]
  },
  {
   "cell_type": "markdown",
   "metadata": {},
   "source": [
    "Es importante señalar que, para esta hipótesis, no se considerarán variables del conjunto de datos `egd10`. Esta decisión se basa en la intención de simplificar el análisis y la manipulación de los datos, priorizando el uso de las variables del dataset `egd09`, que se consideran más fiables al tratarse de información recopilada directamente por los padres.\n",
    "\n",
    "Asimismo, resulta interesante evaluar esta hipótesis en niños de menor edad, dado que la situación económica de los padres podría tener un impacto más significativo en esta etapa de desarrollo, en comparación con adolescentes, quienes podrían estar más habituados a dicha situación."
   ]
  },
  {
   "cell_type": "code",
   "execution_count": null,
   "metadata": {},
   "outputs": [],
   "source": [
    "import pandas as pd"
   ]
  },
  {
   "cell_type": "code",
   "execution_count": null,
   "metadata": {},
   "outputs": [],
   "source": [
    "# Load the data from the Excel file\n",
    "# WARNING TAKES A LONG TIME\n",
    "# only loads the first sheet, thats the one that contains the data\n",
    "# other sheets contain metadata\n",
    "egd09 = pd.read_excel(\"data/EGD09.xlsx\")"
   ]
  },
  {
   "cell_type": "code",
   "execution_count": null,
   "metadata": {},
   "outputs": [],
   "source": [
    "selected_features = [\n",
    "    \"PF15\",\n",
    "    \"PF16\",\n",
    "    \"PF17\",\n",
    "    \"PF19\",\n",
    "    \"PF20\",\n",
    "    \"PF21\",\n",
    "]\n",
    "targets = [\n",
    "    \"PV1ling\",\n",
    "    \"PV2ling\",\n",
    "    \"PV3ling\",\n",
    "    \"PV4ling\",\n",
    "    \"PV5ling\",\n",
    "    \"PV1mat\",\n",
    "    \"PV2mat\",\n",
    "    \"PV3mat\",\n",
    "    \"PV4mat\",\n",
    "    \"PV5mat\",\n",
    "    \"PV1mfis\",\n",
    "    \"PV2mfis\",\n",
    "    \"PV3mfis\",\n",
    "    \"PV4mfis\",\n",
    "    \"PV5mfis\",\n",
    "    \"PV1syc\",\n",
    "    \"PV2syc\",\n",
    "    \"PV3syc\",\n",
    "    \"PV4syc\",\n",
    "    \"PV5syc\",\n",
    "]"
   ]
  },
  {
   "cell_type": "code",
   "execution_count": null,
   "metadata": {},
   "outputs": [],
   "source": [
    "egd09 = egd09[selected_features + targets]"
   ]
  },
  {
   "cell_type": "markdown",
   "metadata": {},
   "source": [
    "### Tratamiento y limpieza de datos\n"
   ]
  },
  {
   "cell_type": "markdown",
   "metadata": {},
   "source": [
    "El tratamiento para esta hipótesis es muy simple:  \n",
    "En primer lugar, para los targets, tomaremos la media de las calificaciones como en la hipótesis 1.  \n",
    "Para las variables de la situación laboral de los padres, al ser un número pequeño, no es necesario hacer un tratamiento especial.\n",
    "Sólo eliminaremos los valores nulos y por defecto, que en este caso no nos interesan.\n"
   ]
  },
  {
   "cell_type": "markdown",
   "metadata": {},
   "source": [
    "#### Tratamiento de valores nulos"
   ]
  },
  {
   "cell_type": "code",
   "execution_count": null,
   "metadata": {},
   "outputs": [],
   "source": [
    "print(f\"Removing {egd09.isna().sum().sum()} rows with missing values\")\n",
    "egd09.dropna(inplace=True)"
   ]
  },
  {
   "cell_type": "code",
   "execution_count": null,
   "metadata": {},
   "outputs": [],
   "source": [
    "print(f'Removing {egd09[[\"PF15\", \"PF19\"]].isin([99]).sum().sum() + egd09[[\"PF16\", \"PF17\", \"PF19\", \"PF20\", \"PF21\"]].isin([9]).sum().sum()} rows with default values')\n",
    "egd09 = egd09[(egd09[[\"PF15\", \"PF19\"]] != 99).all(axis=1)]\n",
    "egd09 = egd09[\n",
    "    (egd09[[\"PF16\", \"PF17\", \"PF19\", \"PF20\", \"PF21\"]] != 9).all(axis=1)\n",
    "]"
   ]
  },
  {
   "cell_type": "markdown",
   "metadata": {},
   "source": [
    "En las columnas de la situación laboral de los padres, hay otro tipo de valores con comportamientos similares a los valores por defecto, como el \"no sabe\", representado por el valor 13. Los eliminamos de la misma manera:"
   ]
  },
  {
   "cell_type": "code",
   "execution_count": null,
   "metadata": {},
   "outputs": [],
   "source": [
    "print(f'Removing {egd09[[\"PF15\", \"PF19\"]].isin([13]).sum().sum()} rows with default values')\n",
    "egd09 = egd09[(egd09[[\"PF15\", \"PF19\"]] != 13).all(axis=1)]"
   ]
  },
  {
   "cell_type": "code",
   "execution_count": null,
   "metadata": {},
   "outputs": [],
   "source": [
    "egd09[selected_features] = egd09[selected_features].astype(int).astype(\"category\")"
   ]
  },
  {
   "cell_type": "markdown",
   "metadata": {},
   "source": [
    "#### Tratamiento de las variables"
   ]
  },
  {
   "cell_type": "markdown",
   "metadata": {},
   "source": [
    "Para el caso de las variables del grupo `target`, seguiremos la misma estrategia que en la hipótesis 1:"
   ]
  },
  {
   "cell_type": "code",
   "execution_count": null,
   "metadata": {},
   "outputs": [],
   "source": [
    "egd09.loc[:, \"Nota_Media\"] = egd09[targets].mean(axis=1)\n",
    "egd09.drop(targets, axis=1, inplace=True)\n",
    "egd09.loc[:, \"Nota_Media\"] = egd09[\"Nota_Media\"].apply(lambda x: x / 100)"
   ]
  },
  {
   "cell_type": "markdown",
   "metadata": {},
   "source": [
    "### Características de la tarjeta de datos\n"
   ]
  },
  {
   "cell_type": "markdown",
   "metadata": {},
   "source": [
    "El nuevo dataset generado, `tarjeta_H2`, representa una versión refinada y simplificada de los datos originales, obtenida a través de la transformación y selección de las características más relevantes para la hipotésis que nos atañe en este caso.  \n",
    "Las transformaciñon empleada en las características de importancia seleccionadas ha sido principalmente la reducción de la dimensionalidad.\n",
    "\n"
   ]
  },
  {
   "cell_type": "code",
   "execution_count": null,
   "metadata": {},
   "outputs": [],
   "source": [
    "# Guardar el nuevo DataFrame en un archivo CSV\n",
    "egd09.to_csv(\"data/tarjeta_H2.csv\", index=False, float_format=\"%.2f\")"
   ]
  },
  {
   "cell_type": "markdown",
   "metadata": {},
   "source": [
    "Las variables finales son:\n",
    "\n",
    "- `PF15`: Profesión de la madre\n",
    "- `PF16`: Estudios de la madre\n",
    "- `PF17`: Situación laboral de la madre\n",
    "- `PF19`: Profesión del padre\n",
    "- `PF20`: Estudios del padre\n",
    "- `PF21`: Situación laboral del padre\n",
    "- `Nota_Media`: Nota media de los estudiantes\n",
    "\n",
    "Sin valores nulos ni valores por defecto.\n",
    "\n",
    "Las variables `PF16` y `PF20` presentan valores organizados de manera ordinal, de menor a mayor nivel educativo. Este orden permite realizar comparaciones jerárquicas en función del nivel de estudios de los padres.\n",
    "\n",
    "En contraste, las variables relacionadas con la situación laboral y las profesiones de los padres no presentan un orden implícito entre sus categorías. Por lo tanto, estas deben tratarse como variables categóricas no ordinales. Esto diferencia su análisis del de las variables educativas, en las cuales sí es posible establecer una comparación basada en el nivel de estudios.\n",
    "\n"
   ]
  },
  {
   "cell_type": "markdown",
   "metadata": {},
   "source": [
    "### Líneas de Trabajo\n",
    "\n",
    "Para validar la hipótesis de que las características laborales y educativas de los padres influyen en el rendimiento académico de sus hijos, podríamos realizar un análisis de correlación entre las variables relacionadas con el nivel educativo y la situación laboral de los padres y las calificaciones promedio de los estudiantes.\n",
    "\n",
    "Además, podríamos complementar este análisis utilizando técnicas como el clustering para identificar patrones en los datos y determinar si existen grupos distintivos en función de estas características parentales.\n",
    "Este enfoque permitirá evaluar si existe una relación estadísticamente significativa y medir la magnitud de dicha influencia.\n"
   ]
  },
  {
   "cell_type": "markdown",
   "metadata": {},
   "source": [
    "### Validación de hipótesis"
   ]
  },
  {
   "cell_type": "markdown",
   "metadata": {},
   "source": [
    "Haremos un análisis de correlación entre las variables seleccionadas y la nota media de los estudiantes para evaluar la relación entre la situación laboral y educativa de los padres y el rendimiento académico de sus hijos.\n",
    "\n",
    "Finalmente, evaluaremos la significancia estadística de estas relaciones mediante pruebas de hipótesis y análisis de varianza (ANOVA) para determinar si existen diferencias significativas en las calificaciones promedio en función de las características parentales seleccionadas.\n",
    "\n",
    "También exploraremos visualmente la distribución de las notas medias en función de las variables de interés para identificar posibles patrones o tendencias."
   ]
  },
  {
   "cell_type": "markdown",
   "metadata": {},
   "source": [
    "#### Estudio de correlación"
   ]
  },
  {
   "cell_type": "code",
   "execution_count": null,
   "metadata": {},
   "outputs": [],
   "source": [
    "import matplotlib.pyplot as plt\n",
    "import seaborn as sns"
   ]
  },
  {
   "cell_type": "code",
   "execution_count": null,
   "metadata": {},
   "outputs": [],
   "source": [
    "# Calcular la matriz de correlación\n",
    "c_matrix = egd09[selected_features].corr()\n",
    "\n",
    "# Imprimir la matriz de correlación\n",
    "plt.figure(figsize=(10, 8))\n",
    "sns.heatmap(c_matrix, square=True, annot=True, cmap=\"coolwarm\", cbar=True)\n",
    "plt.title(\"Matriz de Correlación de Características Seleccionadas\")\n",
    "plt.show()"
   ]
  },
  {
   "cell_type": "markdown",
   "metadata": {},
   "source": [
    "Podemos ver que exiten ciertas relaciones entre las variables seleccionadas, en concreto, entre las variables de los niveles de estudios de ambos padres.\n",
    "\n",
    "También exite gran correlación entre los estudios de la madre y su trabajo.\n",
    "Cabe destacar que es una relación inversa ya que los valores del nivel de estudios son crecientes mientras que los de la situación laboral son \"decrecientes\".\n",
    "\n",
    "La otra relación notable es entre la situación laboral de la madre y su profesión cosa que tiene sentido, aunque es interesante que no se de en el caso del padre, al igual que en el caso anterior."
   ]
  },
  {
   "cell_type": "markdown",
   "metadata": {},
   "source": [
    "Para las variabes PF15 y PF19, los valores posibles son:\n",
    "\n",
    "- 1\tEmp. con asalariados, altos funcionarios, altos ejecutivos\n",
    "- 2\tMedianos emp., profesionales y técnicos por cuenta propia\n",
    "- 3\tComerciantes y pequeños empresarios y cuadros medios\n",
    "- 4\tPersonal administrativo, comercial y de servicios\n",
    "- 5\tObreros cualificados (no agrarios)\n",
    "- 6\tAgricultores y miembros de cooperativas\n",
    "- 7\tObreros no cualificados\n",
    "- 8\tJubilados y pensionistas\n",
    "- 9\tParados\n",
    "- 10\tEstudiantes\n",
    "- 11\tSus labores\n",
    "- 12\tSituaciones no clasificables\n"
   ]
  },
  {
   "cell_type": "markdown",
   "metadata": {},
   "source": [
    "Para PF16 y PF20:\n",
    "\n",
    "- 1\tSin estudios\n",
    "- 2\tNo completó estudios obligatorios EGB ESO\n",
    "- 3\tEstudios obligatorios (ESO,EGB)\n",
    "- 4\tBachillerato\n",
    "- 5\tFormación Profesional o equiv.\n",
    "- 6\tUniversitarios medios\n",
    "- 7\tUniversitarios superiores\n"
   ]
  },
  {
   "cell_type": "markdown",
   "metadata": {},
   "source": [
    "Estas están bien ordenadas, un valor inferior corresponde a estudios inferiores."
   ]
  },
  {
   "cell_type": "markdown",
   "metadata": {},
   "source": [
    "Para PF17 y PF21:\n",
    "\n",
    "- 1\tTrabaja fuera de casa por cuenta propia\n",
    "- 2\tTrabaja fuera de casa por cuenta ajena\n",
    "- 3\tTrabaja en casa de forma remunerada por cuenta propia\n",
    "- 4\tTrabaja en casa de manera remunerada por cuenta ajena\n",
    "- 5\tEstá en paro\n",
    "- 6\tEstá jubilada\n",
    "- 7\tTrabaja haciendo las tareas de casa\n"
   ]
  },
  {
   "cell_type": "markdown",
   "metadata": {},
   "source": [
    "#### Estudio de la importancia de las variables"
   ]
  },
  {
   "cell_type": "markdown",
   "metadata": {},
   "source": [
    "En este apartado usaremos un modelo de Random Forest para estudiar la importancia de las variables en el rendimiento académico de los estudiantes.\n",
    "Esto es posible gracias a que el modelo de Random Forest es capaz de evaluar la importancia de las variables en la predicción del target mediante el cálculo de la ganancia de información."
   ]
  },
  {
   "cell_type": "code",
   "execution_count": null,
   "metadata": {},
   "outputs": [],
   "source": [
    "# Comprobar las características más importantes según un Random Forest\n",
    "from sklearn.ensemble import RandomForestRegressor\n",
    "\n",
    "# Crear un Regressor de Random Forest\n",
    "rf_importance = RandomForestRegressor(n_estimators=100la situación laboral0, random_state=42)\n",
    "\n",
    "# Entrenar el modelo\n",
    "rf_importance.fit(egd09.drop([\"Nota_Media\"], axis=1), egd09[\"Nota_Media\"])\n",
    "\n",
    "# Obtener la importancia de las características\n",
    "importances = rf_importance.feature_importances_\n",
    "\n",
    "# Crear un DataFrame con las características y su importancia\n",
    "feature_importances = pd.DataFrame({'feature': egd09.drop([\"Nota_Media\"], axis=1).columns, 'importance': importances})\n",
    "feature_importances = feature_importances.sort_values('importance', ascending=False).reset_index(drop=True)\n"
   ]
  },
  {
   "cell_type": "code",
   "execution_count": null,
   "metadata": {},
   "outputs": [],
   "source": [
    "# Representar la importancia de las características\n",
    "plt.figure(figsize=(10, 8))\n",
    "sns.barplot(x='importance', y='feature', data=feature_importances, hue='feature', palette='viridis')\n",
    "plt.title(\"Importancia de las Características\")\n",
    "plt.show()"
   ]
  },
  {
   "cell_type": "markdown",
   "metadata": {},
   "source": [
    "Podemos observar que la variable más importancia, con diferencia, son los estudios de la madre, seguido de la profesión de la madre."
   ]
  },
  {
   "cell_type": "markdown",
   "metadata": {},
   "source": [
    "Vamos a estudiar más a fondo la relación entre los estudios de la madre y el rendimiento académico de los estudiantes."
   ]
  },
  {
   "cell_type": "markdown",
   "metadata": {},
   "source": [
    "Empezaremos viendo la distribución de instancias de cada clase de los estudios de la madre.\n",
    "Esto nos permitirá ver si hay alguna clase que destaque sobre las demás."
   ]
  },
  {
   "cell_type": "code",
   "execution_count": null,
   "metadata": {},
   "outputs": [],
   "source": [
    "egd09[\"PF16\"].value_counts(sort=False)"
   ]
  },
  {
   "cell_type": "markdown",
   "metadata": {},
   "source": [
    "Ahora seguiremos con la distribución de las notas medias de los estudiantes en función de los estudios de la madre."
   ]
  },
  {
   "cell_type": "code",
   "execution_count": null,
   "metadata": {},
   "outputs": [],
   "source": [
    "plt.figure(figsize=(12, 8))\n",
    "sns.violinplot(x='PF16', y='Nota_Media', data=egd09, hue='PF16', legend=False, palette='muted')\n",
    "plt.title('Distribución de Nota_Media por Clases de PF16')\n",
    "plt.xlabel('Clases de PF16')\n",
    "plt.ylabel('Nota Media')\n",
    "plt.show()\n"
   ]
  },
  {
   "cell_type": "markdown",
   "metadata": {},
   "source": [
    "Podemos observar en el gráfico que sí existe una tendencia a que los estudiantes con madres con estudios superiores obtengan mejores notas.\n",
    "Las notas medias de los estudiantes aumentan a medida que el nivel de estudios de la madre es más alto.\n",
    "Aunque las distribuciones son muy aplanadas."
   ]
  },
  {
   "cell_type": "markdown",
   "metadata": {},
   "source": [
    "Ahora vamos a probar a crear un modelo de regresión para predecir la nota media de los estudiantes en función las variables más importantes y que no estén altamente correlacionadas."
   ]
  },
  {
   "cell_type": "code",
   "execution_count": null,
   "metadata": {},
   "outputs": [],
   "source": [
    "drop_features = [\n",
    "    \"PF17\",\n",
    "    \"PF20\",\n",
    "]"
   ]
  },
  {
   "cell_type": "code",
   "execution_count": null,
   "metadata": {},
   "outputs": [],
   "source": [
    "from sklearn.model_selection import train_test_split\n",
    "from sklearn.model_selection import GridSearchCV\n",
    "from sklearn.utils import compute_sample_weight\n",
    "from sklearn.metrics import mean_squared_error, r2_score\n"
   ]
  },
  {
   "cell_type": "markdown",
   "metadata": {},
   "source": [
    "Dividiremos el dataset en train y test y entrenaremos el modelo.\n",
    "Usaremos el test para evaluar el modelo."
   ]
  },
  {
   "cell_type": "code",
   "execution_count": null,
   "metadata": {},
   "outputs": [],
   "source": [
    "X_train, X_test, y_train, y_test = train_test_split(egd09.drop(drop_features + [\"Nota_Media\"], inplace=True), egd09[\"Nota_Media\"], test_size=0.2, random_state=42)"
   ]
  },
  {
   "cell_type": "markdown",
   "metadata": {},
   "source": [
    "También haremos una búsqueda de hiperparámetros para mejorar el modelo."
   ]
  },
  {
   "cell_type": "code",
   "execution_count": null,
   "metadata": {},
   "outputs": [],
   "source": [
    "param_grid = {\n",
    "    'n_estimators': [300, 500],\n",
    "    'max_depth': [10, 20, 30, 40, 50],\n",
    "    'min_samples_split': [20, 50, 100],\n",
    "    'min_samples_leaf': [10, 20, 40],\n",
    "}\n",
    "sample_weights = compute_sample_weight(class_weight='balanced', y=y_train)\n",
    "\n",
    "rf_regressor = RandomForestRegressor(random_state=42)\n",
    "\n",
    "grid_search = GridSearchCV(estimator=rf_regressor, param_grid=param_grid, cv=3, n_jobs=-1)\n",
    "grid_search.fit(X_train, y_train, sample_weight=sample_weights)\n",
    "\n",
    "# Modelo con los mejores hiperparámetros\n",
    "best_rf = grid_search.best_estimator_\n",
    "y_pred = best_rf.predict(X_test)\n",
    "\n",
    "# Calcular el error cuadrático medio (MSE)\n",
    "mse = mean_squared_error(y_test, y_pred)\n",
    "\n",
    "# Calcular el coeficiente de determinación R^2\n",
    "r2 = r2_score(y_test, y_pred)\n",
    "\n",
    "# Mostrar los resultados\n",
    "print(f\"Error cuadrático medio (MSE): {mse}\")\n",
    "print(f\"Coeficiente de determinación (R^2): {r2}\")\n"
   ]
  },
  {
   "cell_type": "markdown",
   "metadata": {},
   "source": [
    "```\n",
    "Error cuadrático medio (MSE): 0.5371476373560035\n",
    "Coeficiente de determinación (R^2): 0.11137998961227213\n",
    "```\n",
    "\n",
    "No son buenos resultados, el valor R² es mejor que esté cercano a 1."
   ]
  },
  {
   "cell_type": "markdown",
   "metadata": {},
   "source": [
    "El modelo no es capaz de predecir correctamente la nota media de los estudiantes en función de las variables seleccionadas.\n"
   ]
  },
  {
   "cell_type": "markdown",
   "metadata": {},
   "source": [
    "### Interpretación de los resultados\n",
    "\n",
    "En resumen, hemos podido observar que existe una relación entre los estudios de la madre y el rendimiento académico de los estudiantes, aunque no es una relación directa y clara.\n",
    "\n",
    "Aunque los estudiantes con madres con estudios superiores tienden a obtener mejores notas, esta relación no es determinante y puede verse influenciada por otros factores.\n",
    "\n",
    "Además, la situación laboral de los padres no parece tener un impacto significativo en el rendimiento académico de los estudiantes, al menos en el contexto de este análisis.\n",
    "\n",
    "Por lo tanto, aunque la hipótesis inicial sugiere que la situación laboral y educativa de los padres influyen en el rendimiento académico de los estudiantes, los resultados obtenidos indican que esta relación es más compleja y está influenciada por múltiples factores.\n",
    "\n",
    "### Conclusiones\n",
    "\n",
    "Diremos que esta hipótesis no se cumple, ya que no se ha podido demostrar que la situación laboral de los padpadres influya en el rendimiento académico de los estudiantes.\n",
    "Esto es debido a que la variable más importante, los estudios de la madre, no es suficiente para predecir el rendimiento académico de los estudiantes.\n",
    "El modelo de predicción no ha sido capaz de estimar correctamente la nota media de los estudiantes en función de las variables seleccionadas."
   ]
  }
 ],
 "metadata": {
  "language_info": {
   "name": "python"
  }
 },
 "nbformat": 4,
 "nbformat_minor": 2
}
