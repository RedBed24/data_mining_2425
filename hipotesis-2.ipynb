{
 "cells": [
  {
   "cell_type": "markdown",
   "metadata": {},
   "source": [
    "# Impacto de la situación laboral de los padres en el rendimiento académico\n",
    "\n",
    "**- Hipótesis:**\n",
    "*Los estudiantes cuyos padres tienen una situación laboral estable o más estudios formales obtienen mejores resultados académicos en comparación con aquellos cuyos padres tienen menos estudios o están desempleados.*"
   ]
  },
  {
   "cell_type": "markdown",
   "metadata": {},
   "source": [
    "## Selección de datos\n"
   ]
  },
  {
   "cell_type": "markdown",
   "metadata": {},
   "source": [
    "Como en el resto de hipótesis, debemos seleccionar las notas de los estudiantes.\n",
    "En este caso también necesitaremos la situación laboral de los padres y su nivel de educación.\n"
   ]
  },
  {
   "cell_type": "markdown",
   "metadata": {
    "vscode": {
     "languageId": "plaintext"
    }
   },
   "source": [
    "**Variables seleccionadas para `egd09`:**\n",
    "\n",
    "- `PF15`: Profesión de la madre\n",
    "- `PF16`: Estudios de la madre\n",
    "- `PF17`: Situación laboral de la madre\n",
    "- `PF19`: Profesión del padre\n",
    "- `PF20`: Estudios del padre\n",
    "- `PF21`: Situación laboral del padre\n"
   ]
  },
  {
   "cell_type": "markdown",
   "metadata": {},
   "source": [
    "Como ya hemos mencionado en hipótesis anteriores, el conjunto de datos `egd09` incluye variables correspondientes a los cuestionarios realizados tanto por los alumnos como por sus padres.\n",
    "En esta hipótesis, nos centraremos en el cuestionario completado por los padres, dado que consideramos que tienen una perspectiva más precisa en comparación con sus hijos.\n"
   ]
  },
  {
   "cell_type": "markdown",
   "metadata": {},
   "source": [
    "Es importante señalar que, para esta hipótesis, no se considerarán variables del conjunto de datos `egd10`. Esta decisión se basa en la intención de simplificar el análisis y la manipulación de los datos, priorizando el uso de las variables del dataset `egd09`, que se consideran más fiables al tratarse de información recopilada directamente por los padres.\n",
    "\n",
    "Asimismo, resulta interesante evaluar esta hipótesis en niños de menor edad, dado que la situación económica de los padres podría tener un impacto más significativo en esta etapa de desarrollo, en comparación con adolescentes, quienes podrían estar más habituados a dicha situación."
   ]
  },
  {
   "cell_type": "code",
   "execution_count": null,
   "metadata": {},
   "outputs": [],
   "source": [
    "import pandas as pd"
   ]
  },
  {
   "cell_type": "code",
   "execution_count": null,
   "metadata": {},
   "outputs": [],
   "source": [
    "# Load the data from the Excel file\n",
    "# WARNING TAKES A LONG TIME\n",
    "# only loads the first sheet, thats the one that contains the data\n",
    "# other sheets contain metadata\n",
    "egd09 = pd.read_excel(\"data/EGD09.xlsx\")"
   ]
  },
  {
   "cell_type": "code",
   "execution_count": null,
   "metadata": {},
   "outputs": [],
   "source": [
    "selected_features = [\n",
    "    \"PF15\",\n",
    "    \"PF16\",\n",
    "    \"PF17\",\n",
    "    \"PF18\",\n",
    "    \"PF19\",\n",
    "    \"PF20\",\n",
    "    \"PF21\",\n",
    "]\n",
    "targets = [\n",
    "    \"PV1ling\",\n",
    "    \"PV2ling\",\n",
    "    \"PV3ling\",\n",
    "    \"PV4ling\",\n",
    "    \"PV5ling\",\n",
    "    \"PV1mat\",\n",
    "    \"PV2mat\",\n",
    "    \"PV3mat\",\n",
    "    \"PV4mat\",\n",
    "    \"PV5mat\",\n",
    "    \"PV1mfis\",\n",
    "    \"PV2mfis\",\n",
    "    \"PV3mfis\",\n",
    "    \"PV4mfis\",\n",
    "    \"PV5mfis\",\n",
    "    \"PV1syc\",\n",
    "    \"PV2syc\",\n",
    "    \"PV3syc\",\n",
    "    \"PV4syc\",\n",
    "    \"PV5syc\",\n",
    "]"
   ]
  },
  {
   "cell_type": "code",
   "execution_count": null,
   "metadata": {},
   "outputs": [],
   "source": [
    "egd09 = egd09[selected_features + targets]"
   ]
  },
  {
   "cell_type": "markdown",
   "metadata": {},
   "source": [
    "## Tratamiento y limpieza de datos\n"
   ]
  },
  {
   "cell_type": "markdown",
   "metadata": {},
   "source": [
    "El tratamiento para esta hipótesis es muy simple:  \n",
    "En primer lugar, para los targets, tomaremos la media de las calificaciones como en la hipótesis 1.  \n",
    "Para las variables de la situación laboral de los padres, al ser un número pequeño, no es necesario hacer un tratamiento especial.\n",
    "Sólo eliminaremos los valores nulos y por defecto, que en este caso no nos interesan.\n"
   ]
  },
  {
   "cell_type": "markdown",
   "metadata": {},
   "source": [
    "### Tratamiento de valores nulos"
   ]
  },
  {
   "cell_type": "code",
   "execution_count": null,
   "metadata": {},
   "outputs": [],
   "source": [
    "print(f\"Removing {egd09.isna().sum().sum()} rows with missing values\")\n",
    "egd09.dropna(inplace=True)"
   ]
  },
  {
   "cell_type": "code",
   "execution_count": null,
   "metadata": {},
   "outputs": [],
   "source": [
    "egd09[selected_features] = egd09[selected_features].astype(int).astype(\"category\")"
   ]
  },
  {
   "cell_type": "code",
   "execution_count": null,
   "metadata": {},
   "outputs": [],
   "source": [
    "print(f\"Removing {egd09[[\"PF15\", \"PF19\"]].isin([99]).sum().sum() + egd09[[\"PF16\", \"PF17\", \"PF18\", \"PF19\", \"PF20\", \"PF21\"]].isin([9]).sum().sum()} rows with default values\")\n",
    "egd09 = egd09[(egd09[[\"PF15\", \"PF19\"]] != 99).all(axis=1)]\n",
    "egd09 = egd09[\n",
    "    (egd09[[\"PF16\", \"PF17\", \"PF18\", \"PF19\", \"PF20\", \"PF21\"]] != 9).all(axis=1)\n",
    "]"
   ]
  },
  {
   "cell_type": "markdown",
   "metadata": {},
   "source": [
    "En las columnas de la situación laboral de los padres, hay otro tipo de valores con comportamientos similares a los valores por defecto, como el \"no sabe\", representado por el valor 13. Los eliminamos de la misma manera:"
   ]
  },
  {
   "cell_type": "code",
   "execution_count": null,
   "metadata": {},
   "outputs": [],
   "source": [
    "print(f\"Removing {egd09[[\"PF15\", \"PF19\"]].isin([13]).sum().sum()} rows with default values\")\n",
    "egd09 = egd09[(egd09[[\"PF15\", \"PF19\"]] != 13).all(axis=1)]"
   ]
  },
  {
   "cell_type": "markdown",
   "metadata": {},
   "source": [
    "### Tratamiento de las variables"
   ]
  },
  {
   "cell_type": "markdown",
   "metadata": {},
   "source": [
    "Para el caso de las variables del grupo `target`, seguiremos la misma estrategia que en la hipótesis 1:"
   ]
  },
  {
   "cell_type": "code",
   "execution_count": null,
   "metadata": {},
   "outputs": [],
   "source": [
    "egd09.loc[:, \"Nota_Media\"] = egd09[targets].mean(axis=1)\n",
    "egd09.drop(targets, axis=1, inplace=True)\n",
    "egd09.loc[:, \"Nota_Media\"] = egd09[\"Nota_Media\"].apply(lambda x: x / 100)"
   ]
  },
  {
   "cell_type": "markdown",
   "metadata": {},
   "source": [
    "## Características de la tarjeta de datos\n"
   ]
  },
  {
   "cell_type": "markdown",
   "metadata": {},
   "source": [
    "El nuevo dataset generado, `tarjeta_H2`, representa una versión refinada y simplificada de los datos originales, obtenida a través de la transformación y selección de las características más relevantes para la hipotésis que nos atañe en este caso.  \n",
    "Las transformaciñon empleada en las características de importancia seleccionadas ha sido principalmente la reducción de la dimensionalidad.\n",
    "\n"
   ]
  },
  {
   "cell_type": "code",
   "execution_count": null,
   "metadata": {},
   "outputs": [],
   "source": [
    "# Guardar el nuevo DataFrame en un archivo CSV\n",
    "egd09.to_csv(\"data/tarjeta_H2.csv\", index=False, float_format=\"%.2f\")"
   ]
  },
  {
   "cell_type": "markdown",
   "metadata": {},
   "source": [
    "Las variables finales son:\n",
    "\n",
    "- `PF15`: Profesión de la madre\n",
    "- `PF16`: Estudios de la madre\n",
    "- `PF17`: Situación laboral de la madre\n",
    "- `PF19`: Profesión del padre\n",
    "- `PF20`: Estudios del padre\n",
    "- `PF21`: Situación laboral del padre\n",
    "- `Nota_Media`: Nota media de los estudiantes\n",
    "\n",
    "Sin valores nulos ni valores por defecto.\n",
    "\n",
    "Las variables `PF16` y `PF20` presentan valores organizados de manera ordinal, de menor a mayor nivel educativo. Este orden permite realizar comparaciones jerárquicas en función del nivel de estudios de los padres.\n",
    "\n",
    "En contraste, las variables relacionadas con la situación laboral y las profesiones de los padres no presentan un orden implícito entre sus categorías. Por lo tanto, estas deben tratarse como variables categóricas no ordinales. Esto diferencia su análisis del de las variables educativas, en las cuales sí es posible establecer una comparación basada en el nivel de estudios.\n",
    "\n"
   ]
  },
  {
   "cell_type": "markdown",
   "metadata": {},
   "source": [
    "## Líneas de Trabajo\n",
    "\n",
    "Para validar la hipótesis de que las características laborales y educativas de los padres influyen en el rendimiento académico de sus hijos, podríamos realizar un análisis de correlación entre las variables relacionadas con el nivel educativo y la situación laboral de los padres y las calificaciones promedio de los estudiantes.\n",
    "\n",
    "Además, podríamos complementar este análisis utilizando técnicas como el clustering para identificar patrones en los datos y determinar si existen grupos distintivos en función de estas características parentales.\n",
    "Este enfoque permitirá evaluar si existe una relación estadísticamente significativa y medir la magnitud de dicha influencia.\n"
   ]
  }
 ],
 "metadata": {
  "language_info": {
   "name": "python"
  }
 },
 "nbformat": 4,
 "nbformat_minor": 2
}
