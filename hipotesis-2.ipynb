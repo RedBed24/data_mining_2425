{
 "cells": [
  {
   "cell_type": "markdown",
   "metadata": {},
   "source": [
    "# Impacto de la situación laboral de los padres en el rendimiento académico\n",
    "\n",
    "Los estudiantes cuyos padres tienen una situación laboral estable o más estudios formales obtienen mejores resultados académicos en comparación con aquellos cuyos padres tienen menos estudios o están desempleados."
   ]
  },
  {
   "cell_type": "markdown",
   "metadata": {},
   "source": [
    "## Selección de datos\n"
   ]
  },
  {
   "cell_type": "markdown",
   "metadata": {},
   "source": [
    "Como en el resto de hipótesis, debemos seleccionar la nota de los estudiantes.\n",
    "En este caso también necesitamos la situación laboral de los padres y el nivel de educación de estos.\n"
   ]
  },
  {
   "cell_type": "markdown",
   "metadata": {
    "vscode": {
     "languageId": "plaintext"
    }
   },
   "source": [
    "En egd09, las variables son:\n",
    "\n",
    "- `P6A`: Estudios de la madre\n",
    "- `P6B`: Estudios del padre\n",
    "- `P7A`: Situación laboral madre\n",
    "- `P7B`: Situación laboral padre\n",
    "- `P8`: Trabajo de tu madre\n",
    "- `P10`: Trabajo de tu padre\n",
    "- `PF15`: Profesión de la madre \n",
    "- `PF16`: Estudios de la madre \n",
    "- `PF17`: Situación laboral de la madre \n",
    "- `PF18`: Edad del padre \n",
    "- `PF19`: Profesión del padre \n",
    "- `PF20`: Estudios del padre \n",
    "- `PF21`: Situación laboral del padre \n"
   ]
  },
  {
   "cell_type": "markdown",
   "metadata": {},
   "source": [
    "Para el dataset egd10, las columnas que necesitamos son:\n",
    "\n",
    "- `S6M`: Estudios de la madre\n",
    "- `S6P`: Estudios del padre\n",
    "- `S7M`: Situación laboral madre\n",
    "- `S7P`: Situación laboral padre\n",
    "- `S8`: Trabajo de tu madre\n",
    "- `S10`: Trabajo de tu padre\n"
   ]
  },
  {
   "cell_type": "markdown",
   "metadata": {},
   "source": [
    "Como en las otras hipótesis, en el dataset egd09, hay variables para el cuestionario hecho por los alumnos y el hecho por los padres.\n"
   ]
  },
  {
   "cell_type": "code",
   "execution_count": null,
   "metadata": {},
   "outputs": [],
   "source": [
    "import pandas as pd\n"
   ]
  },
  {
   "cell_type": "code",
   "execution_count": null,
   "metadata": {},
   "outputs": [],
   "source": [
    "# Load the data from the Excel file\n",
    "# WARNING TAKES A LONG TIME\n",
    "# only loads the first sheet, thats the one that contains the data\n",
    "# other sheets contain metadata\n",
    "#egd09 = pd.read_excel(\"data/EGD09.xlsx\")\n",
    "egd10 = pd.read_excel(\"data/EGD10.xlsx\")\n"
   ]
  },
  {
   "cell_type": "code",
   "execution_count": null,
   "metadata": {},
   "outputs": [],
   "source": [
    "selected_09_features = [\n",
    "    \"P6A\",\n",
    "    \"P6B\",\n",
    "    \"P7A\",\n",
    "    \"P7B\",\n",
    "    \"P8\",\n",
    "    \"P10\",\n",
    "    \"PF15\",\n",
    "    \"PF16\",\n",
    "    \"PF17\",\n",
    "    \"PF18\",\n",
    "    \"PF19\",\n",
    "    \"PF20\",\n",
    "    \"PF21\",\n",
    "]\n",
    "\n",
    "selected_10_features = [\n",
    "    \"S6M\",\n",
    "    \"S6P\",\n",
    "    \"S7M\",\n",
    "    \"S7P\",\n",
    "    \"S8\",\n",
    "    \"S10\",\n",
    "]\n",
    "\n",
    "targets_09 = [\n",
    "    \"PV1ling\",\n",
    "    \"PV2ling\",\n",
    "    \"PV3ling\",\n",
    "    \"PV4ling\",\n",
    "    \"PV5ling\",\n",
    "    \"PV1mat\",\n",
    "    \"PV2mat\",\n",
    "    \"PV3mat\",\n",
    "    \"PV4mat\",\n",
    "    \"PV5mat\",\n",
    "    \"PV1mfis\",\n",
    "    \"PV2mfis\",\n",
    "    \"PV3mfis\",\n",
    "    \"PV4mfis\",\n",
    "    \"PV5mfis\",\n",
    "    \"PV1syc\",\n",
    "    \"PV2syc\",\n",
    "    \"PV3syc\",\n",
    "    \"PV4syc\",\n",
    "    \"PV5syc\",\n",
    "]\n",
    "\n",
    "# edg10 has the same targets as egd09, but it uses upper case letters\n",
    "targets_10 = list(map(lambda x: x.upper(), targets_09))\n"
   ]
  },
  {
   "cell_type": "code",
   "execution_count": null,
   "metadata": {},
   "outputs": [],
   "source": [
    "#egd09 = egd09[selected_09_features + targets_09]\n",
    "egd10 = egd10[selected_10_features + targets_10]\n"
   ]
  },
  {
   "cell_type": "markdown",
   "metadata": {},
   "source": [
    "## Tratamiento y limpieza de datos\n"
   ]
  },
  {
   "cell_type": "markdown",
   "metadata": {},
   "source": [
    "## Características de la tarjeta de datos\n"
   ]
  },
  {
   "cell_type": "markdown",
   "metadata": {},
   "source": [
    "## Líneas de Trabajo\n"
   ]
  }
 ],
 "metadata": {
  "language_info": {
   "name": "python"
  }
 },
 "nbformat": 4,
 "nbformat_minor": 2
}
