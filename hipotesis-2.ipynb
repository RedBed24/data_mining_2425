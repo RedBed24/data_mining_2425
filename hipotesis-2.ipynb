{
 "cells": [
  {
   "cell_type": "markdown",
   "metadata": {},
   "source": [
    "# Impacto de la situación laboral de los padres en el rendimiento académico\n",
    "\n",
    "Los estudiantes cuyos padres tienen una situación laboral estable o más estudios formales obtienen mejores resultados académicos en comparación con aquellos cuyos padres tienen menos estudios o están desempleados."
   ]
  },
  {
   "cell_type": "markdown",
   "metadata": {},
   "source": [
    "## Selección de datos\n"
   ]
  },
  {
   "cell_type": "markdown",
   "metadata": {},
   "source": [
    "Como en el resto de hipótesis, debemos seleccionar la nota de los estudiantes.\n",
    "En este caso también necesitamos la situación laboral de los padres y el nivel de educación de estos.\n"
   ]
  },
  {
   "cell_type": "markdown",
   "metadata": {
    "vscode": {
     "languageId": "plaintext"
    }
   },
   "source": [
    "En egd09, las variables son:\n",
    "\n",
    "- `P6A`: Estudios de la madre\n",
    "- `P6B`: Estudios del padre\n",
    "- `P7A`: Situación laboral madre\n",
    "- `P7B`: Situación laboral padre\n",
    "- `P8`: Trabajo de tu madre\n",
    "- `P10`: Trabajo de tu padre\n",
    "- `PF15`: Profesión de la madre\n",
    "- `PF16`: Estudios de la madre\n",
    "- `PF17`: Situación laboral de la madre\n",
    "- `PF19`: Profesión del padre\n",
    "- `PF20`: Estudios del padre\n",
    "- `PF21`: Situación laboral del padre\n"
   ]
  },
  {
   "cell_type": "markdown",
   "metadata": {},
   "source": [
    "Para el dataset egd10, las columnas que necesitamos son:\n",
    "\n",
    "- `S6M`: Estudios de la madre\n",
    "- `S6P`: Estudios del padre\n",
    "- `S7M`: Situación laboral madre\n",
    "- `S7P`: Situación laboral padre\n",
    "- `S8`: Trabajo de tu madre\n",
    "- `S10`: Trabajo de tu padre\n"
   ]
  },
  {
   "cell_type": "markdown",
   "metadata": {},
   "source": [
    "Como en las otras hipótesis, en el dataset egd09, hay variables para el cuestionario hecho por los alumnos y el hecho por los padres.\n",
    "En esta hipótesis, nos interesa el cuestionario hecho por los padres ya que estos tienen mejor idea que los hijos.\n",
    "Por lo que, para esta hipótesis, usaremos las variables del dataset egd09.\n"
   ]
  },
  {
   "cell_type": "code",
   "execution_count": null,
   "metadata": {},
   "outputs": [],
   "source": [
    "import pandas as pd\n"
   ]
  },
  {
   "cell_type": "code",
   "execution_count": null,
   "metadata": {},
   "outputs": [],
   "source": [
    "# Load the data from the Excel file\n",
    "# WARNING TAKES A LONG TIME\n",
    "# only loads the first sheet, thats the one that contains the data\n",
    "# other sheets contain metadata\n",
    "egd09 = pd.read_excel(\"data/EGD09.xlsx\")\n"
   ]
  },
  {
   "cell_type": "code",
   "execution_count": null,
   "metadata": {},
   "outputs": [],
   "source": [
    "best_features = [\n",
    "    \"PF15\",\n",
    "    \"PF16\",\n",
    "    \"PF17\",\n",
    "    \"PF18\",\n",
    "    \"PF19\",\n",
    "    \"PF20\",\n",
    "    \"PF21\",\n",
    "]\n",
    "targets_09 = [\n",
    "    \"PV1ling\",\n",
    "    \"PV2ling\",\n",
    "    \"PV3ling\",\n",
    "    \"PV4ling\",\n",
    "    \"PV5ling\",\n",
    "    \"PV1mat\",\n",
    "    \"PV2mat\",\n",
    "    \"PV3mat\",\n",
    "    \"PV4mat\",\n",
    "    \"PV5mat\",\n",
    "    \"PV1mfis\",\n",
    "    \"PV2mfis\",\n",
    "    \"PV3mfis\",\n",
    "    \"PV4mfis\",\n",
    "    \"PV5mfis\",\n",
    "    \"PV1syc\",\n",
    "    \"PV2syc\",\n",
    "    \"PV3syc\",\n",
    "    \"PV4syc\",\n",
    "    \"PV5syc\",\n",
    "]\n"
   ]
  },
  {
   "cell_type": "code",
   "execution_count": null,
   "metadata": {},
   "outputs": [],
   "source": [
    "egd09 = egd09[best_features + targets_09]\n"
   ]
  },
  {
   "cell_type": "markdown",
   "metadata": {},
   "source": [
    "## Tratamiento y limpieza de datos\n"
   ]
  },
  {
   "cell_type": "markdown",
   "metadata": {},
   "source": [
    "El tratamiento para esta hipótesis es muy simple, tomaremos la media de las notas como en el resto.\n",
    "Para las variables de la situación laboral de los padres, al ser un número pequeño de categorías, no es necesario hacer un tratamiento especial.\n",
    "Sólo eliminaremos aquellos valores por defecto.\n"
   ]
  },
  {
   "cell_type": "code",
   "execution_count": null,
   "metadata": {},
   "outputs": [],
   "source": [
    "egd09.loc[:, \"mean_score\"] = egd09[targets_09].mean(axis=1)\n",
    "egd09.drop(targets_09, axis=1, inplace=True)\n",
    "egd09.loc[:, \"mean_score\"] = egd09[\"mean_score\"].apply(lambda x: x/100)\n"
   ]
  },
  {
   "cell_type": "code",
   "execution_count": null,
   "metadata": {},
   "outputs": [],
   "source": [
    "print(f\"Removing {egd09.isna().sum().sum()} rows with missing values\")"
   ]
  },
  {
   "cell_type": "code",
   "execution_count": null,
   "metadata": {},
   "outputs": [],
   "source": [
    "egd09.dropna(inplace=True)"
   ]
  },
  {
   "cell_type": "code",
   "execution_count": null,
   "metadata": {},
   "outputs": [],
   "source": [
    "egd09[best_features] = egd09[best_features].astype(int).astype(\"category\")"
   ]
  },
  {
   "cell_type": "code",
   "execution_count": null,
   "metadata": {},
   "outputs": [],
   "source": [
    "print(f\"Removing {egd09[[\"PF15\", \"PF19\"]].isin([99]).sum().sum() + egd09[[\"PF16\", \"PF17\", \"PF18\", \"PF19\", \"PF20\", \"PF21\"]].isin([9]).sum().sum()} rows with default values\")"
   ]
  },
  {
   "cell_type": "code",
   "execution_count": null,
   "metadata": {},
   "outputs": [],
   "source": [
    "egd09 = egd09[(egd09[[\"PF15\", \"PF19\"]] != 99).all(axis=1)]\n",
    "egd09 = egd09[(egd09[[\"PF16\", \"PF17\", \"PF18\", \"PF19\", \"PF20\", \"PF21\"]] != 9).all(axis=1)]\n"
   ]
  },
  {
   "cell_type": "markdown",
   "metadata": {},
   "source": [
    "En las columnas de la situación laboral de los padres, hay valores que tampoco tienen sentido, como el \"no sabe\", representado por el valor 13."
   ]
  },
  {
   "cell_type": "code",
   "execution_count": null,
   "metadata": {},
   "outputs": [],
   "source": [
    "print(f\"Removing {egd09[[\"PF15\", \"PF19\"]].isin([13]).sum().sum()} rows with default values\")\n"
   ]
  },
  {
   "cell_type": "code",
   "execution_count": null,
   "metadata": {},
   "outputs": [],
   "source": [
    "egd09 = egd09[(egd09[[\"PF15\", \"PF19\"]] != 13).all(axis=1)]\n"
   ]
  },
  {
   "cell_type": "markdown",
   "metadata": {},
   "source": [
    "## Características de la tarjeta de datos\n"
   ]
  },
  {
   "cell_type": "markdown",
   "metadata": {},
   "source": [
    "Las variables finales son:\n",
    "\n",
    "- `PF15`: Profesión de la madre\n",
    "- `PF16`: Estudios de la madre\n",
    "- `PF17`: Situación laboral de la madre\n",
    "- `PF19`: Profesión del padre\n",
    "- `PF20`: Estudios del padre\n",
    "- `PF21`: Situación laboral del padre\n",
    "- `mean_score`: Nota media de los estudiantes\n",
    "\n",
    "Sin valores nulos ni valores por defecto.\n",
    "En el dataset egd09.\n",
    "\n",
    "Para las variables de `PF16` y `PF20`, los valores vienen ordenados de menor a mayor nivel de estudios.\n",
    "Cosa que no ocurre en las variables de la situación laboral de los padres ni en las profesiones de estos.\n",
    "Esta variable tendrán que ser tratadas específicamente como categóricas no ordinales, al contrario que las variables de los estudios de los padres, en las que sí se puede hacer una comparación de mayor a menor nivel de estudios.\n",
    "\n",
    "También existe una intersección no nula entre las variables de la profesión de los padres y la situación laboral de estos.\n",
    "Por ejemplo, jubilados y parados aparecen en ambas variables.\n",
    "Cosa que puede llevar a una redundancia en los datos y a una posible correlación entre estas variables.\n"
   ]
  },
  {
   "cell_type": "markdown",
   "metadata": {},
   "source": [
    "## Líneas de Trabajo\n",
    "\n",
    "Se empezaría estudiando la correlación entre las variables mencionadas anteriormente.\n",
    "Terminaríamos con un estudio para validar la hipótesis.\n"
   ]
  }
 ],
 "metadata": {
  "language_info": {
   "name": "python"
  }
 },
 "nbformat": 4,
 "nbformat_minor": 2
}
