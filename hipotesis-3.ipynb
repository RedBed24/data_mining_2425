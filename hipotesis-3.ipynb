{
 "cells": [
  {
   "cell_type": "markdown",
   "metadata": {},
   "source": [
    "# Influencia de la lengua hablada en casa en el rendimiento académico\n",
    "\n",
    "**- Hipótesis:** *Los estudiantes que hablan la misma lengua en casa y en el colegio (ya sea castellano, catalán, gallego, etc.) tienen un mejor rendimiento académico en comparación con aquellos que hablan una lengua diferente en casa y en el colegio.*\n"
   ]
  },
  {
   "cell_type": "markdown",
   "metadata": {},
   "source": [
    "## Selección de datos\n"
   ]
  },
  {
   "cell_type": "markdown",
   "metadata": {},
   "source": [
    "Para validar esta hipotesis, sera mas util el uso del dataset `edg10`, en vez de el `egd09` debido a factores similares a los de la hipótesis 1.  \n",
    "Se deben seleccionar las notas de los estudiantes como datos, al igual que el resto de situaciones. En el dataset `egd10`, las variables relevantes serian las lenguas habladas.  "
   ]
  },
  {
   "cell_type": "markdown",
   "metadata": {},
   "source": [
    "**Variables seleccionadas para `egd10`:**\n",
    "* `S12AA`: Lengua que habla en casa-Castellano\n",
    "* `S12AB`: Lengua que habla en casa-Catalán\n",
    "* `S12AC`: Lengua que habla en casa-Gallego\n",
    "* `S12AD`: Lengua que habla en casa-Valenciano\n",
    "* `S12AE`: Lengua que habla en casa-Vasco\n",
    "* `S12AF`: Lengua que habla en casa-Árabe\n",
    "* `S12AG`: Lengua que habla en casa-Chino\n",
    "* `S12AH`: Lengua que habla en casa-Inglés\n",
    "* `S12AI`: Lengua que habla en casa-Rumano\n",
    "* `S12AJ`: Lengua que habla en casa-Otra lengua\n",
    "* `S12BA`: Lengua que habla en el colegio-Castellano\n",
    "* `S12BB`: Lengua que habla en el colegio-Catalán\n",
    "* `S12BC`: Lengua que habla en el colegio-Gallego\n",
    "* `S12BD`: Lengua que habla en el colegio-Valenciano\n",
    "* `S12BE`: Lengua que habla en el colegio-Vasco\n",
    "* `S12BF`: Lengua que habla en el colegio-Árabe\n",
    "* `S12BG`: Lengua que habla en el colegio-Chino\n",
    "* `S12BH`: Lengua que habla en el colegio-Inglés\n",
    "* `S12BI`: Lengua que habla en el colegio-Rumano\n",
    "* `S12BJ`: Lengua que habla en el colegio-Otra lengua\n",
    "* `S12CA`: Lengua que habla con los amigos-Castellano\n",
    "* `S12CB`: Lengua que habla con los amigos-Catalán\n",
    "* `S12CC`: Lengua que habla con los amigos-Gallego\n",
    "* `S12CD`: Lengua que habla con los amigos-Valenciano\n",
    "* `S12CE`: Lengua que habla con los amigos-Vasco\n",
    "* `S12CF`: Lengua que habla con los amigos-Árabe\n",
    "* `S12CG`: Lengua que habla con los amigos-Chino\n",
    "* `S12CH`: Lengua que habla con los amigos-Inglés\n",
    "* `S12CI`: Lengua que habla con los amigos-Rumano\n",
    "* `S12CJ`: Lengua que habla con los amigos-Otra lengua\n",
    "* `S12DA`: Lengua en la que escucha la TV-Castellano\n",
    "* `S12DB`: Lengua en la que escucha la TV-Catalán\n",
    "* `S12DC`: Lengua en la que escucha la TV-Gallego\n",
    "* `S12DD`: Lengua en la que escucha la TV-Valenciano\n",
    "* `S12DE`: Lengua en la que escucha la TV-Vasco\n",
    "* `S12DF`: Lengua en la que escucha la TV-Árabe\n",
    "* `S12DG`: Lengua en la que escucha la TV-Chino\n",
    "* `S12DH`: Lengua en la que escucha la TV-Inglés\n",
    "* `S12DI`: Lengua en la que escucha la TV-Rumano\n",
    "* `S12DJ`: Lengua en la que escucha la TV-Otra lengua"
   ]
  },
  {
   "cell_type": "code",
   "execution_count": null,
   "metadata": {},
   "outputs": [],
   "source": [
    "import pandas as pd"
   ]
  },
  {
   "cell_type": "code",
   "execution_count": null,
   "metadata": {},
   "outputs": [],
   "source": [
    "# Load the data from the Excel file\n",
    "# WARNING TAKES A LONG TIME\n",
    "# only loads the first sheet, thats the one that contains the data\n",
    "# other sheets contain metadata\n",
    "egd10 = pd.read_excel(\"data/EGD10.xlsx\")"
   ]
  },
  {
   "cell_type": "code",
   "execution_count": null,
   "metadata": {},
   "outputs": [],
   "source": [
    "targets = [\n",
    "    \"PV1LING\",\n",
    "    \"PV2LING\",\n",
    "    \"PV3LING\",\n",
    "    \"PV4LING\",\n",
    "    \"PV5LING\",\n",
    "    \"PV1MAT\",\n",
    "    \"PV2MAT\",\n",
    "    \"PV3MAT\",\n",
    "    \"PV4MAT\",\n",
    "    \"PV5MAT\",\n",
    "    \"PV1MFIS\",\n",
    "    \"PV2MFIS\",\n",
    "    \"PV3MFIS\",\n",
    "    \"PV4MFIS\",\n",
    "    \"PV5MFIS\",\n",
    "    \"PV1SYC\",\n",
    "    \"PV2SYC\",\n",
    "    \"PV3SYC\",\n",
    "    \"PV4SYC\",\n",
    "    \"PV5SYC\",\n",
    "]\n",
    "\n",
    "\n",
    "casa_idiomas = [\n",
    "    \"S12AA\",\n",
    "    \"S12AB\",\n",
    "    \"S12AC\",\n",
    "    \"S12AD\",\n",
    "    \"S12AE\",\n",
    "    \"S12AF\",\n",
    "    \"S12AG\",\n",
    "    \"S12AH\",\n",
    "    \"S12AI\",\n",
    "    \"S12AJ\",\n",
    "]\n",
    "colegio_idiomas = [\n",
    "    \"S12BA\",\n",
    "    \"S12BB\",\n",
    "    \"S12BC\",\n",
    "    \"S12BD\",\n",
    "    \"S12BE\",\n",
    "    \"S12BF\",\n",
    "    \"S12BG\",\n",
    "    \"S12BH\",\n",
    "    \"S12BI\",\n",
    "    \"S12BJ\",\n",
    "]\n",
    "amigos_idiomas = [\n",
    "    \"S12CA\",\n",
    "    \"S12CB\",\n",
    "    \"S12CC\",\n",
    "    \"S12CD\",\n",
    "    \"S12CE\",\n",
    "    \"S12CF\",\n",
    "    \"S12CG\",\n",
    "    \"S12CH\",\n",
    "    \"S12CI\",\n",
    "    \"S12CJ\",\n",
    "]\n",
    "tv_idiomas = [\n",
    "    \"S12DA\",\n",
    "    \"S12DB\",\n",
    "    \"S12DC\",\n",
    "    \"S12DD\",\n",
    "    \"S12DE\",\n",
    "    \"S12DF\",\n",
    "    \"S12DG\",\n",
    "    \"S12DH\",\n",
    "    \"S12DI\",\n",
    "    \"S12DJ\",\n",
    "]\n",
    "\n",
    "selected_features = casa_idiomas + colegio_idiomas + amigos_idiomas + tv_idiomas\n"
   ]
  },
  {
   "cell_type": "markdown",
   "metadata": {},
   "source": [
    "Hemos decidido seleccionar también las variables que reflejan los idiomas utilizados con los amigos o al ver la televisión, ya que son importantes y forman parte del entorno linguístico que emplean en su día a día."
   ]
  },
  {
   "cell_type": "markdown",
   "metadata": {},
   "source": [
    "## Tratamiento y limpieza de datos\n"
   ]
  },
  {
   "cell_type": "markdown",
   "metadata": {},
   "source": [
    "### Tratamiento de valores nulos"
   ]
  },
  {
   "cell_type": "markdown",
   "metadata": {},
   "source": [
    "En primer lugar, debemos hacer una limpieza de los valores nulos.  \n",
    "Esta limpieza será sencilla y automática, pues los grupos de variables de idioma no poseen valores por defecto y para las calificaciónes emplearemos la misma técnica de unificación que para la hipótesis 1, que trataba los valores nulos del `target` por defecto.\n"
   ]
  },
  {
   "cell_type": "code",
   "execution_count": null,
   "metadata": {},
   "outputs": [],
   "source": [
    "egd10.dropna(subset=selected_features, inplace=True)"
   ]
  },
  {
   "cell_type": "markdown",
   "metadata": {},
   "source": [
    "### Tratamiento de las variables"
   ]
  },
  {
   "cell_type": "markdown",
   "metadata": {},
   "source": [
    "El dataset egd10 usa un numero entre el 1 y 10, para indicar si el alumno habla el idioma en cuestión, y 99 en caso contrario. Si observamos, tiene una estructura de tipo \"checkbox\", parecida al caso de las variables de ayuda en la hipótesis 1.  \n",
    "Transformaremos esto para mejorar la manipulabilidad de los datos a un valor booleano: 1 para indicar si habla el idioma y 0 para lo contrario."
   ]
  },
  {
   "cell_type": "code",
   "execution_count": null,
   "metadata": {},
   "outputs": [],
   "source": [
    "egd10_sel10feat = egd10[selected_features].replace(list(range(1,11)),1).replace(99,0)"
   ]
  },
  {
   "cell_type": "markdown",
   "metadata": {},
   "source": [
    "La mayor dificultad de este dataset se encontraría en la posibilidad de que algunos idiomas hablados en casa coincidan o no con los de clase, de una forma que es difícil de comparar usando métodos normales. Nuestra solución consiste en contar el número de idiomas hablados tanto en casa como en la escuela, y medir su proporción respecto al número de idiomas en total hablados en la escuela.\n",
    "\n",
    "Esto se puede repetir con las otras métricas como idiomas hablados en televisión, o con amigos. Aunque no estén directamente relacionados, los considero al menos un poco importantes para la hipótesis, ya que conciernen el entorno social fuera de la escuela, en cuanto a idiomas hablados y podrían tener una influencia."
   ]
  },
  {
   "cell_type": "code",
   "execution_count": null,
   "metadata": {},
   "outputs": [],
   "source": [
    "ratio_idiomas_clase =  pd.DataFrame(\n",
    "    (egd10_sel10feat[colegio_idiomas].values * egd10_sel10feat[casa_idiomas].values).sum(axis=1)\n",
    "    / egd10_sel10feat[colegio_idiomas].sum(axis=1),\n",
    "    columns=[\"Ratio de Idiomas Hablados en Casa\"],\n",
    ").join(\n",
    "  pd.DataFrame(\n",
    "    (egd10_sel10feat[colegio_idiomas].values * egd10_sel10feat[tv_idiomas].values).sum(axis=1)\n",
    "    / egd10_sel10feat[colegio_idiomas].sum(axis=1),\n",
    "    columns=[\"Ratio de Idiomas Vistos en TV\"],\n",
    ")).join(\n",
    " pd.DataFrame(\n",
    "    (egd10_sel10feat[colegio_idiomas].values * egd10_sel10feat[amigos_idiomas].values).sum(axis=1)\n",
    "    / egd10_sel10feat[colegio_idiomas].sum(axis=1),\n",
    "    columns=[\"Ratio Idiomas Hablados con Amigos\"],\n",
    "))"
   ]
  },
  {
   "cell_type": "markdown",
   "metadata": {},
   "source": [
    "### Creando los target\n",
    "\n",
    "Como hablamos de rendimiento académico, se usara la misma métrica que en la hipótesis 1 (nota media)."
   ]
  },
  {
   "cell_type": "code",
   "execution_count": null,
   "metadata": {},
   "outputs": [],
   "source": [
    "egd10"
   ]
  },
  {
   "cell_type": "code",
   "execution_count": null,
   "metadata": {},
   "outputs": [],
   "source": [
    "notas_medias = egd10[targets_10].mean(axis=1)\n",
    "notas_medias = notas_medias.apply(lambda x: x / 100).to_frame(name=\"Nota Media\")"
   ]
  },
  {
   "cell_type": "markdown",
   "metadata": {},
   "source": [
    "Podemos ahora guardar estas variables a un csv, para crear la tarjeta de datos relevante."
   ]
  },
  {
   "cell_type": "code",
   "execution_count": null,
   "metadata": {},
   "outputs": [],
   "source": [
    "tarjeta_datos = ratio_idiomas_clase.join(notas_medias)\n",
    "tarjeta_datos.to_csv(\"data/tarjetaH3.csv\",float_format=\"%.2f\")"
   ]
  },
  {
   "cell_type": "markdown",
   "metadata": {},
   "source": [
    "## Características de la tarjeta de datos\n"
   ]
  },
  {
   "cell_type": "markdown",
   "metadata": {},
   "source": [
    "Las variables finales para usar validando la hipótesis son:\n",
    "* Ratio de Idiomas Hablados en Casa: Se refiere a los idiomas hablados en casa y en la escuela, dividido sobre el total de idiomas hablados en la escuela.\n",
    "* Ratio de Idiomas Vistos en TV: Se refiere a los idiomas vistos en TV y hablados en la escuela, dividido sobre el total de idiomas hablados en la escuela. \n",
    "* Ratio Idiomas Hablados con Amigos: Se refiere a los idiomas hablados con amigos y en la escuela, dividido sobre el total de idiomas hablados en la escuela.\n",
    "* Nota Media\n",
    "\n",
    "No hay ningún valor nulo.\n",
    "\n",
    "La idea detrás de usar un ratio entre idiomas hablados, es para poder cuantificar en entornos multilingües, hasta que punto un estudiante habla un idioma distinto en los dos entornos. Así, si se hablan varios idiomas en casa, pero solo 1 de ellos se habla en la clase, cuando en clase normalmente se hablan 2, se contaría como hablar un idioma distinto. Esto, comparado con un estudiante que no habla tantos idiomas en casa, pero donde todos se hablan en clase, este calificaría mejor que el anterior, lo que nos interesa en el contexto de esta hipótesis.\n"
   ]
  },
  {
   "cell_type": "markdown",
   "metadata": {},
   "source": [
    "## Líneas de Trabajo\n"
   ]
  },
  {
   "cell_type": "markdown",
   "metadata": {},
   "source": [
    "Se empezaría estudiando la correlación entre las variables mencionadas anteriormente. Terminaríamos con un estudio para validar la hipótesis."
   ]
  }
 ],
 "metadata": {
  "language_info": {
   "name": "python"
  }
 },
 "nbformat": 4,
 "nbformat_minor": 2
}
