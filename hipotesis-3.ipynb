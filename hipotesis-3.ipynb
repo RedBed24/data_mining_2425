{
 "cells": [
  {
   "cell_type": "markdown",
   "metadata": {},
   "source": [
    "# Influencia de la lengua hablada en casa en el rendimiento académico\n",
    "\n",
    "**- Hipótesis:** *Los estudiantes que hablan la misma lengua en casa y en el colegio (ya sea castellano, catalán, gallego, etc.) tienen un mejor rendimiento académico en comparación con aquellos que hablan una lengua diferente en casa y en el colegio.*\n"
   ]
  },
  {
   "cell_type": "markdown",
   "metadata": {},
   "source": [
    "## Selección de datos\n"
   ]
  },
  {
   "cell_type": "markdown",
   "metadata": {},
   "source": [
    "Para validar esta hipotesis, será mas util el uso del dataset `edg10`, en vez de el `egd09` debido a factores similares a los de la hipótesis 1.  \n",
    "Se deben seleccionar las notas de los estudiantes como datos, al igual que el resto de situaciones. En el dataset `egd10`, las variables relevantes serian las lenguas habladas.  \n",
    "Como en el resto de hipótesis, debemos seleccionar también las notas de los estudiantes."
   ]
  },
  {
   "cell_type": "markdown",
   "metadata": {},
   "source": [
    "**Variables seleccionadas para `egd10`:**\n",
    "* `S12AA`: Lengua que habla en casa-Castellano\n",
    "* `S12AB`: Lengua que habla en casa-Catalán\n",
    "* `S12AC`: Lengua que habla en casa-Gallego\n",
    "* `S12AD`: Lengua que habla en casa-Valenciano\n",
    "* `S12AE`: Lengua que habla en casa-Vasco\n",
    "* `S12AF`: Lengua que habla en casa-Árabe\n",
    "* `S12AG`: Lengua que habla en casa-Chino\n",
    "* `S12AH`: Lengua que habla en casa-Inglés\n",
    "* `S12AI`: Lengua que habla en casa-Rumano\n",
    "* `S12AJ`: Lengua que habla en casa-Otra lengua\n",
    "* `S12BA`: Lengua que habla en el colegio-Castellano\n",
    "* `S12BB`: Lengua que habla en el colegio-Catalán\n",
    "* `S12BC`: Lengua que habla en el colegio-Gallego\n",
    "* `S12BD`: Lengua que habla en el colegio-Valenciano\n",
    "* `S12BE`: Lengua que habla en el colegio-Vasco\n",
    "* `S12BF`: Lengua que habla en el colegio-Árabe\n",
    "* `S12BG`: Lengua que habla en el colegio-Chino\n",
    "* `S12BH`: Lengua que habla en el colegio-Inglés\n",
    "* `S12BI`: Lengua que habla en el colegio-Rumano\n",
    "* `S12BJ`: Lengua que habla en el colegio-Otra lengua\n",
    "* `S12CA`: Lengua que habla con los amigos-Castellano\n",
    "* `S12CB`: Lengua que habla con los amigos-Catalán\n",
    "* `S12CC`: Lengua que habla con los amigos-Gallego\n",
    "* `S12CD`: Lengua que habla con los amigos-Valenciano\n",
    "* `S12CE`: Lengua que habla con los amigos-Vasco\n",
    "* `S12CF`: Lengua que habla con los amigos-Árabe\n",
    "* `S12CG`: Lengua que habla con los amigos-Chino\n",
    "* `S12CH`: Lengua que habla con los amigos-Inglés\n",
    "* `S12CI`: Lengua que habla con los amigos-Rumano\n",
    "* `S12CJ`: Lengua que habla con los amigos-Otra lengua\n",
    "* `S12DA`: Lengua en la que escucha la TV-Castellano\n",
    "* `S12DB`: Lengua en la que escucha la TV-Catalán\n",
    "* `S12DC`: Lengua en la que escucha la TV-Gallego\n",
    "* `S12DD`: Lengua en la que escucha la TV-Valenciano\n",
    "* `S12DE`: Lengua en la que escucha la TV-Vasco\n",
    "* `S12DF`: Lengua en la que escucha la TV-Árabe\n",
    "* `S12DG`: Lengua en la que escucha la TV-Chino\n",
    "* `S12DH`: Lengua en la que escucha la TV-Inglés\n",
    "* `S12DI`: Lengua en la que escucha la TV-Rumano\n",
    "* `S12DJ`: Lengua en la que escucha la TV-Otra lengua"
   ]
  },
  {
   "cell_type": "code",
   "execution_count": null,
   "metadata": {},
   "outputs": [],
   "source": [
    "import pandas as pd"
   ]
  },
  {
   "cell_type": "code",
   "execution_count": null,
   "metadata": {},
   "outputs": [],
   "source": [
    "# Load the data from the Excel file\n",
    "# WARNING TAKES A LONG TIME\n",
    "# only loads the first sheet, thats the one that contains the data\n",
    "# other sheets contain metadata\n",
    "egd10 = pd.read_excel(\"data/EGD10.xlsx\")"
   ]
  },
  {
   "cell_type": "code",
   "execution_count": null,
   "metadata": {},
   "outputs": [],
   "source": [
    "targets = [\n",
    "    \"PV1LING\",\n",
    "    \"PV2LING\",\n",
    "    \"PV3LING\",\n",
    "    \"PV4LING\",\n",
    "    \"PV5LING\",\n",
    "    \"PV1MAT\",\n",
    "    \"PV2MAT\",\n",
    "    \"PV3MAT\",\n",
    "    \"PV4MAT\",\n",
    "    \"PV5MAT\",\n",
    "    \"PV1MFIS\",\n",
    "    \"PV2MFIS\",\n",
    "    \"PV3MFIS\",\n",
    "    \"PV4MFIS\",\n",
    "    \"PV5MFIS\",\n",
    "    \"PV1SYC\",\n",
    "    \"PV2SYC\",\n",
    "    \"PV3SYC\",\n",
    "    \"PV4SYC\",\n",
    "    \"PV5SYC\",\n",
    "]\n",
    "\n",
    "\n",
    "casa_idiomas = [\n",
    "    \"S12AA\",\n",
    "    \"S12AB\",\n",
    "    \"S12AC\",\n",
    "    \"S12AD\",\n",
    "    \"S12AE\",\n",
    "    \"S12AF\",\n",
    "    \"S12AG\",\n",
    "    \"S12AH\",\n",
    "    \"S12AI\",\n",
    "    \"S12AJ\",\n",
    "]\n",
    "colegio_idiomas = [\n",
    "    \"S12BA\",\n",
    "    \"S12BB\",\n",
    "    \"S12BC\",\n",
    "    \"S12BD\",\n",
    "    \"S12BE\",\n",
    "    \"S12BF\",\n",
    "    \"S12BG\",\n",
    "    \"S12BH\",\n",
    "    \"S12BI\",\n",
    "    \"S12BJ\",\n",
    "]\n",
    "amigos_idiomas = [\n",
    "    \"S12CA\",\n",
    "    \"S12CB\",\n",
    "    \"S12CC\",\n",
    "    \"S12CD\",\n",
    "    \"S12CE\",\n",
    "    \"S12CF\",\n",
    "    \"S12CG\",\n",
    "    \"S12CH\",\n",
    "    \"S12CI\",\n",
    "    \"S12CJ\",\n",
    "]\n",
    "tv_idiomas = [\n",
    "    \"S12DA\",\n",
    "    \"S12DB\",\n",
    "    \"S12DC\",\n",
    "    \"S12DD\",\n",
    "    \"S12DE\",\n",
    "    \"S12DF\",\n",
    "    \"S12DG\",\n",
    "    \"S12DH\",\n",
    "    \"S12DI\",\n",
    "    \"S12DJ\",\n",
    "]\n",
    "\n",
    "selected_features = casa_idiomas + colegio_idiomas + amigos_idiomas + tv_idiomas\n"
   ]
  },
  {
   "cell_type": "markdown",
   "metadata": {},
   "source": [
    "Hemos decidido seleccionar también las variables que reflejan los idiomas utilizados con los amigos o al ver la televisión, ya que son importantes y forman parte del entorno linguístico que emplean en su día a día."
   ]
  },
  {
   "cell_type": "markdown",
   "metadata": {},
   "source": [
    "## Tratamiento y limpieza de datos\n"
   ]
  },
  {
   "cell_type": "markdown",
   "metadata": {},
   "source": [
    "### Tratamiento de valores nulos"
   ]
  },
  {
   "cell_type": "markdown",
   "metadata": {},
   "source": [
    "En primer lugar, debemos hacer una limpieza de los valores nulos.  \n",
    "Esta limpieza será sencilla y automática, pues los grupos de variables de idioma no poseen valores por defecto y para las calificaciónes emplearemos la misma técnica de unificación que para la hipótesis 1, que trataba los valores nulos del `target` por defecto.\n"
   ]
  },
  {
   "cell_type": "code",
   "execution_count": null,
   "metadata": {},
   "outputs": [],
   "source": [
    "egd10.dropna(subset=selected_features, inplace=True)"
   ]
  },
  {
   "cell_type": "markdown",
   "metadata": {},
   "source": [
    "### Tratamiento de las variables"
   ]
  },
  {
   "cell_type": "markdown",
   "metadata": {},
   "source": [
    "El dataset egd10 usa un numero entre el 1 y 10, para indicar si el alumno habla el idioma en cuestión, y 99 en caso contrario. Si observamos, tiene una estructura de tipo \"checkbox\", parecida al caso de las variables de ayuda en la hipótesis 1.  \n",
    "Transformaremos esto para mejorar la manipulabilidad de los datos a un valor booleano: 1 para indicar si habla el idioma y 0 para lo contrario."
   ]
  },
  {
   "cell_type": "code",
   "execution_count": null,
   "metadata": {},
   "outputs": [],
   "source": [
    "egd10_sel10feat = egd10[selected_features].replace(list(range(1,11)),1).replace(99,0)"
   ]
  },
  {
   "cell_type": "markdown",
   "metadata": {},
   "source": [
    "La principal dificultad de este dataset radica en la comparación de idiomas hablados en casa con los utilizados en clase, lo cual es complicado de evaluar utilizando métodos convencionales. Nuestra solución consiste en contar el número de idiomas hablados tanto en casa como en la escuela y calcular su proporción respecto al total de idiomas hablados en la escuela.\n",
    "\n",
    "La idea de usar un ratio entre idiomas hablados busca cuantificar, en entornos multilingües, las discrepancias entre los idiomas utilizados en casa y en la escuela, y cómo estas podrían influir en el rendimiento académico. Por ejemplo, un estudiante cuyos idiomas hablados en casa coinciden con los de la escuela tendría menos dificultades de adaptación que uno con mayor discrepancia. \n",
    "\n",
    "Este enfoque también puede aplicarse a otras métricas, como los idiomas hablados en televisión o con amigos. Aunque no están directamente relacionados, los considero relevantes para la hipótesis, ya que forman parte del entorno social fuera de la escuela y podrían ejercer cierta influencia."
   ]
  },
  {
   "cell_type": "code",
   "execution_count": null,
   "metadata": {},
   "outputs": [],
   "source": [
    "ratio_idiomas_clase =  pd.DataFrame(\n",
    "    (egd10_sel10feat[colegio_idiomas].values * egd10_sel10feat[casa_idiomas].values).sum(axis=1)\n",
    "    / egd10_sel10feat[colegio_idiomas].sum(axis=1),\n",
    "    columns=[\"Ratio_Idiomas_Casa\"],\n",
    ").join(\n",
    "  pd.DataFrame(\n",
    "    (egd10_sel10feat[colegio_idiomas].values * egd10_sel10feat[tv_idiomas].values).sum(axis=1)\n",
    "    / egd10_sel10feat[colegio_idiomas].sum(axis=1),\n",
    "    columns=[\"Ratio_Idiomas_TV\"],\n",
    ")).join(\n",
    " pd.DataFrame(\n",
    "    (egd10_sel10feat[colegio_idiomas].values * egd10_sel10feat[amigos_idiomas].values).sum(axis=1)\n",
    "    / egd10_sel10feat[colegio_idiomas].sum(axis=1),\n",
    "    columns=[\"Ratio_Idiomas_Amigos\"],\n",
    "))"
   ]
  },
  {
   "cell_type": "markdown",
   "metadata": {},
   "source": [
    "Para el caso de las variables del grupo `target`, seguiremos la estrategia mencionada anteriormente:"
   ]
  },
  {
   "cell_type": "code",
   "execution_count": null,
   "metadata": {},
   "outputs": [],
   "source": [
    "notas_medias = egd10[targets].mean(axis=1)\n",
    "notas_medias = notas_medias.apply(lambda x: x / 100).to_frame(name=\"Nota_Media\")\n",
    "notas_medias.dropna(subset=[\"Nota_Media\"], inplace=True)"
   ]
  },
  {
   "cell_type": "markdown",
   "metadata": {},
   "source": [
    "## Características de la tarjeta de datos\n"
   ]
  },
  {
   "cell_type": "markdown",
   "metadata": {},
   "source": [
    "El nuevo dataset generado, `tarjeta_H3`, representa una versión refinada y simplificada de los datos originales, obtenida a través de la transformación y selección de las características más relevantes para la hipótesis que nos atañe en este caso.  \n",
    "Las transformaciones empleadas en las características de importancia seleccionadas han sido principalmente la reducción de la dimensionalidad mediante métricas agregadas, como proporciones calculadas, y la conversión de tipos de datos para facilitar la posterior comprobación de la hipótesis."
   ]
  },
  {
   "cell_type": "code",
   "execution_count": null,
   "metadata": {},
   "outputs": [],
   "source": [
    "eg10_h3 = ratio_idiomas_clase.join(notas_medias)\n",
    "eg10_h3.to_csv(\"data/tarjeta_H3.csv\", index=False, float_format=\"%.2f\")"
   ]
  },
  {
   "cell_type": "markdown",
   "metadata": {},
   "source": [
    "Las variables finales del dataset son:\n",
    "\n",
    "- `Ratio_Idiomas_Casa`: Proporción de idiomas hablados en casa y en la escuela, dividido entre el total de idiomas hablados en la escuela.  \n",
    "- `Ratio_Idiomas_TV`: Proporción de idiomas vistos en televisión que coinciden con los idiomas hablados en la escuela, dividido entre el total de idiomas hablados en la escuela.  \n",
    "- `Ratio_Idiomas_Amigos`: Proporción de idiomas hablados con amigos que coinciden con los idiomas hablados en la escuela, dividido entre el total de idiomas hablados en la escuela.  \n",
    "- `Nota_Media`: Nota promedio obtenida por el estudiante.  \n",
    "\n",
    "Sin valores nulos ni valores por defecto."
   ]
  },
  {
   "cell_type": "markdown",
   "metadata": {},
   "source": [
    "## Líneas de Trabajo\n"
   ]
  },
  {
   "cell_type": "markdown",
   "metadata": {},
   "source": [
    "Para comprobar la hipótesis de que el entorno multilingüe afecta al rendimiento académico, se podría realizar un análisis de correlación entre las variables que representan las proporciones de idiomas utilizados en diferentes contextos (como en casa, con amigos o en televisión) y las calificaciones de los estudiantes. Además, sería interesante explorar técnicas de clustering para detectar patrones en función de las características lingüísticas del entorno de cada estudiante.  \n",
    "\n",
    "Este enfoque permitiría evaluar si existe una relación significativa entre el uso de idiomas en diversos contextos y el desempeño académico, así como identificar tendencias relevantes dentro de los datos.\n"
   ]
  }
 ],
 "metadata": {
  "language_info": {
   "name": "python"
  }
 },
 "nbformat": 4,
 "nbformat_minor": 2
}
