{
 "cells": [
  {
   "cell_type": "markdown",
   "metadata": {},
   "source": [
    "## Influencia de la lengua hablada en casa en el rendimiento académico\n",
    "\n",
    "**- Hipótesis:** *Los estudiantes que hablan la misma lengua en casa y en el colegio (ya sea castellano, catalán, gallego, etc.) tienen un mejor rendimiento académico en comparación con aquellos que hablan una lengua diferente en casa y en el colegio.*\n"
   ]
  },
  {
   "cell_type": "markdown",
   "metadata": {},
   "source": [
    "### Selección de datos\n"
   ]
  },
  {
   "cell_type": "markdown",
   "metadata": {},
   "source": [
    "Para validar esta hipotesis, será mas util el uso del dataset `edg10`, en vez de el `egd09` debido a factores similares a los de la hipótesis 1.  \n",
    "Se deben seleccionar las notas de los estudiantes como datos, al igual que el resto de situaciones. En el dataset `egd10`, las variables relevantes serian las lenguas habladas.  \n",
    "Como en el resto de hipótesis, debemos seleccionar también las notas de los estudiantes."
   ]
  },
  {
   "cell_type": "markdown",
   "metadata": {},
   "source": [
    "**Variables seleccionadas para `egd10`:**\n",
    "\n",
    "- `S12AA`: Lengua que habla en casa-Castellano\n",
    "- `S12AB`: Lengua que habla en casa-Catalán\n",
    "- `S12AC`: Lengua que habla en casa-Gallego\n",
    "- `S12AD`: Lengua que habla en casa-Valenciano\n",
    "- `S12AE`: Lengua que habla en casa-Vasco\n",
    "- `S12AF`: Lengua que habla en casa-Árabe\n",
    "- `S12AG`: Lengua que habla en casa-Chino\n",
    "- `S12AH`: Lengua que habla en casa-Inglés\n",
    "- `S12AI`: Lengua que habla en casa-Rumano\n",
    "- `S12AJ`: Lengua que habla en casa-Otra lengua\n",
    "- `S12BA`: Lengua que habla en el colegio-Castellano\n",
    "- `S12BB`: Lengua que habla en el colegio-Catalán\n",
    "- `S12BC`: Lengua que habla en el colegio-Gallego\n",
    "- `S12BD`: Lengua que habla en el colegio-Valenciano\n",
    "- `S12BE`: Lengua que habla en el colegio-Vasco\n",
    "- `S12BF`: Lengua que habla en el colegio-Árabe\n",
    "- `S12BG`: Lengua que habla en el colegio-Chino\n",
    "- `S12BH`: Lengua que habla en el colegio-Inglés\n",
    "- `S12BI`: Lengua que habla en el colegio-Rumano\n",
    "- `S12BJ`: Lengua que habla en el colegio-Otra lengua\n",
    "- `S12CA`: Lengua que habla con los amigos-Castellano\n",
    "- `S12CB`: Lengua que habla con los amigos-Catalán\n",
    "- `S12CC`: Lengua que habla con los amigos-Gallego\n",
    "- `S12CD`: Lengua que habla con los amigos-Valenciano\n",
    "- `S12CE`: Lengua que habla con los amigos-Vasco\n",
    "- `S12CF`: Lengua que habla con los amigos-Árabe\n",
    "- `S12CG`: Lengua que habla con los amigos-Chino\n",
    "- `S12CH`: Lengua que habla con los amigos-Inglés\n",
    "- `S12CI`: Lengua que habla con los amigos-Rumano\n",
    "- `S12CJ`: Lengua que habla con los amigos-Otra lengua\n",
    "- `S12DA`: Lengua en la que escucha la TV-Castellano\n",
    "- `S12DB`: Lengua en la que escucha la TV-Catalán\n",
    "- `S12DC`: Lengua en la que escucha la TV-Gallego\n",
    "- `S12DD`: Lengua en la que escucha la TV-Valenciano\n",
    "- `S12DE`: Lengua en la que escucha la TV-Vasco\n",
    "- `S12DF`: Lengua en la que escucha la TV-Árabe\n",
    "- `S12DG`: Lengua en la que escucha la TV-Chino\n",
    "- `S12DH`: Lengua en la que escucha la TV-Inglés\n",
    "- `S12DI`: Lengua en la que escucha la TV-Rumano\n",
    "- `S12DJ`: Lengua en la que escucha la TV-Otra lengua"
   ]
  },
  {
   "cell_type": "code",
   "execution_count": null,
   "metadata": {},
   "outputs": [],
   "source": [
    "import pandas as pd"
   ]
  },
  {
   "cell_type": "code",
   "execution_count": null,
   "metadata": {},
   "outputs": [],
   "source": [
    "# Load the data from the Excel file\n",
    "# WARNING TAKES A LONG TIME\n",
    "# only loads the first sheet, thats the one that contains the data\n",
    "# other sheets contain metadata\n",
    "egd10 = pd.read_excel(\"data/EGD10.xlsx\",verbose=True)"
   ]
  },
  {
   "cell_type": "code",
   "execution_count": null,
   "metadata": {},
   "outputs": [],
   "source": [
    "targets = [\n",
    "    \"PV1LING\",\n",
    "    \"PV2LING\",\n",
    "    \"PV3LING\",\n",
    "    \"PV4LING\",\n",
    "    \"PV5LING\",\n",
    "    \"PV1MAT\",\n",
    "    \"PV2MAT\",\n",
    "    \"PV3MAT\",\n",
    "    \"PV4MAT\",\n",
    "    \"PV5MAT\",\n",
    "    \"PV1MFIS\",\n",
    "    \"PV2MFIS\",\n",
    "    \"PV3MFIS\",\n",
    "    \"PV4MFIS\",\n",
    "    \"PV5MFIS\",\n",
    "    \"PV1SYC\",\n",
    "    \"PV2SYC\",\n",
    "    \"PV3SYC\",\n",
    "    \"PV4SYC\",\n",
    "    \"PV5SYC\",\n",
    "]\n",
    "\n",
    "\n",
    "casa_idiomas = [\n",
    "    \"S12AA\",\n",
    "    \"S12AB\",\n",
    "    \"S12AC\",\n",
    "    \"S12AD\",\n",
    "    \"S12AE\",\n",
    "    \"S12AF\",\n",
    "    \"S12AG\",\n",
    "    \"S12AH\",\n",
    "    \"S12AI\",\n",
    "    \"S12AJ\",\n",
    "]\n",
    "colegio_idiomas = [\n",
    "    \"S12BA\",\n",
    "    \"S12BB\",\n",
    "    \"S12BC\",\n",
    "    \"S12BD\",\n",
    "    \"S12BE\",\n",
    "    \"S12BF\",\n",
    "    \"S12BG\",\n",
    "    \"S12BH\",\n",
    "    \"S12BI\",\n",
    "    \"S12BJ\",\n",
    "]\n",
    "amigos_idiomas = [\n",
    "    \"S12CA\",\n",
    "    \"S12CB\",\n",
    "    \"S12CC\",\n",
    "    \"S12CD\",\n",
    "    \"S12CE\",\n",
    "    \"S12CF\",\n",
    "    \"S12CG\",\n",
    "    \"S12CH\",\n",
    "    \"S12CI\",\n",
    "    \"S12CJ\",\n",
    "]\n",
    "tv_idiomas = [\n",
    "    \"S12DA\",\n",
    "    \"S12DB\",\n",
    "    \"S12DC\",\n",
    "    \"S12DD\",\n",
    "    \"S12DE\",\n",
    "    \"S12DF\",\n",
    "    \"S12DG\",\n",
    "    \"S12DH\",\n",
    "    \"S12DI\",\n",
    "    \"S12DJ\",\n",
    "]\n",
    "\n",
    "selected_features = casa_idiomas + colegio_idiomas + amigos_idiomas + tv_idiomas\n"
   ]
  },
  {
   "cell_type": "markdown",
   "metadata": {},
   "source": [
    "Hemos decidido seleccionar también las variables que reflejan los idiomas utilizados con los amigos o al ver la televisión, ya que son importantes y forman parte del entorno linguístico que emplean en su día a día."
   ]
  },
  {
   "cell_type": "markdown",
   "metadata": {},
   "source": [
    "### Tratamiento y limpieza de datos\n"
   ]
  },
  {
   "cell_type": "markdown",
   "metadata": {},
   "source": [
    "#### Tratamiento de valores nulos"
   ]
  },
  {
   "cell_type": "markdown",
   "metadata": {},
   "source": [
    "En primer lugar, debemos hacer una limpieza de los valores nulos.  \n",
    "Esta limpieza será sencilla y automática, pues los grupos de variables de idioma no poseen valores por defecto y para las calificaciónes emplearemos la misma técnica de unificación que para la hipótesis 1, que trataba los valores nulos del `target` por defecto.\n"
   ]
  },
  {
   "cell_type": "code",
   "execution_count": null,
   "metadata": {},
   "outputs": [],
   "source": [
    "egd10.dropna(subset=selected_features+targets, inplace=True)"
   ]
  },
  {
   "cell_type": "markdown",
   "metadata": {},
   "source": [
    "#### Tratamiento de las variables"
   ]
  },
  {
   "cell_type": "markdown",
   "metadata": {},
   "source": [
    "El dataset egd10 usa un numero entre el 1 y 10, para indicar si el alumno habla el idioma en cuestión, y 99 en caso contrario. Si observamos, tiene una estructura de tipo \"checkbox\", parecida al caso de las variables de ayuda en la hipótesis 1.  \n",
    "Transformaremos esto para mejorar la manipulabilidad de los datos a un valor booleano: 1 para indicar si habla el idioma y 0 para lo contrario."
   ]
  },
  {
   "cell_type": "code",
   "execution_count": null,
   "metadata": {},
   "outputs": [],
   "source": [
    "egd10_sel10feat = egd10[selected_features].replace(list(range(1,11)),1).replace(99,0)"
   ]
  },
  {
   "cell_type": "markdown",
   "metadata": {},
   "source": [
    "La principal dificultad de este dataset radica en la comparación de idiomas hablados en casa con los utilizados en clase, lo cual es complicado de evaluar utilizando métodos convencionales. Nuestra solución consiste en contar el número de idiomas hablados tanto en casa como en la escuela y calcular su proporción respecto al total de idiomas hablados en la escuela.\n",
    "\n",
    "La idea de usar un ratio entre idiomas hablados busca cuantificar, en entornos multilingües, las discrepancias entre los idiomas utilizados en casa y en la escuela, y cómo estas podrían influir en el rendimiento académico. Por ejemplo, un estudiante cuyos idiomas hablados en casa coinciden con los de la escuela tendría menos dificultades de adaptación que uno con mayor discrepancia. \n",
    "\n",
    "Este enfoque también puede aplicarse a otras métricas, como los idiomas hablados en televisión o con amigos. Aunque no están directamente relacionados, los considero relevantes para la hipótesis, ya que forman parte del entorno social fuera de la escuela y podrían ejercer cierta influencia."
   ]
  },
  {
   "cell_type": "code",
   "execution_count": null,
   "metadata": {},
   "outputs": [],
   "source": [
    "ratio_idiomas_clase =  pd.DataFrame(\n",
    "    (egd10_sel10feat[colegio_idiomas].values * egd10_sel10feat[casa_idiomas].values).sum(axis=1)\n",
    "    / egd10_sel10feat[colegio_idiomas].sum(axis=1),\n",
    "    columns=[\"Ratio_Idiomas_Casa\"],\n",
    ").join(\n",
    "  pd.DataFrame(\n",
    "    (egd10_sel10feat[colegio_idiomas].values * egd10_sel10feat[tv_idiomas].values).sum(axis=1)\n",
    "    / egd10_sel10feat[colegio_idiomas].sum(axis=1),\n",
    "    columns=[\"Ratio_Idiomas_TV\"],\n",
    ")).join(\n",
    " pd.DataFrame(\n",
    "    (egd10_sel10feat[colegio_idiomas].values * egd10_sel10feat[amigos_idiomas].values).sum(axis=1)\n",
    "    / egd10_sel10feat[colegio_idiomas].sum(axis=1),\n",
    "    columns=[\"Ratio_Idiomas_Amigos\"],\n",
    "))"
   ]
  },
  {
   "cell_type": "markdown",
   "metadata": {},
   "source": [
    "Un detalle se puede observar al hacer esto. Si miramos los histogramas de estas variables, podremos notar que la distribución de los valores esta muy imbalanceada. Esto se debe a que normalmente, la mayoría de alumnos y alumnas en la escuela solo hablan 1 idioma. Debido a esto, haremos una clasificacion, segun si los estudiantes hablan todos los idiomas en la escuela, o solo algunos, debido a su posible utilidad en la verificación de esta hipótesis."
   ]
  },
  {
   "cell_type": "code",
   "execution_count": null,
   "metadata": {},
   "outputs": [],
   "source": [
    "\n",
    "from matplotlib import pyplot as plt\n",
    "\n",
    "fig, axis = plt.subplots(3,)\n",
    "fig.subplots_adjust(bottom=-1.1, top=1)\n",
    "axis[0].set_title(\"Ratio Idiomas Amigos\")\n",
    "axis[0].hist(ratio_idiomas_clase['Ratio_Idiomas_Amigos'])\n",
    "axis[1].set_title(\"Ratio Idiomas TV\")\n",
    "axis[1].hist(ratio_idiomas_clase['Ratio_Idiomas_TV'])\n",
    "axis[2].set_title(\"Ratio Idiomas Casa\")\n",
    "axis[2].hist(ratio_idiomas_clase['Ratio_Idiomas_Casa'])\n",
    "fig.show()"
   ]
  },
  {
   "cell_type": "code",
   "execution_count": null,
   "metadata": {},
   "outputs": [],
   "source": [
    "from numpy import NaN\n",
    "\n",
    "\n",
    "ratio_idiomas_clase['Mismo_Idioma_Casa_y_Colegio'] = ratio_idiomas_clase['Ratio_Idiomas_Casa'].map(lambda x:0 if x<1 else (1 if x==1 else NaN))\n",
    "ratio_idiomas_clase['Mismo_Idioma_TV_y_Colegio'] = ratio_idiomas_clase['Ratio_Idiomas_TV'].map(lambda x:0 if x<1 else (1 if x==1 else NaN))\n",
    "ratio_idiomas_clase['Mismo_Idioma_Amigos_y_Colegio'] = ratio_idiomas_clase['Ratio_Idiomas_Amigos'].map(lambda x:0 if x<1 else (1 if x==1 else NaN))"
   ]
  },
  {
   "cell_type": "markdown",
   "metadata": {},
   "source": [
    "Para el caso de las variables del grupo `target`, seguiremos la estrategia mencionada anteriormente:"
   ]
  },
  {
   "cell_type": "code",
   "execution_count": null,
   "metadata": {},
   "outputs": [],
   "source": [
    "notas = egd10[targets].mean(axis=1)\n",
    "notas = notas.apply(lambda x: x / 100).to_frame(name=\"Nota_Media\").join(egd10[targets])\n",
    "notas.dropna(subset=[\"Nota_Media\"],inplace=True) # Solo borramos los casos sin nota media (no tienen ninguna columna de nota con datos)"
   ]
  },
  {
   "cell_type": "markdown",
   "metadata": {},
   "source": [
    "### Características de la tarjeta de datos\n"
   ]
  },
  {
   "cell_type": "markdown",
   "metadata": {},
   "source": [
    "El nuevo dataset generado, `tarjeta_H3`, representa una versión refinada y simplificada de los datos originales, obtenida a través de la transformación y selección de las características más relevantes para la hipótesis que nos atañe en este caso.  \n",
    "Las transformaciones empleadas en las características de importancia seleccionadas han sido principalmente la reducción de la dimensionalidad mediante métricas agregadas, como proporciones calculadas, y la conversión de tipos de datos para facilitar la posterior comprobación de la hipótesis."
   ]
  },
  {
   "cell_type": "code",
   "execution_count": null,
   "metadata": {},
   "outputs": [],
   "source": [
    "eg10_h3 = ratio_idiomas_clase.join(notas).dropna()\n",
    "eg10_h3.to_csv(\"data/tarjeta_H3.csv\", index=False, float_format=\"%.2f\")"
   ]
  },
  {
   "cell_type": "markdown",
   "metadata": {},
   "source": [
    "Las variables finales del dataset son:\n",
    "\n",
    "- `Ratio_Idiomas_Casa`: Proporción de idiomas hablados en casa y en la escuela, dividido entre el total de idiomas hablados en la escuela.\n",
    "- `Ratio_Idiomas_TV`: Proporción de idiomas vistos en televisión que coinciden con los idiomas hablados en la escuela, dividido entre el total de idiomas hablados en la escuela.\n",
    "- `Ratio_Idiomas_Amigos`: Proporción de idiomas hablados con amigos que coinciden con los idiomas hablados en la escuela, dividido entre el total de idiomas hablados en la escuela.\n",
    "- `Nota_Media`: Nota promedio obtenida por el estudiante.\n",
    "\n",
    "Sin valores nulos ni valores por defecto."
   ]
  },
  {
   "cell_type": "markdown",
   "metadata": {},
   "source": [
    "### Líneas de Trabajo\n"
   ]
  },
  {
   "cell_type": "markdown",
   "metadata": {},
   "source": [
    "Para comprobar la hipótesis de que el entorno multilingüe afecta al rendimiento académico, se podría realizar un análisis de correlación entre las variables que representan las proporciones de idiomas utilizados en diferentes contextos (como en casa, con amigos o en televisión) y las calificaciones de los estudiantes. Además, sería interesante explorar técnicas de clustering para detectar patrones en función de las características lingüísticas del entorno de cada estudiante.  \n",
    "\n",
    "Este enfoque permitiría evaluar si existe una relación significativa entre el uso de idiomas en diversos contextos y el desempeño académico, así como identificar tendencias relevantes dentro de los datos.\n"
   ]
  },
  {
   "cell_type": "markdown",
   "metadata": {},
   "source": [
    "## Clasificación entre mismo y distinto idioma usando un PCA sobre las notas"
   ]
  },
  {
   "cell_type": "markdown",
   "metadata": {},
   "source": [
    "Para hacerme una idea de posibles relaciones entre las notas y el habla de idiomas, voy a usar PCA sobre las notas, para poder representarlas en una scatterplot bidimensional, coloreando los puntos segun si hablan el idioma de la escuela, o no hablan todos los idiomas."
   ]
  },
  {
   "cell_type": "code",
   "execution_count": null,
   "metadata": {},
   "outputs": [],
   "source": [
    "egd10_h3 = pd.read_csv('data/tarjeta_H3.csv',index_col=False)"
   ]
  },
  {
   "cell_type": "code",
   "execution_count": null,
   "metadata": {},
   "outputs": [],
   "source": [
    "from pandas import DataFrame\n",
    "from sklearn.decomposition import PCA\n",
    "\n",
    "egd10_h3_1 = eg10_h3.dropna()\n",
    "X_red = PCA(n_components=2).fit_transform(egd10_h3_1[targets+[\n",
    "    # 'PV1LING',\n",
    "    # 'PV2LING',\n",
    "    # 'PV3LING',\n",
    "    # 'PV4LING',\n",
    "    # 'PV5LING',\n",
    "    # \"PV1MAT\",\n",
    "    # \"PV2MAT\",\n",
    "    # \"PV3MAT\",\n",
    "    # \"PV4MAT\",\n",
    "    # \"PV5MAT\",\n",
    "    # \"PV1MFIS\",\n",
    "    # \"PV2MFIS\",\n",
    "    # \"PV3MFIS\",\n",
    "    # \"PV4MFIS\",\n",
    "    # \"PV5MFIS\",\n",
    "    # \"PV1SYC\",\n",
    "    # \"PV2SYC\",\n",
    "    # \"PV3SYC\",\n",
    "    # \"PV4SYC\",\n",
    "    # \"PV5SYC\",\n",
    "]])\n",
    "m = X_red[egd10_h3_1['Mismo_Idioma_Casa_y_Colegio'].map(lambda x:True if x==1 else False)].transpose()\n",
    "nm = X_red[egd10_h3_1['Mismo_Idioma_Casa_y_Colegio'].map(lambda x:True if x==0 else False)].transpose()\n",
    "plt.title(\"Scatterplot PCA Clasificado segun Mismo Idioma Casa y Colegio\")\n",
    "# plt.scatter(X_red[0],X_red[1],s=0.5,c=c,label=\"lab\")\n",
    "plt.scatter(m[0],m[1],s=0.1,c=\"red\",label=\"Idioma en el Colegio se habla en casa\")\n",
    "plt.scatter(nm[0],nm[1],s=0.1,c=\"blue\",label=\"Idioma en el Colegio no se habla en casa\")\n",
    "plt.legend(loc=\"upper right\")\n",
    "plt.show()"
   ]
  },
  {
   "cell_type": "markdown",
   "metadata": {},
   "source": [
    "Inicialmente, queríamos usar esta gráfica como punto de partida para usar algoritmos de clustering, y poder ir encontrando formas de clasificar las notas segun el habla de notas, pero se puede ver un problema claro.\n",
    "\n",
    "En esta grafica se puede notar que no hay una relacion clara entre notas y habla de idiomas, segun los criterios que hemos determinado. Si la hubiera, esperaríamos algo de separacion entre grupos de puntos azules, y rojos (ya que esto mostraria que un grupo de estudiantes tiene notas distintas respecto al otro). \n",
    "\n",
    "Esto se respalda al ver el histograma de las notas medianas de ambos grupos:\n",
    "\n",
    "(Ocurre una situacion similar con la nota media, aunque solo he puesto en el codigo abajo la mediana)"
   ]
  },
  {
   "cell_type": "code",
   "execution_count": null,
   "metadata": {},
   "outputs": [],
   "source": [
    "\n",
    "\n",
    "RANGE_HIST = (500,520)\n",
    "RANGE_HIST = (0,1000)\n",
    "filter_mismo = egd10_h3_1[\"Mismo_Idioma_Casa_y_Colegio\"].map(lambda x:True if x==1 else False)\n",
    "# b=eg10_h3_1['Nota_Media'].loc[]\n",
    "filter_nomismo = egd10_h3_1[\"Mismo_Idioma_Casa_y_Colegio\"].map(lambda x:True if x==0 else False)\n",
    "fig, ax = plt.subplots(4,5,sharex='col',sharey='row',figsize=(15,10))\n",
    "f = True\n",
    "for i in range(4):\n",
    "    for j in range(5):\n",
    "        ax[i,j].set_title(targets[j+i*5])\n",
    "        ax[i,j].axvline(egd10_h3_1[targets[j+i*5]].loc[filter_mismo].median(),color='orange')\n",
    "        ax[i,j].axvline(egd10_h3_1[targets[j+i*5]].loc[filter_nomismo].median(),color='aquamarine')\n",
    "        if f:\n",
    "            f=False\n",
    "            ax[i,j].hist(egd10_h3_1[targets[j+i*5]].loc[filter_mismo],color='red',range=RANGE_HIST, label='Idioma en el Colegio se Habla en casa')\n",
    "            ax[i,j].hist(egd10_h3_1[targets[j+i*5]].loc[filter_nomismo],color='blue',range=RANGE_HIST, label='Idioma en el Colegio no se Habla en casa')\n",
    "        ax[i,j].hist(egd10_h3_1[targets[j+i*5]].loc[filter_mismo],color='red',range=RANGE_HIST)\n",
    "        ax[i,j].hist(egd10_h3_1[targets[j+i*5]].loc[filter_nomismo],color='blue',range=RANGE_HIST)\n",
    "fig.legend()\n",
    "fig.show()\n",
    "# plt.hist(DataFrame(a), label=\"Idioma en colegio se habla en casa\")\n",
    "# plt.hist(DataFrame(b), label=\"Idioma en colegio no se habla en casa\")\n",
    "# plt.legend()\n",
    "# plt.plot()"
   ]
  },
  {
   "cell_type": "markdown",
   "metadata": {},
   "source": [
    "Cabe notar, que si nos fijamos en un rango pequeño alrededor de las medianas podemos ver que a pesar de ser similares, hay pequeñas diferencias, y que, en la mayoría de las asignaturas, las notas son un poco más altas con los estudiantes que no hablan el mismo idioma en casa que en colegio, comparado con los que sí:"
   ]
  },
  {
   "cell_type": "code",
   "execution_count": null,
   "metadata": {},
   "outputs": [],
   "source": [
    "RANGE_HIST = (500,520)\n",
    "filter_mismo = egd10_h3_1[\"Mismo_Idioma_Casa_y_Colegio\"].map(lambda x:True if x==1 else False)\n",
    "# b=eg10_h3_1['Nota_Media'].loc[]\n",
    "filter_nomismo = egd10_h3_1[\"Mismo_Idioma_Casa_y_Colegio\"].map(lambda x:True if x==0 else False)\n",
    "fig, ax = plt.subplots(4,5,sharex='col',sharey='row',figsize=(15,10))\n",
    "f = True\n",
    "for i in range(4):\n",
    "    for j in range(5):\n",
    "        ax[i,j].set_title(targets[j+i*5])\n",
    "        ax[i,j].axvline(egd10_h3_1[targets[j+i*5]].loc[filter_mismo].median(),color='orange')\n",
    "        ax[i,j].axvline(egd10_h3_1[targets[j+i*5]].loc[filter_nomismo].median(),color='aquamarine')\n",
    "        if f:\n",
    "            f=False\n",
    "            ax[i,j].hist(egd10_h3_1[targets[j+i*5]].loc[filter_mismo],color='red',range=RANGE_HIST, label='Idioma en el Colegio se Habla en casa')\n",
    "            ax[i,j].hist(egd10_h3_1[targets[j+i*5]].loc[filter_nomismo],color='blue',range=RANGE_HIST, label='Idioma en el Colegio no se Habla en casa')\n",
    "        ax[i,j].hist(egd10_h3_1[targets[j+i*5]].loc[filter_mismo],color='red',range=RANGE_HIST)\n",
    "        ax[i,j].hist(egd10_h3_1[targets[j+i*5]].loc[filter_nomismo],color='blue',range=RANGE_HIST)\n",
    "fig.legend()\n",
    "fig.show()\n",
    "# plt.hist(DataFrame(a), label=\"Idioma en colegio se habla en casa\")\n",
    "# plt.hist(DataFrame(b), label=\"Idioma en colegio no se habla en casa\")\n",
    "# plt.legend()\n",
    "# plt.plot()"
   ]
  },
  {
   "cell_type": "code",
   "execution_count": null,
   "metadata": {},
   "outputs": [],
   "source": [
    "\n",
    "plt.title('Nota Media')\n",
    "plt.axvline(egd10_h3_1['Nota_Media'].loc[filter_mismo].median()*100,color='orange')\n",
    "plt.axvline(egd10_h3_1['Nota_Media'].loc[filter_nomismo].median()*100,color='aquamarine')\n",
    "plt.hist(egd10_h3_1['Nota_Media'].loc[filter_mismo]*100,color='red',range=RANGE_HIST)\n",
    "plt.hist(egd10_h3_1['Nota_Media'].loc[filter_nomismo]*100,color='blue',   range=RANGE_HIST)"
   ]
  },
  {
   "cell_type": "markdown",
   "metadata": {},
   "source": [
    "### Correlación entre distintas medidas de contexto linguistico, y nota media"
   ]
  },
  {
   "cell_type": "code",
   "execution_count": null,
   "metadata": {},
   "outputs": [],
   "source": [
    "a=['Ratio_Idiomas_Casa','Ratio_Idiomas_TV','Ratio_Idiomas_Amigos']\n",
    "rt=eg10_h3[a].dropna(subset=a).map(lambda x:0 if x<1 else (1 if x==1 else None))"
   ]
  },
  {
   "cell_type": "code",
   "execution_count": null,
   "metadata": {},
   "outputs": [],
   "source": []
  }
 ],
 "metadata": {
  "language_info": {
   "name": "python"
  }
 },
 "nbformat": 4,
 "nbformat_minor": 2
}
