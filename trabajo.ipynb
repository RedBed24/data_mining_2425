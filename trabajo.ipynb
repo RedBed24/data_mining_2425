{
 "cells": [
  {
   "cell_type": "markdown",
   "metadata": {},
   "source": [
    "# MINERÍA DE DATOS\n",
    "\n",
    "## GRUPOS DE TRABAJO\n",
    "\n",
    "Los firmantes, formarán los grupos de trabajo para el desarrollo de las actividades grupales de la asignatura (el número de integrantes oscilará entre 5 y 6 personas obligatoriamente).\n",
    "\n",
    "| Apellidos y Nombre        | Correo                       | Participación |\n",
    "| :--                       | :--                          |           --: |\n",
    "| Espejo Gil, Samuel        | samuel.espejo@alu.uclm.es    |           25% |\n",
    "| Chinarro Cabrero, Marcelo | marcelo.chinarro@alu.uclm.es |           25% |\n",
    "| Loro Carrasco, Javier     | javier.loro@alu.uclm.es      |           25% |\n",
    "| Jiménez Redondo, Mario    | mario.jimenez9@alu.uclm.es   |           25% |\n",
    "\n",
    "Coordinador: Samuel\n",
    "\n",
    "<!--\n",
    "## Entregable\n",
    "\n",
    "- Informe con los aspectos iniciales del problema.\n",
    "- Se valorará puntualidad, presentación, redacción, contenido de cada uno de los puntos y originalidad en los planteamientos.\n",
    "-->"
   ]
  },
  {
   "cell_type": "markdown",
   "metadata": {},
   "source": [
    "## Descripción breve de los datos originales\n",
    "\n",
    "Sobre que tratan, qué representan, que volumen de datos contienen. Se puede incluir descripción detallada (tablas, campos, pequeño análisis exploratorio) como anexo."
   ]
  },
  {
   "cell_type": "code",
   "execution_count": null,
   "metadata": {},
   "outputs": [],
   "source": [
    "import pandas as pd"
   ]
  },
  {
   "cell_type": "code",
   "execution_count": null,
   "metadata": {},
   "outputs": [],
   "source": [
    "# Load the data from the Excel file\n",
    "# WARNING TAKES A LONG TIME\n",
    "# only loads the first sheet, thats the one that contains the data\n",
    "# other sheets contain metadata\n",
    "data = pd.read_excel(\"data/EGD09.xlsx\")\n",
    "\n",
    "# Display the first few rows of the dataframe\n",
    "data.head()"
   ]
  },
  {
   "cell_type": "markdown",
   "metadata": {},
   "source": [
    "## Antecedentes o trabajos similares\n",
    "\n",
    "Breve descripción, qué intentan resolver y para qué os pueden ser útiles estas ideas.\n",
    "\n",
    "## Estudio A:\n",
    "https://cienciadigital.org/revistacienciadigital2/index.php/CienciaDigital/article/view/2338\n",
    "\n",
    "### Descripción del Estudio\n",
    "\n",
    "Este estudio se centra en analizar los factores que afectan el rendimiento académico de los estudiantes en Sucúa, Ecuador. Examina temas como la situación familiar, el entorno escolar y el estado emocional de los estudiantes\n",
    "\n",
    "\n",
    "\n",
    "#### Objetivos del Estudio\n",
    "\n",
    "**Objetivos del Estudio**:\n",
    "1. Identificar qué factores personales, sociales y emocionales influyen en el rendimiento académico.\n",
    "2. Analizar cómo el bienestar general del estudiante se relaciona con su desempeño.\n",
    "3. Proponer un enfoque educativo que considere no solo el rendimiento académico, sino también el bienestar emocional.\n",
    "\n",
    "#### Utilidad del Estudio\n",
    " \n",
    "Este estudio es útil para que docentes, padres y educadores puedan entender mejor cómo ciertos factores afectan a los estudiantes y tomar medidas como ofrecer asesoramiento psicológico o mejorar la comunicación entre familia y escuela para apoyar a los estudiantes de manera más integral.\n",
    "\n",
    "## Estudio B: \n",
    "https://link.springer.com/article/10.1007/s40299-023-00759-5\n",
    "\n",
    "#### Descripción del Estudio\n",
    "Este estudio analiza cómo las cenas familiares y otras actividades de aprendizaje organizadas por los padres, como visitas a museos o al cine, pueden influir en el rendimiento académico de los estudiantes chinos en materias como matemáticas, chino e inglés.\n",
    "\n",
    "**Objetivos del Estudio**:\n",
    "1. Explorar el impacto de las actividades en casa en el rendimiento escolar.\n",
    "2. Evaluar si la dificultad percibida del curso afecta la relación entre estas actividades y el rendimiento académico.\n",
    "\n",
    "**Utilidad del Estudio**:  \n",
    "Este estudio destaca la importancia de que los padres se involucren en actividades que ayuden a los estudiantes fuera del aula, y ofrece información útil para que las políticas educativas promuevan el aprendizaje en familia como una herramienta para mejorar el rendimiento escolar.\n",
    "\n",
    "\n",
    "## Estudio C:\n",
    "https://eric.ed.gov/?q=students+academic+performance&id=EJ1415061\n",
    "\n",
    "### Descripción del Artículo\n",
    "Este estudio utiliza técnicas de inteligencia artificial, específicamente deep learning, para predecir el rendimiento académico en ciencias de estudiantes de secundaria en Turquía. Los investigadores analizaron variables como el tiempo de estudio, el uso de dispositivos electrónicos y el número de libros leídos al año.\n",
    "\n",
    "**Objetivos del Estudio**:\n",
    "1. Predecir el rendimiento en ciencias mediante un modelo de aprendizaje profundo.\n",
    "2. Identificar los factores que influyen más en el rendimiento académico.\n",
    "3. Evaluar la precisión del modelo, que alcanza un 90% de efectividad.\n",
    "\n",
    "**Utilidad del Estudio**:  \n",
    "Este estudio resulta útil para educadores y padres, ya que ayuda a identificar factores que pueden apoyar o dificultar el rendimiento académico. Además, ofrece ideas para el desarrollo de políticas educativas que integren la IA como una herramienta de personalización del aprendizaje."
   ]
  },
  {
   "cell_type": "markdown",
   "metadata": {},
   "source": [
    "## Planteamiento de la hipótesis y de los objetivos a perseguir\n",
    "\n",
    "¿Qué problema pretendo resolver? ¿cuál es su componente de inteligencia ? ¿qué me diferencia de un problema descriptivo/estadístico o de mera visualización?"
   ]
  },
  {
   "cell_type": "markdown",
   "metadata": {},
   "source": [
    "## Posibilidades de enriquecimiento de los datos\n",
    "\n",
    "¿Qué bases de datos públicas me pueden servir para resolver mejor el problema. (fuentes open data, ine, etc.)"
   ]
  }
 ],
 "metadata": {
  "language_info": {
   "name": "python"
  }
 },
 "nbformat": 4,
 "nbformat_minor": 2
}
