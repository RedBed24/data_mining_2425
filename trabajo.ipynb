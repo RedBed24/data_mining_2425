{
 "cells": [
  {
   "cell_type": "markdown",
   "metadata": {},
   "source": [
    "# MINERÍA DE DATOS\n",
    "\n",
    "## GRUPOS DE TRABAJO\n",
    "\n",
    "Los firmantes, formarán los grupos de trabajo para el desarrollo de las actividades grupales de la asignatura (el número de integrantes oscilará entre 5 y 6 personas obligatoriamente).\n",
    "\n",
    "| Apellidos y Nombre        | Correo                       | Participación |\n",
    "| :--                       | :--                          |           --: |\n",
    "| Espejo Gil, Samuel        | samuel.espejo@alu.uclm.es    |           25% |\n",
    "| Chinarro Cabrero, Marcelo | marcelo.chinarro@alu.uclm.es |           25% |\n",
    "| Loro Carrasco, Javier     | javier.loro@alu.uclm.es      |           25% |\n",
    "| Jiménez Redondo, Mario    | mario.jimenez9@alu.uclm.es   |           25% |\n",
    "\n",
    "Coordinador: Samuel\n",
    "\n",
    "<!--\n",
    "## Entregable\n",
    "\n",
    "- Informe con los aspectos iniciales del problema.\n",
    "- Se valorará puntualidad, presentación, redacción, contenido de cada uno de los puntos y originalidad en los planteamientos.\n",
    "-->"
   ]
  },
  {
   "cell_type": "markdown",
   "metadata": {},
   "source": [
    "## Descripción breve de los datos originales\n",
    "\n",
    "Los datos a trabajar en un principio son dos documentos de cálculo excel con tres hojas cada uno.\n",
    "Estos han sido descargados de la página de [educación y deportes del gobierno español](https://www.educacionfpydeportes.gob.es/inee/bases-datos/evaluaciones-nacionales.html), en específico las bases de datos de las evaluaciones generales de diagnóstico, educación primaria (E.G.D. 09) y secundaria (E.G.D. 10)."
   ]
  },
  {
   "cell_type": "markdown",
   "metadata": {},
   "source": [
    "Los documentos se dividen en 3 hojas:\n",
    "\n",
    "1. Datos\n",
    "\n",
    "  Contiene la información a usar, la primera fila son los títulos de las columnas\n",
    "\n",
    "2. Información sobre las variables\n",
    "\n",
    "  Descripción de cada variable indicando además, cuántos valores faltan.\n",
    "\n",
    "3. Valores de las variables\n",
    "\n",
    "  Indica qué significan los valores de los datos.\n",
    "  A cada categoría con valor numérico le asocia una etiqueta.\n",
    "\n",
    "  Aquí se indican cómo se determinan los valores nulos.\n"
   ]
  },
  {
   "cell_type": "markdown",
   "metadata": {},
   "source": [
    "En general, los datos son sobre estudiantes de primaria y secundaria de españa durante los años 2009 y 2010.\n",
    "Las dimensiones tratan datos del alumno como fecha de nacimiento, sexo, centro de estudios y notas pero también se tratan factores externos como los estudios y situación laboral de los padres, la compañía, relación y ayuda que estos ofrecen al igual que con hermanos, alumnos, amigos y profesores.\n",
    "También se tienen en cuenta lenguajes usados, actividades extraescolares, uso y acceso a diferentes comodidades como internet, zona de estudio propia.\n",
    "O incluso factores como las sanciones, conductas, evaluaciones, factores que afectan a la docencia, cantidad de alumnos, aulas, ocupación en tareas directivas, área que el alumno estudia...\n",
    "\n",
    "Hay una gran cantidad de dimensiones a tener en cuenta."
   ]
  },
  {
   "cell_type": "code",
   "execution_count": null,
   "metadata": {},
   "outputs": [],
   "source": [
    "import pandas as pd"
   ]
  },
  {
   "cell_type": "code",
   "execution_count": null,
   "metadata": {},
   "outputs": [],
   "source": [
    "# Load the data from the Excel file\n",
    "# WARNING TAKES A LONG TIME\n",
    "# only loads the first sheet, thats the one that contains the data\n",
    "# other sheets contain metadata\n",
    "egd09 = pd.read_excel(\"data/EGD09.xlsx\")\n",
    "egd10 = pd.read_excel(\"data/EGD10.xlsx\")"
   ]
  },
  {
   "cell_type": "code",
   "execution_count": null,
   "metadata": {},
   "outputs": [],
   "source": [
    "print(f\"Tamaño de E.G.D. 2009 (Filas, Columnas): {egd09.shape}\")\n",
    "print(f\"Tamaño de E.G.D. 2010 (Filas, Columnas): {egd10.shape}\")"
   ]
  },
  {
   "cell_type": "markdown",
   "metadata": {},
   "source": [
    "En cuanto a cantidad de filas, están más o menos parejas, sobre las 29.000.\n",
    "Pero una tiene el doble de columnas que la otra, con un número bastante elevado en ambas."
   ]
  },
  {
   "cell_type": "code",
   "execution_count": null,
   "metadata": {},
   "outputs": [],
   "source": [
    "egd09.describe()"
   ]
  },
  {
   "cell_type": "markdown",
   "metadata": {},
   "source": [
    "La gran mayoría de variables son categóricas por lo que el describe no nos ofrece mucha información.\n",
    "Además, hay que tener en cuenta que, según la hoja de valores, se da un valor específico para nulos (no sabe no contesta).\n",
    "Esto altera la cuenta de filas, ya que `count` también cuenta estos aunque realmente no interesen."
   ]
  },
  {
   "cell_type": "markdown",
   "metadata": {},
   "source": [
    "Esto nos plantea la necesidad de usar la hoja de valores para poder identificar esos valoles nulos.\n",
    "Además, podríamos usar los valores que verdaderamente tienen las categorías.\n",
    "\n",
    "Esta podría ser una forma de cruzar varios datasets.\n",
    "Aunque aumentaría el tiempo de ejecución y la memoria gastada."
   ]
  },
  {
   "cell_type": "markdown",
   "metadata": {},
   "source": [
    "Para trabajar con estos datos será crucial tener presente las 2 hojas descriptivas de cada dataset.\n",
    "\n",
    "Al tener un volumen de datos tan grande, no se listarán estas hojas para no aumentar el tamaño del documento."
   ]
  },
  {
   "cell_type": "markdown",
   "metadata": {},
   "source": [
    "## Antecedentes o trabajos similares\n",
    "\n",
    "<!-- Breve descripción, qué intentan resolver y para qué os pueden ser útiles estas ideas. -->\n",
    "\n",
    "### [Factors that affect the academic performance of high school students in the Sucúa-Ecuador canton](https://cienciadigital.org/revistacienciadigital2/index.php/CienciaDigital/article/view/2338)\n",
    "\n",
    "#### Descripción del Estudio\n",
    "\n",
    "Este estudio se centra en analizar los factores que afectan el rendimiento académico de los estudiantes en Sucúa, Ecuador. Examina temas como la situación familiar, el entorno escolar y el estado emocional de los estudiantes\n",
    "\n",
    "\n",
    "\n",
    "#### Objetivos del Estudio\n",
    "\n",
    "1. Identificar qué factores personales, sociales y emocionales influyen en el rendimiento académico.\n",
    "2. Analizar cómo el bienestar general del estudiante se relaciona con su desempeño.\n",
    "3. Proponer un enfoque educativo que considere no solo el rendimiento académico, sino también el bienestar emocional.\n",
    "\n",
    "#### Utilidad del Estudio\n",
    " \n",
    "Este estudio es útil para que docentes, padres y educadores puedan entender mejor cómo ciertos factores afectan a los estudiantes y tomar medidas como ofrecer asesoramiento psicológico o mejorar la comunicación entre familia y escuela para apoyar a los estudiantes de manera más integral.\n",
    "\n",
    "### [Family Dinner Frequency, Parent-Organised Informal Learning Activities, and Student Academic Performance: Evidence from Chinese Eighth-Grade Students](https://link.springer.com/article/10.1007/s40299-023-00759-5)\n",
    "\n",
    "#### Descripción del Estudio\n",
    "Este estudio analiza cómo las cenas familiares y otras actividades de aprendizaje organizadas por los padres, como visitas a museos o al cine, pueden influir en el rendimiento académico de los estudiantes chinos en materias como matemáticas, chino e inglés.\n",
    "\n",
    "#### Objetivos del Estudio\n",
    "1. Explorar el impacto de las actividades en casa en el rendimiento escolar.\n",
    "2. Evaluar si la dificultad percibida del curso afecta la relación entre estas actividades y el rendimiento académico.\n",
    "\n",
    "#### Utilidad del Estudio\n",
    "Este estudio destaca la importancia de que los padres se involucren en actividades que ayuden a los estudiantes fuera del aula, y ofrece información útil para que las políticas educativas promuevan el aprendizaje en familia como una herramienta para mejorar el rendimiento escolar.\n",
    "\n",
    "\n",
    "### [Predicting Secondary School Students' Academic Performance in Science Course by Machine Learning](https://eric.ed.gov/?q=students+academic+performance&id=EJ1415061)\n",
    "\n",
    "#### Descripción del Artículo\n",
    "Este estudio utiliza técnicas de inteligencia artificial, específicamente deep learning, para predecir el rendimiento académico en ciencias de estudiantes de secundaria en Turquía. Los investigadores analizaron variables como el tiempo de estudio, el uso de dispositivos electrónicos y el número de libros leídos al año.\n",
    "\n",
    "#### Objetivos del Estudio\n",
    "1. Predecir el rendimiento en ciencias mediante un modelo de aprendizaje profundo.\n",
    "2. Identificar los factores que influyen más en el rendimiento académico.\n",
    "3. Evaluar la precisión del modelo, que alcanza un 90% de efectividad.\n",
    "\n",
    "#### Utilidad del Estudio\n",
    "Este estudio resulta útil para educadores y padres, ya que ayuda a identificar factores que pueden apoyar o dificultar el rendimiento académico. Además, ofrece ideas para el desarrollo de políticas educativas que integren la IA como una herramienta de personalización del aprendizaje."
   ]
  },
  {
   "cell_type": "markdown",
   "metadata": {},
   "source": [
    "## Planteamiento de la hipótesis y de los objetivos a perseguir\n",
    "\n",
    "### 1. Efecto de la ayuda con los deberes en el rendimiento académico\n",
    "\n",
    "**Hipótesis**: Los estudiantes que reciben ayuda con los deberes de sus padres, hermanos o profesores particulares tienen un mejor rendimiento académico que aquellos que no reciben ayuda.\n",
    "\n",
    "### 2. Impacto de la situación laboral de los padres en el rendimiento académico\n",
    "\n",
    "**Hipótesis**: Los estudiantes cuyos padres tienen una situación laboral estable o más estudios formales obtienen mejores resultados académicos en comparación con aquellos cuyos padres tienen menos estudios o están desempleados.\n",
    "\n",
    "### 3. Relación entre las actividades extracurriculares y el rendimiento académico\n",
    "\n",
    "**Hipótesis**: Los estudiantes que participan en actividades como leer libros o practicar deportes tienen mejores resultados académicos que aquellos que pasan más tiempo viendo televisión o jugando videojuegos.\n",
    "\n",
    "### 4. Influencia de la lengua hablada en casa en el rendimiento académico\n",
    "\n",
    "**Hipótesis**: Los estudiantes que hablan la misma lengua en casa y en el colegio (ya sea castellano, catalán, gallego, etc.) tienen un mejor rendimiento académico en comparación con aquellos que hablan una lengua diferente en casa y en el colegio.\n"
   ]
  },
  {
   "cell_type": "markdown",
   "metadata": {},
   "source": [
    "## Posibilidades de enriquecimiento de los datos\n",
    "\n",
    "<!-- ¿Qué bases de datos públicas me pueden servir para resolver mejor el problema. (fuentes open data, ine, etc.) -->\n",
    "\n",
    "\n",
    "Consideramos alguna fuente de sitios como kaggle, o UC Irvine, pero escogimos la base de datos mencionada en la descripción de los datos originales, debido a la gran cantidad de datos incluidos, la baja cantidad de datos faltantes en comparación con su tamaño, y el hecho de que viene de una organización fiable, y de España (asumiendo que datos de España serian mas útiles para nosotros que datos de una fuente extranjera).\n",
    "\n",
    "Las bases de datos escogidas idealmente necesitarían contener datos que nos permitan validar nuestras hipótesis:\n",
    "\n",
    "* Presencia de apoyo externo para el trabajo escolar\n",
    "* Situación familiar (trabajos de los padres de un/una estudiante)\n",
    "* Actividades extracurriculares realizadas\n",
    "* La lengua nativa hablada en su casa\n",
    "\n",
    "\n",
    "Nuestro dataset podemos ver que contiene una varias variables\n",
    "que nos ayudaran a confirmar cada hipótesis. Algunos ejemplos de\n",
    "estas serían:\n",
    "\n",
    "* **Hipótesis 1**: Las variables `PF14-21` representan\n",
    "    características de los parientes como su situación laboral,\n",
    "    estudios, etc.\n",
    "* **Hipótesis 2**: Se puede usar las variables `PF12`, ya que\n",
    "    representan la ayuda recibida por otra gente fuera del\n",
    "    profesorado.\n",
    "* **Hipótesis 3**: Las variables `P21` corresponden a una\n",
    "    variedad de actividades fuera del colegio. Aunque no\n",
    "    estrictamente necesarias, esta hipótesis podría beneficiarse\n",
    "    del uso de variables `P22` (Uso del ordenador en\n",
    "    contextos) y `P23` (Uso dado del internet)\n",
    "* **Hipótesis 4**: Todas las variables `P12` se corresponden\n",
    "    a los idiomas hablados en el entorno, ya sea amistades, idioma\n",
    "    hablado en la television, o en el colegio.\n",
    "* **Rendimiento Académico**: Los datos `PF10` por ejemplo\n",
    "    podrían usarse para el rendimiento académico, ya que habla de\n",
    "    la relación con otros estudiantes y tutor o tutora, ademas de\n",
    "    nivel de aprendizaje, trabajo en clase y clima escolar. Los \n",
    "    datos `PV`, encontrados al final, también podrían resultar \n",
    "    útiles, aunque no queda claro completamente por la descripción\n",
    "    cual seria su rol en el conjunto de datos.\n",
    "\n",
    "La presencia de estos datos, cantidad de filas, y otras\n",
    "variables de los datos, mencionadas, lo hace apropiado para\n",
    "su uso para nuestro proyecto."
   ]
  },
  {
   "cell_type": "markdown",
   "metadata": {},
   "source": [
    "## Análisis exploratorio de los datos"
   ]
  },
  {
   "cell_type": "markdown",
   "metadata": {},
   "source": [
    "### Distribución de variables"
   ]
  },
  {
   "cell_type": "markdown",
   "metadata": {},
   "source": [
    "### Análisis de nulos"
   ]
  },
  {
   "cell_type": "markdown",
   "metadata": {},
   "source": [
    "### Correlación entre variables"
   ]
  },
  {
   "cell_type": "markdown",
   "metadata": {},
   "source": [
    "### Detección de valores atípicos"
   ]
  }
 ],
 "metadata": {
  "language_info": {
   "name": "python"
  }
 },
 "nbformat": 4,
 "nbformat_minor": 2
}
