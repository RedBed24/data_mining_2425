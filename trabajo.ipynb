{
 "cells": [
  {
   "cell_type": "markdown",
   "metadata": {},
   "source": [
    "# MINERÍA DE DATOS\n",
    "\n",
    "## GRUPOS DE TRABAJO\n",
    "\n",
    "Los firmantes, formarán los grupos de trabajo para el desarrollo de las actividades grupales de la asignatura (el número de integrantes oscilará entre 5 y 6 personas obligatoriamente).\n",
    "\n",
    "| Apellidos y Nombre | Correo | Participación |\n",
    "| :-- | :-- | --: |\n",
    "| Espejo Gil, Samuel | samuel.espejo@alu.uclm.es | 25% |\n",
    "| Chinarro Cabrero, Marcelo | marcelo.chinarro@alu.uclm.es | 25% |\n",
    "| Loro Carrasco, Javier | javier.loro@alu.uclm.es | 25% |\n",
    "| Jiménez Redondo, Mario | mario.jimenez9@alu.uclm.es | 25% |\n",
    "\n",
    "Coordinador: Samuel\n",
    "\n",
    "<!--\n",
    "## Entregable\n",
    "\n",
    "- Informe con los aspectos iniciales del problema.\n",
    "- Se valorará puntualidad, presentación, redacción, contenido de cada uno de los puntos y originalidad en los planteamientos.\n",
    "-->"
   ]
  },
  {
   "cell_type": "markdown",
   "metadata": {},
   "source": [
    "## Descripción breve de los datos originales\n",
    "\n",
    "Sobre que tratan, qué representan, que volumen de datos contienen. Se puede incluir descripción detallada (tablas, campos, pequeño análisis exploratorio) como anexo."
   ]
  },
  {
   "cell_type": "code",
   "execution_count": null,
   "metadata": {},
   "outputs": [],
   "source": [
    "import pandas as pd"
   ]
  },
  {
   "cell_type": "code",
   "execution_count": null,
   "metadata": {},
   "outputs": [],
   "source": [
    "# Load the data from the Excel file\n",
    "# WARNING TAKES A LONG TIME\n",
    "# only loads the first sheet, thats the one that contains the data\n",
    "# other sheets contain metadata\n",
    "data = pd.read_excel(\"data/EGD09.xlsx\")\n",
    "\n",
    "# Display the first few rows of the dataframe\n",
    "data.head()"
   ]
  },
  {
   "cell_type": "markdown",
   "metadata": {},
   "source": [
    "## Antecedentes o trabajos similares\n",
    "\n",
    "Breve descripción, qué intentan resolver y para qué os pueden ser útiles estas ideas."
   ]
  },
  {
   "cell_type": "markdown",
   "metadata": {},
   "source": [
    "## Planteamiento de la hipótesis y de los objetivos a perseguir\n",
    "\n",
    "¿Qué problema pretendo resolver? ¿cuál es su componente de inteligencia ? ¿qué me diferencia de un problema descriptivo/estadístico o de mera visualización?"
   ]
  },
  {
   "cell_type": "markdown",
   "metadata": {},
   "source": [
    "## Posibilidades de enriquecimiento de los datos\n",
    "\n",
    "¿Qué bases de datos públicas me pueden servir para resolver mejor el problema. (fuentes open data, ine, etc.)"
   ]
  }
 ],
 "metadata": {
  "language_info": {
   "name": "python"
  }
 },
 "nbformat": 4,
 "nbformat_minor": 2
}
