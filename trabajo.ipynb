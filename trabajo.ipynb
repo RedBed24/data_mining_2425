{
 "cells": [
  {
   "cell_type": "markdown",
   "metadata": {},
   "source": [
    "# MINERÍA DE DATOS\n",
    "\n",
    "## GRUPOS DE TRABAJO\n",
    "\n",
    "Los firmantes, formarán los grupos de trabajo para el desarrollo de las actividades grupales de la asignatura (el número de integrantes oscilará entre 5 y 6 personas obligatoriamente).\n",
    "\n",
    "| Apellidos y Nombre        | Correo                       | Participación |\n",
    "| :--                       | :--                          |           --: |\n",
    "| Espejo Gil, Samuel        | samuel.espejo@alu.uclm.es    |           25% |\n",
    "| Chinarro Cabrero, Marcelo | marcelo.chinarro@alu.uclm.es |           25% |\n",
    "| Loro Carrasco, Javier     | javier.loro@alu.uclm.es      |           25% |\n",
    "| Jiménez Redondo, Mario    | mario.jimenez9@alu.uclm.es   |           25% |\n",
    "\n",
    "Coordinador: Samuel\n",
    "\n",
    "<!--\n",
    "## Entregable\n",
    "\n",
    "- Informe con los aspectos iniciales del problema.\n",
    "- Se valorará puntualidad, presentación, redacción, contenido de cada uno de los puntos y originalidad en los planteamientos.\n",
    "-->"
   ]
  },
  {
   "cell_type": "markdown",
   "metadata": {},
   "source": [
    "## Descripción breve de los datos originales\n",
    "\n",
    "Sobre que tratan, qué representan, que volumen de datos contienen. Se puede incluir descripción detallada (tablas, campos, pequeño análisis exploratorio) como anexo."
   ]
  },
  {
   "cell_type": "code",
   "execution_count": null,
   "metadata": {},
   "outputs": [],
   "source": [
    "import pandas as pd"
   ]
  },
  {
   "cell_type": "code",
   "execution_count": null,
   "metadata": {},
   "outputs": [],
   "source": [
    "# Load the data from the Excel file\n",
    "# WARNING TAKES A LONG TIME\n",
    "# only loads the first sheet, thats the one that contains the data\n",
    "# other sheets contain metadata\n",
    "data = pd.read_excel(\"data/EGD09.xlsx\")\n",
    "\n",
    "# Display the first few rows of the dataframe\n",
    "data.head()"
   ]
  },
  {
   "cell_type": "markdown",
   "metadata": {},
   "source": [
    "## Antecedentes o trabajos similares\n",
    "\n",
    "Breve descripción, qué intentan resolver y para qué os pueden ser útiles estas ideas."
   ]
  },
  {
   "cell_type": "markdown",
   "metadata": {},
   "source": [
    "## Planteamiento de la hipótesis y de los objetivos a perseguir\n",
    "\n",
    "¿Qué problema pretendo resolver? ¿cuál es su componente de inteligencia ? ¿qué me diferencia de un problema descriptivo/estadístico o de mera visualización?"
   ]
  },
  {
   "cell_type": "markdown",
   "metadata": {},
   "source": [
    "## Posibilidades de enriquecimiento de los datos\n",
    "\n",
    "<!-- ¿Qué bases de datos públicas me pueden servir para resolver mejor el problema. (fuentes open data, ine, etc.) -->\n",
    "\n",
    "\n",
    "Consideramos alguna fuente de sitios como kaggle, o UC Irvine, pero escogimos la base de datos mencionada en la descripción de los datos originales, debido a la gran cantidad de datos incluidos, la baja cantidad de datos faltantes en comparación con su tamaño, y el hecho de que viene de una organización fiable, y de España (asumiendo que datos de España serian mas útiles para nosotros que datos de una fuente extranjera).\n",
    "\n",
    "Las bases de datos escogidas idealmente necesitarían contener datos que nos permitan validar nuestras hipótesis:\n",
    "\n",
    "* Presencia de apoyo externo para el trabajo escolar\n",
    "* Situación familiar (trabajos de los padres de un/una estudiante)\n",
    "* Actividades extracurriculares realizadas\n",
    "* La lengua nativa hablada en su casa\n",
    "\n",
    "\n",
    "Nuestro dataset podemos ver que contiene una varias variables\n",
    "que nos ayudaran a confirmar cada hipótesis. Algunos ejemplos de\n",
    "estas serían:\n",
    "\n",
    "* **Hipótesis 1**: Las variables `PF14-21` representan\n",
    "    características de los parientes como su situación laboral,\n",
    "    estudios, etc.\n",
    "* **Hipótesis 2**: Se puede usar las variables `PF12`, ya que\n",
    "    representan la ayuda recibida por otra gente fuera del\n",
    "    profesorado.\n",
    "* **Hipótesis 3**: Las variables `P21` corresponden a una\n",
    "    variedad de actividades fuera del colegio. Aunque no\n",
    "    estrictamente necesarias, esta hipótesis podría beneficiarse\n",
    "    del uso de variables `P22` (Uso del ordenador en\n",
    "    contextos) y `P23` (Uso dado del internet)\n",
    "* **Hipótesis 4**: Todas las variables `P12` se corresponden\n",
    "    a los idiomas hablados en el entorno, ya sea amistades, idioma\n",
    "    hablado en la television, o en el colegio.\n",
    "* **Rendimiento Académico**: Los datos `PF10` por ejemplo\n",
    "    podrían usarse para el rendimiento académico, ya que habla de\n",
    "    la relación con otros estudiantes y tutor o tutora, ademas de\n",
    "    nivel de aprendizaje, trabajo en clase y clima escolar. Los \n",
    "    datos `PV`, encontrados al final, también podrían resultar \n",
    "    útiles, aunque no queda claro completamente por la descripción\n",
    "    cual seria su rol en el conjunto de datos.\n",
    "\n",
    "La presencia de estos datos, cantidad de filas, y otras\n",
    "variables de los datos, mencionadas, lo hace apropiado para\n",
    "su uso para nuestro proyecto."
   ]
  }
 ],
 "metadata": {
  "language_info": {
   "name": "python"
  }
 },
 "nbformat": 4,
 "nbformat_minor": 2
}
