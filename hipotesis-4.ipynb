{
 "cells": [
  {
   "cell_type": "markdown",
   "metadata": {},
   "source": [
    "# Relación entre las actividades extracurriculares y el rendimiento académico\n",
    "\n",
    "Los estudiantes que participan en actividades como leer libros o practicar deportes tienen mejores resultados académicos que aquellos que pasan más tiempo viendo televisión o jugando videojuegos.\n"
   ]
  },
  {
   "cell_type": "markdown",
   "metadata": {},
   "source": [
    "## Selección de datos\n",
    "\n",
    "Para el dataset de egd10, disponemos de las siguientes variables a estudiar, divididas en dos grupos según el tipo de actividad:\n",
    "\n",
    "Hábitos relacionados con actividades culturales y formativas:\n",
    "\n",
    "- `S20B`\tActividades fuera del colegio-Escuchar música\n",
    "- `S20C`\tActividades fuera del colegio-Practicar deporte\n",
    "- `S20D`\tActividades fuera del colegio-Leer libros, cuentos, cómic\n",
    "- `S20E`\tActividades fuera del colegio-Leer prensa o revistas\n",
    "- `S20F`\tActividades fuera del colegio-Jugar con amigos\n",
    "- `S22A`\tInternet para-Buscar información para tus estudios\n",
    "- `S22B`\tInternet para-Buscar información sobre deportes\n",
    "- `S22C`\tInternet para-Buscar información sobre juegos\n",
    "- `S22D`\tInternet para-Buscar información sobre música o cine\n",
    "- `S22E`\tInternet para-Buscar información sobre otros temas\n",
    "\n",
    "Hábitos relacionados con actividades de ocio digital:\n",
    "\n",
    "- `S20A`\tActividades fuera del colegio-Ver televisión, vídeos o DVDS\n",
    "- `S20G`\tActividades fuera del colegio-Hablar por teléfono\n",
    "- `S20H`\tActividades fuera del colegio-Jugar con videojuegos o con el ordenador\n",
    "- `S20I`\tActividades fuera del colegio-Participar en chats o messenger\n",
    "- `S20J`\tActividades fuera del colegio-Usar internet\n",
    "- `S21A`\tFrecuencia utilización ordenador-En casa\n",
    "- `S21C`\tFrecuencia utilización ordenador-En otros lugares\n",
    "- `S22F`\tInternet para-Comunicarme con otras personas\n",
    "\n",
    "También se han seleccionado las variables relacionadas con el rendimiento académico, como se ha hecho en otras hipótesis.\n"
   ]
  },
  {
   "cell_type": "code",
   "execution_count": null,
   "metadata": {},
   "outputs": [],
   "source": [
    "import pandas as pd"
   ]
  },
  {
   "cell_type": "code",
   "execution_count": null,
   "metadata": {},
   "outputs": [],
   "source": [
    "egd10 = pd.read_excel(\"data/EGD10.xlsx\")"
   ]
  },
  {
   "cell_type": "code",
   "execution_count": null,
   "metadata": {},
   "outputs": [],
   "source": [
    "cultural_features = [\n",
    "    \"S20B\",\n",
    "    \"S20C\",\n",
    "    \"S20D\",\n",
    "    \"S20E\",\n",
    "    \"S20F\",\n",
    "    \"S22A\",\n",
    "    \"S22B\",\n",
    "    \"S22C\",\n",
    "    \"S22D\",\n",
    "    \"S22E\",\n",
    "]\n",
    "digital_features = [\n",
    "    \"S20A\",\n",
    "    \"S20G\",\n",
    "    \"S20H\",\n",
    "    \"S20I\",\n",
    "    \"S20J\",\n",
    "    \"S21A\",\n",
    "    \"S21C\",\n",
    "    \"S22F\",\n",
    "]\n",
    "targets = list(map(lambda x: x.upper(), [\n",
    "    \"PV1ling\",\n",
    "    \"PV2ling\",\n",
    "    \"PV3ling\",\n",
    "    \"PV4ling\",\n",
    "    \"PV5ling\",\n",
    "    \"PV1mat\",\n",
    "    \"PV2mat\",\n",
    "    \"PV3mat\",\n",
    "    \"PV4mat\",\n",
    "    \"PV5mat\",\n",
    "    \"PV1mfis\",\n",
    "    \"PV2mfis\",\n",
    "    \"PV3mfis\",\n",
    "    \"PV4mfis\",\n",
    "    \"PV5mfis\",\n",
    "    \"PV1syc\",\n",
    "    \"PV2syc\",\n",
    "    \"PV3syc\",\n",
    "    \"PV4syc\",\n",
    "    \"PV5syc\",\n",
    "]))\n"
   ]
  },
  {
   "cell_type": "code",
   "execution_count": null,
   "metadata": {},
   "outputs": [],
   "source": [
    "egd10 = egd10[targets + cultural_features + digital_features]\n",
    "egd10.dropna(inplace=True)\n"
   ]
  },
  {
   "cell_type": "markdown",
   "metadata": {},
   "source": [
    "## Tratamiento y limpieza de datos\n"
   ]
  },
  {
   "cell_type": "code",
   "execution_count": null,
   "metadata": {},
   "outputs": [],
   "source": [
    "egd10.loc[:, \"mean_score\"] = egd10[targets].mean(axis=1)\n",
    "egd10.drop(targets, axis=1, inplace=True)\n",
    "egd10.loc[:, \"mean_score\"] = egd10[\"mean_score\"].apply(lambda x: x/100)\n"
   ]
  },
  {
   "cell_type": "markdown",
   "metadata": {},
   "source": [
    "Todas las variables con las que tratamos son categóricas ordinales.\n",
    "\n",
    "Para las variables 20[A-J], la medida es tiempo en horas, aunque no queda claro si es al día o a la semana.\n",
    "El máximo es de 2h, por lo que se ha decidido considerar que es al día.\n",
    "\n",
    "En cuanto a 21[A-C] y 22[A-F], la medida es la frecuencia de uso.\n"
   ]
  },
  {
   "cell_type": "markdown",
   "metadata": {},
   "source": [
    "En todas estas se toma el 9 como valor por defecto, aunque también se toma el 1 para indicar el no uso.\n",
    "Por esto mismo, descartaremos aquellas filas que tengan un 9."
   ]
  },
  {
   "cell_type": "code",
   "execution_count": null,
   "metadata": {},
   "outputs": [],
   "source": [
    "egd10 = egd10[(egd10[cultural_features + digital_features] != 9).all(axis=1)]\n"
   ]
  },
  {
   "cell_type": "markdown",
   "metadata": {},
   "source": [
    "Para poder unificar las variables, haremos la siguiente conversión:\n",
    "\n",
    "Para la variable de tiempo:\n",
    "\n",
    "- Nada de tiempo → 0 horas\n",
    "- Menos de 30 minutos → 0.25 horas\n",
    "- Entre 30 y 60 minutos → 0.75 horas\n",
    "- Entre 1 y 2 horas → 1.5 horas\n",
    "- Más de 2 horas → 2.5 horas\n",
    "\n",
    "Para la variable de frecuencia:\n",
    "\n",
    "- Nunca o casi nunca → 0 horas (se puede tratar como \"0 tiempo dedicado\").\n",
    "- Una o dos veces al mes → 0.25 horas (aproximadamente equivalente a dedicar menos de 30 minutos en promedio semanal).\n",
    "- Una o dos veces a la semana → 0.75 horas (aproximadamente 30-60 minutos a la semana).\n",
    "- Todos o casi todos los días → 1.5 horas (equivalente a dedicar una hora diaria en promedio)."
   ]
  },
  {
   "cell_type": "markdown",
   "metadata": {},
   "source": [
    "## Características de la tarjeta de datos\n"
   ]
  },
  {
   "cell_type": "markdown",
   "metadata": {},
   "source": [
    "## Líneas de Trabajo\n"
   ]
  }
 ],
 "metadata": {
  "language_info": {
   "name": "python"
  }
 },
 "nbformat": 4,
 "nbformat_minor": 2
}
