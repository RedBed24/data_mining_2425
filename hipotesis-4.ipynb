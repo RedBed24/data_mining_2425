{
 "cells": [
  {
   "cell_type": "markdown",
   "metadata": {},
   "source": [
    "# Relación entre las actividades extracurriculares y el rendimiento académico\n",
    "\n",
    "Los estudiantes que participan en actividades como leer libros o practicar deportes tienen mejores resultados académicos que aquellos que pasan más tiempo viendo televisión o jugando videojuegos.\n",
    "\n",
    "Para el dataset de egd10, disponemos de las siguientes variables a estudiar\n",
    ":\n",
    "\n",
    "\n",
    "- `S20A`\tActividades fuera del colegio-Ver televisión, vídeos o DVDS\n",
    "- `S20B`\tActividades fuera del colegio-Escuchar música\n",
    "- `S20C`\tActividades fuera del colegio-Practicar deporte\n",
    "- `S20D`\tActividades fuera del colegio-Leer libros, cuestos, cómic\n",
    "- `S20E`\tActividades fuera del colegio-Leer prensa o revistas\n",
    "- `S20F`\tActividades fuera del colegio-Jugar con amigos\n",
    "- `S20G`\tActividades fuera del colegio-Hablar por teléfono\n",
    "- `S20H`\tActividades fuera del colegio-Jugar con videojuegos o con el ordenador\n",
    "- `S20I`\tActividades fuera del colegio-Participar en chats o messenger\n",
    "- `S20J`\tActividades fuera del colegio-Usar internet\n",
    "- `S21A`\tFrecuencia utilización ordenador-En casa\n",
    "- `S21B`\tFrecuencia utilización ordenador-En el colegio\n",
    "- `S21C`\tFrecuencia utilización ordenador-En otros lugares\n",
    "- `S22A`\tInternet para-Buscar información para tus estudios\n",
    "- `S22B`\tInternet para-Buscar información sobre deportes\n",
    "- `S22C`\tInternet para-Buscar información sobre juegos\n",
    "- `S22D`\tInternet para-Buscar información sobre música o cine\n",
    "- `S22E`\tInternet para-Buscar información sobre otros temas\n",
    "- `S22F`\tInternet para-Comunicarme con otras personas\n"
   ]
  },
  {
   "cell_type": "markdown",
   "metadata": {},
   "source": [
    "## Selección de datos\n",
    "Despues de revisar, seleccionamos las siguientes variables para cada lado de la hipotesis:\n",
    "\n",
    "- `S20A`\tActividades fuera del colegio-Ver televisión, vídeos o DVDS\n",
    "- `S20G`\tActividades fuera del colegio-Hablar por teléfono\n",
    "- `S20H`\tActividades fuera del colegio-Jugar con videojuegos o con el ordenador\n",
    "- `S20I`\tActividades fuera del colegio-Participar en chats o messenger\n",
    "- `S20J`\tActividades fuera del colegio-Usar internet\n",
    "\n",
    "- `S21A`\tFrecuencia utilización ordenador-En casa\n",
    "- `S21C`\tFrecuencia utilización ordenador-En otros lugares\n",
    "\n",
    "----------------------------------------------------------\n",
    "\n",
    "\n",
    "- `S20B`\tActividades fuera del colegio-Escuchar música\n",
    "- `S20C`\tActividades fuera del colegio-Practicar deporte\n",
    "- `S20D`\tActividades fuera del colegio-Leer libros, cuestos, cómic\n",
    "- `S20E`\tActividades fuera del colegio-Leer prensa o revistas\n",
    "- `S20F`\tActividades fuera del colegio-Jugar con amigos\n"
   ]
  },
  {
   "cell_type": "code",
   "execution_count": null,
   "metadata": {},
   "outputs": [],
   "source": [
    "import pandas as pd"
   ]
  },
  {
   "cell_type": "code",
   "execution_count": null,
   "metadata": {},
   "outputs": [],
   "source": [
    "egd10 = pd.read_excel(\"data/EGD10.xlsx\")"
   ]
  },
  {
   "cell_type": "code",
   "execution_count": null,
   "metadata": {},
   "outputs": [],
   "source": [
    "selected_ocio = [\n",
    "    \"S20B\",\n",
    "    \"S20C\",\n",
    "    \"S20D\",\n",
    "    \"S20E\",\n",
    "    \"S20F\",\n",
    "]\n",
    "\n",
    "selected_internet = [\n",
    "    \"S20A\",\n",
    "    \"S20G\",\n",
    "    \"S20H\",\n",
    "    \"S20I\",\n",
    "    \"S20A\",\n",
    "    \"S21A\",\n",
    "    \"S21C\",\n",
    "\n",
    "]"
   ]
  },
  {
   "cell_type": "markdown",
   "metadata": {},
   "source": [
    "## Tratamiento y limpieza de datos\n"
   ]
  },
  {
   "cell_type": "code",
   "execution_count": null,
   "metadata": {},
   "outputs": [],
   "source": [
    "\n",
    "egd10.dropna(subset=selected_internet, inplace=True)\n",
    "egd10.dropna(subset=selected_ocio, inplace=True)\n",
    "egd10 = egd10[egd10[\"S21A\"] != 9]\n",
    "egd10 = egd10[egd10[\"S21C\"] != 9]\n",
    "egd10[\"S21A\"].value_counts()\n",
    "egd10[\"S21C\"].value_counts()"
   ]
  },
  {
   "cell_type": "markdown",
   "metadata": {},
   "source": [
    "Hay que unificar ciertas variables que tratan sobre mismas actividades"
   ]
  },
  {
   "cell_type": "code",
   "execution_count": null,
   "metadata": {},
   "outputs": [],
   "source": [
    "egd10[\"internet\"]=egd10[\"S21A\"]+egd10[\"S21C\"]\n",
    "egd10[\"internet\"].value_counts()"
   ]
  },
  {
   "cell_type": "code",
   "execution_count": null,
   "metadata": {},
   "outputs": [],
   "source": [
    "egd10[\"suma_ocio\"] = egd10[selected_ocio].sum(axis=1)\n",
    "egd10[\"suma_ocio\"].value_counts()"
   ]
  },
  {
   "cell_type": "code",
   "execution_count": null,
   "metadata": {},
   "outputs": [],
   "source": [
    "# Calcular la proporción respecto al valor máximo para ambas variables\n",
    "egd10[\"proporcion_internet\"] = egd10[\"internet\"] / egd10[\"internet\"].max()\n",
    "egd10[\"proporcion_suma_ocio\"] = egd10[\"suma_ocio\"] / egd10[\"suma_ocio\"].max()\n",
    "\n",
    "# Comparar cuál está más cerca de su máximo\n",
    "egd10[\"mas_cerca_maximo\"] = egd10[[\"proporcion_internet\", \"proporcion_suma_ocio\"]].idxmax(axis=1)\n",
    "\n",
    "# Ver los primeros resultados\n",
    "print(egd10[[\"internet\", \"suma_ocio\", \"proporcion_internet\", \"proporcion_suma_ocio\", \"mas_cerca_maximo\"]].head())\n"
   ]
  },
  {
   "cell_type": "markdown",
   "metadata": {},
   "source": [
    "## Características de la tarjeta de datos\n"
   ]
  },
  {
   "cell_type": "markdown",
   "metadata": {},
   "source": [
    "## Líneas de Trabajo\n"
   ]
  }
 ],
 "metadata": {
  "language_info": {
   "name": "python"
  }
 },
 "nbformat": 4,
 "nbformat_minor": 2
}
