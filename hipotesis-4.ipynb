{
 "cells": [
  {
   "cell_type": "markdown",
   "metadata": {},
   "source": [
    "# Relación entre las actividades extracurriculares y el rendimiento académico\n",
    "**- Hipótesis:**\n",
    "*Los estudiantes que participan en actividades como leer libros o practicar deportes tienen mejores resultados académicos que aquellos que pasan más tiempo viendo televisión o jugando videojuegos.*\n"
   ]
  },
  {
   "cell_type": "markdown",
   "metadata": {},
   "source": [
    "## Selección de datos\n",
    "\n",
    "Para el dataset `egd10`, disponemos de las siguientes variables a estudiar, divididas en dos grupos según el tipo de actividad:\n",
    "\n",
    "Hábitos relacionados con **actividades culturales y formativas**:\n",
    "\n",
    "- `S20B`\tActividades fuera del colegio-Escuchar música\n",
    "- `S20C`\tActividades fuera del colegio-Practicar deporte\n",
    "- `S20D`\tActividades fuera del colegio-Leer libros, cuentos, cómic\n",
    "- `S20E`\tActividades fuera del colegio-Leer prensa o revistas\n",
    "- `S20F`\tActividades fuera del colegio-Jugar con amigos\n",
    "- `S22A`\tInternet para-Buscar información para tus estudios\n",
    "- `S22B`\tInternet para-Buscar información sobre deportes\n",
    "- `S22C`\tInternet para-Buscar información sobre juegos\n",
    "- `S22D`\tInternet para-Buscar información sobre música o cine\n",
    "- `S22E`\tInternet para-Buscar información sobre otros temas\n",
    "\n",
    "Hábitos relacionados con **actividades de ocio digital**:\n",
    "\n",
    "- `S20A`\tActividades fuera del colegio-Ver televisión, vídeos o DVDS\n",
    "- `S20G`\tActividades fuera del colegio-Hablar por teléfono\n",
    "- `S20H`\tActividades fuera del colegio-Jugar con videojuegos o con el ordenador\n",
    "- `S20I`\tActividades fuera del colegio-Participar en chats o messenger\n",
    "- `S20J`\tActividades fuera del colegio-Usar internet\n",
    "- `S21A`\tFrecuencia utilización ordenador-En casa\n",
    "- `S21C`\tFrecuencia utilización ordenador-En otros lugares\n",
    "- `S22F`\tInternet para-Comunicarme con otras personas\n",
    "\n",
    "También se han seleccionado las variables relacionadas con el rendimiento académico, como se ha hecho en otras hipótesis.\n"
   ]
  },
  {
   "cell_type": "code",
   "execution_count": null,
   "metadata": {},
   "outputs": [],
   "source": [
    "import pandas as pd"
   ]
  },
  {
   "cell_type": "code",
   "execution_count": null,
   "metadata": {},
   "outputs": [],
   "source": [
    "egd10 = pd.read_excel(\"data/EGD10.xlsx\")"
   ]
  },
  {
   "cell_type": "code",
   "execution_count": null,
   "metadata": {},
   "outputs": [],
   "source": [
    "cultural_features = [\n",
    "    \"S20B\",\n",
    "    \"S20C\",\n",
    "    \"S20D\",\n",
    "    \"S20E\",\n",
    "    \"S20F\",\n",
    "    \"S22A\",\n",
    "    \"S22B\",\n",
    "    \"S22C\",\n",
    "    \"S22D\",\n",
    "    \"S22E\",\n",
    "]\n",
    "digital_features = [\n",
    "    \"S20A\",\n",
    "    \"S20G\",\n",
    "    \"S20H\",\n",
    "    \"S20I\",\n",
    "    \"S20J\",\n",
    "    \"S21A\",\n",
    "    \"S21C\",\n",
    "    \"S22F\",\n",
    "]\n",
    "targets = list(map(lambda x: x.upper(), [\n",
    "    \"PV1ling\",\n",
    "    \"PV2ling\",\n",
    "    \"PV3ling\",\n",
    "    \"PV4ling\",\n",
    "    \"PV5ling\",\n",
    "    \"PV1mat\",\n",
    "    \"PV2mat\",\n",
    "    \"PV3mat\",\n",
    "    \"PV4mat\",\n",
    "    \"PV5mat\",\n",
    "    \"PV1mfis\",\n",
    "    \"PV2mfis\",\n",
    "    \"PV3mfis\",\n",
    "    \"PV4mfis\",\n",
    "    \"PV5mfis\",\n",
    "    \"PV1syc\",\n",
    "    \"PV2syc\",\n",
    "    \"PV3syc\",\n",
    "    \"PV4syc\",\n",
    "    \"PV5syc\",\n",
    "]))\n"
   ]
  },
  {
   "cell_type": "code",
   "execution_count": null,
   "metadata": {},
   "outputs": [],
   "source": [
    "egd10 = egd10[targets + cultural_features + digital_features]\n",
    "egd10.dropna(inplace=True)\n"
   ]
  },
  {
   "cell_type": "markdown",
   "metadata": {},
   "source": [
    "## Tratamiento y limpieza de datos\n"
   ]
  },
  {
   "cell_type": "markdown",
   "metadata": {},
   "source": [
    "La transformación de las variables requerirá de la agrupación de las mismas, para ello tendremos que realizar previamente una unificación de las unidades de medida. Adicionalmente, para que esto sea posible, tendremos que trater primero los valores nulos de las variables que vayamos a tener en cuenta."
   ]
  },
  {
   "cell_type": "markdown",
   "metadata": {},
   "source": [
    "### Tratamiento de valores nulos"
   ]
  },
  {
   "cell_type": "markdown",
   "metadata": {},
   "source": [
    "En relación con las variables seleccionadas, será necesario realizar un tratamiento específico de los valores por defecto. En todas estas variables, el valor 9 se utiliza como marcador por defecto, mientras que el valor 1 se emplea para indicar ausencia o no uso.\n",
    "\n",
    "Por esta razón, procederemos a descartar aquellas filas en las que el valor de la variable sea 9, ya que no aportan información relevante para el análisis.\n"
   ]
  },
  {
   "cell_type": "code",
   "execution_count": null,
   "metadata": {},
   "outputs": [],
   "source": [
    "egd10 = egd10[(egd10[cultural_features + digital_features] != 9).all(axis=1)]"
   ]
  },
  {
   "cell_type": "markdown",
   "metadata": {},
   "source": [
    "Para el caso de las variables de `target`, procederemos de igual manera que con las anteriores hipótesis."
   ]
  },
  {
   "cell_type": "markdown",
   "metadata": {},
   "source": [
    "### Tratamiento de las variables"
   ]
  },
  {
   "cell_type": "markdown",
   "metadata": {},
   "source": [
    "En primer lugar, agrupamos las variables de `target`:"
   ]
  },
  {
   "cell_type": "code",
   "execution_count": null,
   "metadata": {},
   "outputs": [],
   "source": [
    "egd10.loc[:, \"Nota_Media\"] = egd10[targets].mean(axis=1)\n",
    "egd10.drop(targets, axis=1, inplace=True)\n",
    "egd10.loc[:, \"Nota_Media\"] = egd10[\"Nota_Media\"].apply(lambda x: x / 100)"
   ]
  },
  {
   "cell_type": "markdown",
   "metadata": {},
   "source": [
    "Para el caso de las variables seleccionadas, observamos en primer lugar que todas son categóricas ordinales.\n",
    "\n",
    "Para las variables 20[A-J], la medida es tiempo en horas, aunque no queda claro si es al día o a la semana.\n",
    "El máximo es de 2h, por lo que se ha decidido considerar que es al día.\n",
    "\n",
    "En cuanto a 21[A-C] y 22[A-F], la medida es la frecuencia de uso.\n"
   ]
  },
  {
   "cell_type": "markdown",
   "metadata": {},
   "source": [
    "Para poder unificar las variables, haremos la siguiente conversión a \"tiempo dedicado\", medido en horas:\n",
    "\n",
    "Para la variable de tiempo:\n",
    "\n",
    "- Nada de tiempo → 0 horas\n",
    "- Menos de 30 minutos → 0.25 horas\n",
    "- Entre 30 y 60 minutos → 0.75 horas\n",
    "- Entre 1 y 2 horas → 1.5 horas\n",
    "- Más de 2 horas → 2.5 horas\n",
    "\n",
    "Para la variable de frecuencia:\n",
    "\n",
    "- Nunca o casi nunca → 0 horas (se puede tratar como \"0 tiempo dedicado\").\n",
    "- Una o dos veces al mes → 0.2 horas (aproximadamente equivalente a dedicar menos de 30 minutos en promedio semanal).\n",
    "- Una o dos veces a la semana → 0.65 horas (aproximadamente 30-60 minutos a la semana).\n",
    "- Todos o casi todos los días → 1.25 horas (equivalente a dedicar una hora y pico diaria en promedio)."
   ]
  },
  {
   "cell_type": "markdown",
   "metadata": {},
   "source": [
    "Lo que haremos es mapear la conversión a cada una de las variables y después haremos un total agrupando en \"actividades de ocio digital\" o \"actividades culturales y formativas\":"
   ]
  },
  {
   "cell_type": "code",
   "execution_count": null,
   "metadata": {},
   "outputs": [],
   "source": [
    "# Mapeos para las variables de tiempo y frecuencia\n",
    "# Los valores representan horas estimadas para cada categoría\n",
    "map_tiempo = {1: 0, 2: 0.25, 3: 0.75, 4: 1.5, 5: 2.5}\n",
    "map_frecuencia = {1: 0, 2: 0.2, 3: 0.65, 4: 1.25}\n",
    "\n",
    "# Listas de características según tipo de actividad\n",
    "# Variables relacionadas con actividades digitales\n",
    "tiempo_features_digital = [\"S20A\", \"S20G\", \"S20H\", \"S20I\", \"S20J\"]\n",
    "frecuencia_features_digital = [\"S21A\", \"S21C\", \"S22F\"]\n",
    "\n",
    "# Variables relacionadas con actividades culturales\n",
    "tiempo_features_cultural = [\"S20B\", \"S20C\", \"S20D\", \"S20E\", \"S20F\"]\n",
    "frecuencia_features_cultural = [\"S22A\", \"S22B\", \"S22C\", \"S22D\", \"S22E\"]\n",
    "\n",
    "# Conversión de variables digitales\n",
    "# Mapear las categorías numéricas a horas estimadas para cada variable de tiempo y frecuencia digital\n",
    "for feature in tiempo_features_digital:\n",
    "    egd10[feature + \"_horas_digital\"] = egd10[feature].map(map_tiempo)\n",
    "\n",
    "for feature in frecuencia_features_digital:\n",
    "    egd10[feature + \"_horas_digital\"] = egd10[feature].map(map_frecuencia)\n",
    "\n",
    "# Sumar todas las horas digitales en una nueva columna unificada\n",
    "# Combina tiempo y frecuencia para calcular un total de horas invertidas en actividades digitales\n",
    "egd10[\"Total_Horas_Digital\"] = egd10[\n",
    "    [\n",
    "        col + \"_horas_digital\"\n",
    "        for col in digital_features\n",
    "    ]\n",
    "].sum(axis=1)\n",
    "\n",
    "# Conversión de variables culturales\n",
    "# Mapear las categorías numéricas a horas estimadas para cada variable de tiempo y frecuencia cultural\n",
    "for feature in tiempo_features_cultural:\n",
    "    egd10[feature + \"_horas_cultural\"] = egd10[feature].map(map_tiempo)\n",
    "\n",
    "for feature in frecuencia_features_cultural:\n",
    "    egd10[feature + \"_horas_cultural\"] = egd10[feature].map(map_frecuencia)\n",
    "\n",
    "# Sumar todas las horas culturales en una nueva columna unificada\n",
    "# Combina tiempo y frecuencia para calcular un total de horas invertidas en actividades culturales\n",
    "egd10[\"Total_Horas_Cultural\"] = egd10[\n",
    "    [col + \"_horas_cultural\" for col in cultural_features]\n",
    "].sum(axis=1)"
   ]
  },
  {
   "cell_type": "markdown",
   "metadata": {},
   "source": [
    "Podemos observar como quedan nuestras nuevas variables unificadas:"
   ]
  },
  {
   "cell_type": "code",
   "execution_count": null,
   "metadata": {},
   "outputs": [],
   "source": [
    "# Imprime el total de horas invertidas en actividades culturales y digitales\n",
    "print(egd10[[\"Total_Horas_Digital\"]])\n",
    "print(egd10[[\"Total_Horas_Cultural\"]])"
   ]
  },
  {
   "cell_type": "markdown",
   "metadata": {},
   "source": [
    "## Características de la tarjeta de datos\n"
   ]
  },
  {
   "cell_type": "markdown",
   "metadata": {},
   "source": [
    "El nuevo dataset generado, `tarjeta_H4`, representa una versión simplificada y procesada de los datos originales, obtenida a través de la transformación y selección de las características más relevantes para la hipotésis que nos atañe en este caso.\n",
    "Las transformaciones empleada en las características de importancia seleccionadas ha sido principalmente la reducción de la dimensionalidad mediante la suma, y la conversión de tipos de datos por medio de mapeo."
   ]
  },
  {
   "cell_type": "code",
   "execution_count": null,
   "metadata": {},
   "outputs": [],
   "source": [
    "# Filtrar las columnas deseadas\n",
    "egd10_h4 = egd10[[\"Total_Horas_Cultural\", \"Total_Horas_Digital\", \"Nota_Media\"]]\n",
    "\n",
    "# Guardar el nuevo DataFrame en un archivo CSV\n",
    "egd10_h4.to_csv(\"data/tarjeta_H4.csv\", index=False, float_format=\"%.2f\")"
   ]
  },
  {
   "cell_type": "markdown",
   "metadata": {},
   "source": [
    "Las variables finales del dataset son:\n",
    "\n",
    "- `Total_Horas_Cultural`: total de horas diarias que el estudiante dedica a ocio del tipo *actividades culturales y formativas*\n",
    "- `Total_Horas_Digital`: total de horas diarias que el estudiante dedica a ocio del tipo *actividades de ocio digital*\n",
    "- `Nota_Media`: nota media del estudiante\n",
    "\n",
    "Sin valores nulos ni valores por defecto."
   ]
  },
  {
   "cell_type": "markdown",
   "metadata": {},
   "source": [
    "## Líneas de Trabajo\n"
   ]
  },
  {
   "cell_type": "markdown",
   "metadata": {},
   "source": [
    "Para validar la hipótesis de que el ocio de los estudiantes influye en su rendimiento académico, se podría realizar un análisis de correlación entre las variables que reflejan el tipo de ocio frecuentado y su tiempo de dedicación y sus calificaciones. Se podrán técnicas de clustering para identificar agrupaciones y patrones entre los datos.\n",
    "\n",
    "Este análisis permitirá explorar la posible conexión entre ambas variables, cuantificando tanto su relevancia estadística como la intensidad de su impacto."
   ]
  }
 ],
 "metadata": {
  "language_info": {
   "name": "python"
  }
 },
 "nbformat": 4,
 "nbformat_minor": 2
}
