{
 "cells": [
  {
   "cell_type": "markdown",
   "metadata": {},
   "source": [
    "## Relación entre las actividades extracurriculares y el rendimiento académico\n",
    "**- Hipótesis:**\n",
    "*Los estudiantes que participan en actividades como leer libros o practicar deportes tienen mejores resultados académicos que aquellos que pasan más tiempo viendo televisión o jugando videojuegos.*\n"
   ]
  },
  {
   "cell_type": "markdown",
   "metadata": {},
   "source": [
    "### Selección de datos\n",
    "\n",
    "Para el dataset `egd10`, disponemos de las siguientes variables a estudiar, divididas en dos grupos según el tipo de actividad:\n",
    "\n",
    "Hábitos relacionados con **actividades culturales y formativas**:\n",
    "\n",
    "- `S15A`\tFrecuencia uso en casa-Libros de lectura\n",
    "- `S15B`\tFrecuencia uso en casa-Prensa o revistas\n",
    "- `S15C`\tFrecuencia uso en casa-Enciclopedias\n",
    "- `S20B`\tActividades fuera del colegio-Escuchar música\n",
    "- `S20C`\tActividades fuera del colegio-Practicar deporte\n",
    "- `S20D`\tActividades fuera del colegio-Leer libros, cuentos, cómic\n",
    "- `S20E`\tActividades fuera del colegio-Leer prensa o revistas\n",
    "- `S20F`\tActividades fuera del colegio-Jugar con amigos\n",
    "- `S22A`\tInternet para-Buscar información para tus estudios\n",
    "- `S22B`\tInternet para-Buscar información sobre deportes\n",
    "- `S22C`\tInternet para-Buscar información sobre juegos\n",
    "- `S22D`\tInternet para-Buscar información sobre música o cine\n",
    "- `S22E`\tInternet para-Buscar información sobre otros temas\n",
    "\n",
    "Hábitos relacionados con **actividades de ocio digital**:\n",
    "\n",
    "- `S15D`\tFrecuencia uso en casa-Ordenador\n",
    "- `S15E`\tFrecuencia uso en casa-Internet\n",
    "- `S15F`\tFrecuencia uso en casa-Televisión\n",
    "- `S15G`\tFrecuencia uso en casa-Vídeo, DVD\n",
    "- `S20A`\tActividades fuera del colegio-Ver televisión, vídeos o DVDS\n",
    "- `S20G`\tActividades fuera del colegio-Hablar por teléfono\n",
    "- `S20H`\tActividades fuera del colegio-Jugar con videojuegos o con el ordenador\n",
    "- `S20I`\tActividades fuera del colegio-Participar en chats o messenger\n",
    "- `S20J`\tActividades fuera del colegio-Usar internet\n",
    "- `S21A`\tFrecuencia utilización ordenador-En casa\n",
    "- `S21C`\tFrecuencia utilización ordenador-En otros lugares\n",
    "- `S22F`\tInternet para-Comunicarme con otras personas\n",
    "\n",
    "También se han seleccionado las variables relacionadas con el rendimiento académico, como se ha hecho en otras hipótesis.\n"
   ]
  },
  {
   "cell_type": "code",
   "execution_count": null,
   "metadata": {},
   "outputs": [],
   "source": [
    "import pandas as pd"
   ]
  },
  {
   "cell_type": "code",
   "execution_count": null,
   "metadata": {},
   "outputs": [],
   "source": [
    "egd10 = pd.read_excel(\"data/EGD10.xlsx\")"
   ]
  },
  {
   "cell_type": "code",
   "execution_count": null,
   "metadata": {},
   "outputs": [],
   "source": [
    "\n",
    "posible_features = [\n",
    "    \"S15A\", \"S15B\", \"S15C\", \"S15D\", \"S15E\", \"S15F\", \"S15G\",\n",
    "    \"S20A\", \"S20B\", \"S20C\", \"S20D\", \"S20E\", \"S20F\", \"S20G\", \"S20H\", \"S20I\", \"S20J\",\n",
    "    \"S21A\", \"S21B\", \"S21C\",\n",
    "    \"S22A\", \"S22B\", \"S22C\", \"S22D\", \"S22E\", \"S22F\"\n",
    "]\n",
    "\n",
    "targets = list(map(lambda x: x.upper(), [\n",
    "    \"PV1ling\",\n",
    "    \"PV2ling\",\n",
    "    \"PV3ling\",\n",
    "    \"PV4ling\",\n",
    "    \"PV5ling\",\n",
    "    \"PV1mat\",\n",
    "    \"PV2mat\",\n",
    "    \"PV3mat\",\n",
    "    \"PV4mat\",\n",
    "    \"PV5mat\",\n",
    "    \"PV1mfis\",\n",
    "    \"PV2mfis\",\n",
    "    \"PV3mfis\",\n",
    "    \"PV4mfis\",\n",
    "    \"PV5mfis\",\n",
    "    \"PV1syc\",\n",
    "    \"PV2syc\",\n",
    "    \"PV3syc\",\n",
    "    \"PV4syc\",\n",
    "    \"PV5syc\",\n",
    "]))\n",
    "\n"
   ]
  },
  {
   "cell_type": "code",
   "execution_count": null,
   "metadata": {},
   "outputs": [],
   "source": [
    "egd10 = egd10[targets + posible_features]\n",
    "egd10.dropna(inplace=True)\n"
   ]
  },
  {
   "cell_type": "markdown",
   "metadata": {},
   "source": [
    "### Tratamiento y limpieza de datos\n"
   ]
  },
  {
   "cell_type": "markdown",
   "metadata": {},
   "source": [
    "La transformación de las variables requerirá de la agrupación de las mismas, para ello tendremos que realizar previamente una unificación de las unidades de medida. Adicionalmente, para que esto sea posible, tendremos que trater primero los valores nulos de las variables que vayamos a tener en cuenta."
   ]
  },
  {
   "cell_type": "markdown",
   "metadata": {},
   "source": [
    "#### Tratamiento de valores nulos"
   ]
  },
  {
   "cell_type": "markdown",
   "metadata": {},
   "source": [
    "En relación con las variables seleccionadas, será necesario realizar un tratamiento específico de los valores por defecto. En todas estas variables, el valor 9 se utiliza como marcador por defecto, mientras que el valor 1 se emplea para indicar ausencia o no uso.\n",
    "\n",
    "Por esta razón, procederemos a descartar aquellas filas en las que el valor de la variable sea 9, ya que no aportan información relevante para el análisis.\n"
   ]
  },
  {
   "cell_type": "code",
   "execution_count": null,
   "metadata": {},
   "outputs": [],
   "source": [
    "# Eliminar valores nulos\n",
    "egd10 = egd10[(egd10[posible_features] != 9).all(axis=1)]"
   ]
  },
  {
   "cell_type": "markdown",
   "metadata": {},
   "source": [
    "Para el caso de las variables de `target`, procederemos de igual manera que con las anteriores hipótesis."
   ]
  },
  {
   "cell_type": "markdown",
   "metadata": {},
   "source": [
    "#### Tratamiento de las variables"
   ]
  },
  {
   "cell_type": "markdown",
   "metadata": {},
   "source": [
    "En primer lugar, agrupamos las variables de `target`:"
   ]
  },
  {
   "cell_type": "code",
   "execution_count": null,
   "metadata": {},
   "outputs": [],
   "source": [
    "egd10.loc[:, \"Nota_Media\"] = egd10[targets].mean(axis=1)\n",
    "egd10.drop(targets, axis=1, inplace=True)\n",
    "egd10.loc[:, \"Nota_Media\"] = egd10[\"Nota_Media\"].apply(lambda x: x / 100)"
   ]
  },
  {
   "cell_type": "markdown",
   "metadata": {},
   "source": [
    "Las variables `S15x` los valores 5 se asume que tienen el mismo valor que 1 ( No tener es igual que no dedicarle tiempo )"
   ]
  },
  {
   "cell_type": "code",
   "execution_count": null,
   "metadata": {},
   "outputs": [],
   "source": [
    "# Cambiar los valores 5 por 1 en las columnas que comienzan con \"S15\"\n",
    "for col in posible_features:\n",
    "    if col.startswith(\"S15\"):\n",
    "        egd10[col] = egd10[col].replace(5, 1)"
   ]
  },
  {
   "cell_type": "markdown",
   "metadata": {},
   "source": [
    "Ahora vamos a analizar las variables para seleccionar las que mas influe `Nota_Media`"
   ]
  },
  {
   "cell_type": "code",
   "execution_count": null,
   "metadata": {},
   "outputs": [],
   "source": [
    "import numpy as np\n",
    "import seaborn as sns\n",
    "\n",
    "import matplotlib.pyplot as plt\n",
    "\n",
    "# Seleccionar las características para calcular la matriz de correlación\n",
    "df_feat = egd10[[\"Nota_Media\"] + posible_features]\n",
    "\n",
    "# Calcular la matriz de correlación\n",
    "corr = df_feat.corr()\n",
    "\n",
    "# Generar una máscara para el triángulo superior\n",
    "mask = np.triu(np.ones_like(corr, dtype=bool))\n",
    "\n",
    "# Configurar la figura de matplotlib\n",
    "plt.figure(figsize=(11, 9))\n",
    "\n",
    "# Generar un colormap divergente personalizado\n",
    "cmap = sns.diverging_palette(230, 20, as_cmap=True)\n",
    "\n",
    "# Dibujar el heatmap con la máscara y la relación de aspecto correcta\n",
    "sns.heatmap(corr, mask=mask, cmap=cmap, vmax=.3, center=0,\n",
    "            square=True, linewidths=.5, cbar_kws={\"shrink\": .5})\n",
    "\n",
    "plt.show()"
   ]
  },
  {
   "cell_type": "markdown",
   "metadata": {},
   "source": [
    "Como no hay una suficiente relaccion vamos a ver cuales influyen mas por proximidad, y descartar el resto"
   ]
  },
  {
   "cell_type": "code",
   "execution_count": null,
   "metadata": {},
   "outputs": [],
   "source": [
    "from scipy.cluster.hierarchy import dendrogram, linkage\n",
    "from scipy.spatial.distance import pdist\n",
    "\n",
    "# Calcular la matriz de distancias\n",
    "dist_matrix = pdist(corr)\n",
    "\n",
    "# Realizar el enlace jerárquico\n",
    "Z = linkage(dist_matrix, method='ward')\n",
    "\n",
    "# Dibujar el dendrograma\n",
    "plt.figure(figsize=(15, 10))\n",
    "dendrogram(Z, labels=corr.columns, leaf_rotation=90, leaf_font_size=10)\n",
    "plt.title('Dendrograma de las variables')\n",
    "plt.xlabel('Variables')\n",
    "plt.ylabel('Distancia')\n",
    "plt.show()"
   ]
  },
  {
   "cell_type": "markdown",
   "metadata": {},
   "source": [
    "Para el caso de las variables seleccionadas, observamos en primer lugar que todas son categóricas ordinales.\n",
    "\n",
    "Para las variables 15[A-E] 20[A-J], la medida es tiempo en horas, aunque no queda claro si es al día o a la semana.\n",
    "El máximo es de 2h, por lo que se ha decidido considerar que es al día.\n",
    "\n",
    "En cuanto a 21[A-C] y 22[A-F], la medida es la frecuencia de uso.\n"
   ]
  },
  {
   "cell_type": "markdown",
   "metadata": {},
   "source": [
    "Para poder unificar las variables, haremos la siguiente conversión a \"tiempo dedicado\", medido en horas:\n",
    "\n",
    "Para la variable de tiempo:\n",
    "\n",
    "- Nada de tiempo → 0 horas\n",
    "- Menos de 30 minutos → 0.25 horas\n",
    "- Entre 30 y 60 minutos → 0.75 horas\n",
    "- Entre 1 y 2 horas → 1.5 horas\n",
    "- Más de 2 horas → 2.5 horas\n",
    "\n",
    "Para la variable de frecuencia:\n",
    "\n",
    "- Nunca o casi nunca → 0 horas (se puede tratar como \"0 tiempo dedicado\").\n",
    "- Una o dos veces al mes → 0.2 horas (aproximadamente equivalente a dedicar menos de 30 minutos en promedio semanal).\n",
    "- Una o dos veces a la semana → 0.65 horas (aproximadamente 30-60 minutos a la semana).\n",
    "- Todos o casi todos los días → 1.25 horas (equivalente a dedicar una hora y pico diaria en promedio)."
   ]
  },
  {
   "cell_type": "markdown",
   "metadata": {},
   "source": [
    "Lo que haremos es mapear la conversión a cada una de las variables y después haremos un total agrupando en \"actividades de ocio digital\" o \"actividades culturales y formativas\":"
   ]
  },
  {
   "cell_type": "code",
   "execution_count": null,
   "metadata": {},
   "outputs": [],
   "source": [
    "# Mapeos para las variables de tiempo y frecuencia\n",
    "# Los valores representan horas estimadas para cada categoría\n",
    "map_tiempo = {1: 0, 2: 0.25, 3: 0.75, 4: 1.5, 5: 2.5}\n",
    "map_frecuencia = {1: 0, 2: 0.2, 3: 0.65, 4: 1.25}\n",
    "\n",
    "\n",
    "\n",
    "# Listas de características según tipo de actividad\n",
    "# Variables relacionadas con actividades digitales\n",
    "tiempo_features_digital = [\"S15D\", \"S15E\", \"S20I\", \"S20J\"]\n",
    "frecuencia_features_digital = [\"S21A\",\"S22D\", \"S22F\", \"S22E\"]\n",
    "\n",
    "# Variables relacionadas con actividades culturales\n",
    "tiempo_features_cultural = [\"S15C\", \"S15A\", \"S20D\"]\n",
    "\n",
    "# Conversión de variables digitales\n",
    "# Mapear las categorías numéricas a horas estimadas para cada variable de tiempo y frecuencia digital\n",
    "for feature in tiempo_features_digital:\n",
    "    egd10[feature + \"_horas_digital\"] = egd10[feature].map(map_tiempo)\n",
    "\n",
    "for feature in frecuencia_features_digital:\n",
    "    egd10[feature + \"_horas_digital\"] = egd10[feature].map(map_frecuencia)\n",
    "\n",
    "# Sumar todas las horas digitales en una nueva columna unificada\n",
    "# Combina tiempo y frecuencia para calcular un total de horas invertidas en actividades digitales\n",
    "egd10[\"Total_Horas_Digital\"] = egd10[[feature + \"_horas_digital\" for feature in tiempo_features_digital + frecuencia_features_digital]].sum(axis=1)\n",
    "\n",
    "# Conversión de variables culturales\n",
    "# Mapear las categorías numéricas a horas estimadas para cada variable de tiempo y frecuencia cultural\n",
    "# Sumar todas las horas culturales en una nueva columna unificada\n",
    "# Combina tiempo y frecuencia para calcular un total de horas invertidas en actividades culturales\n",
    "egd10['Total_Horas_Cultural'] = egd10[[\"S15C\", \"S15A\", \"S20D\"]].applymap(map_tiempo.get).sum(axis=1) + egd10[[\"S21A\", \"S22D\", \"S22F\", \"S22E\"]].applymap(map_frecuencia.get).sum(axis=1)\n",
    "\n"
   ]
  },
  {
   "cell_type": "code",
   "execution_count": null,
   "metadata": {},
   "outputs": [],
   "source": [
    "egd10.head()"
   ]
  },
  {
   "cell_type": "markdown",
   "metadata": {},
   "source": [
    "### Características de la tarjeta de datos\n"
   ]
  },
  {
   "cell_type": "markdown",
   "metadata": {},
   "source": [
    "El nuevo dataset generado, `tarjeta_H4`, representa una versión simplificada y procesada de los datos originales, obtenida a través de la transformación y selección de las características más relevantes para la hipotésis que nos atañe en este caso.\n",
    "Las transformaciones empleada en las características de importancia seleccionadas ha sido principalmente la reducción de la dimensionalidad mediante la suma, y la conversión de tipos de datos por medio de mapeo."
   ]
  },
  {
   "cell_type": "code",
   "execution_count": null,
   "metadata": {},
   "outputs": [],
   "source": [
    "# Filtrar las columnas deseadas\n",
    "egd10_h4 = egd10[[\"Total_Horas_Cultural\", \"Total_Horas_Digital\", \"Nota_Media\"]]\n",
    "\n",
    "# Guardar el nuevo DataFrame en un archivo CSV\n",
    "egd10_h4.to_csv(\"data/tarjeta_H4.csv\", index=False, float_format=\"%.2f\")"
   ]
  },
  {
   "cell_type": "markdown",
   "metadata": {},
   "source": [
    "Las variables finales del dataset son:\n",
    "\n",
    "- `Total_Horas_Cultural`: total de horas diarias que el estudiante dedica a ocio del tipo *actividades culturales y formativas*\n",
    "- `Total_Horas_Digital`: total de horas diarias que el estudiante dedica a ocio del tipo *actividades de ocio digital*\n",
    "- `Nota_Media`: nota media del estudiante\n",
    "\n",
    "Sin valores nulos ni valores por defecto."
   ]
  },
  {
   "cell_type": "markdown",
   "metadata": {},
   "source": [
    "### Líneas de Trabajo\n"
   ]
  },
  {
   "cell_type": "markdown",
   "metadata": {},
   "source": [
    "Para validar la hipótesis de que el ocio de los estudiantes influye en su rendimiento académico, se podría realizar un análisis de correlación entre las variables que reflejan el tipo de ocio frecuentado y su tiempo de dedicación y sus calificaciones. Se podrán técnicas de clustering para identificar agrupaciones y patrones entre los datos.\n",
    "\n",
    "Este análisis permitirá explorar la posible conexión entre ambas variables, cuantificando tanto su relevancia estadística como la intensidad de su impacto."
   ]
  },
  {
   "cell_type": "code",
   "execution_count": null,
   "metadata": {},
   "outputs": [],
   "source": [
    "# Definir el umbral de diferencia\n",
    "umbral = 1.0  # Ajusta este valor según la sensibilidad deseada\n",
    "\n",
    "# Añadir un valor mínimo a 'Horas_Digital ya que trabajamos con un rango muy amplio, los valores bajos son despreciables para nuestro análisis'\n",
    "egd10['Total_Horas_Digital'] = egd10['Total_Horas_Digital'].apply(lambda x: max(x, 5))\n",
    "\n",
    "# Clasificar en tres categorías\n",
    "egd10['Mayor_Horas'] = egd10.apply(\n",
    "    lambda row: (\n",
    "        'Cultural' if row['Total_Horas_Cultural'] > row['Total_Horas_Digital'] + umbral else\n",
    "        'Digital' if row['Total_Horas_Digital'] > row['Total_Horas_Cultural'] + umbral else\n",
    "        'Igualado'\n",
    "    ),\n",
    "    axis=1\n",
    ")\n",
    "# Mapear las categorías de 'Mayor_Horas' a valores numéricos\n",
    "egd10['Mayor_Horas_Bin'] = egd10['Mayor_Horas'].apply(\n",
    "    lambda x: 1 if x == 'Cultural' else -1 if x == 'Digital' else 0\n",
    ")\n",
    "\n",
    "# Verificar las frecuencias de los valores binarios\n",
    "print(egd10['Mayor_Horas_Bin'].value_counts())\n",
    "\n",
    "\n",
    "# Verificar las frecuencias de cada categoría\n",
    "print(egd10['Mayor_Horas'].value_counts())"
   ]
  },
  {
   "cell_type": "code",
   "execution_count": null,
   "metadata": {},
   "outputs": [],
   "source": [
    "import seaborn as sns\n",
    "import matplotlib.pyplot as plt\n",
    "\n",
    "# Gráfico KDE para `Nota_Media` según `Mayor_Horas_Bin`\n",
    "sns.kdeplot(egd10[\"Nota_Media\"][egd10.Mayor_Horas_Bin == 1], label='Cultural', fill=True)\n",
    "sns.kdeplot(egd10[\"Nota_Media\"][egd10.Mayor_Horas_Bin == -1], label='Digital', fill=True)\n",
    "\n",
    "# Calcular las medias\n",
    "media_cultural = egd10[\"Nota_Media\"][egd10.Mayor_Horas_Bin == 1].mean()\n",
    "media_digital = egd10[\"Nota_Media\"][egd10.Mayor_Horas_Bin == -1].mean()\n",
    "\n",
    "# Marcar líneas de la media\n",
    "plt.axvline(media_cultural, color='blue', linestyle='--', label='Media Cultural')\n",
    "plt.axvline(media_digital, color='orange', linestyle='--', label='Media Digital')\n",
    "\n",
    "# Personalización de etiquetas\n",
    "plt.xlabel('Nota Media')\n",
    "plt.title('Distribución de Nota Media por Categoría de Mayor Horas')\n",
    "plt.legend()\n",
    "plt.show()\n",
    "\n"
   ]
  },
  {
   "cell_type": "markdown",
   "metadata": {},
   "source": [
    "## Justificación del Modelado Utilizado\n",
    "\n",
    "Se utilizaron técnicas de análisis de correlación y clustering jerárquico debido a la naturaleza de las variables y la hipótesis planteada. Estas técnicas permiten identificar relaciones y patrones en los datos, así como agrupar variables similares, lo cual es esencial para entender la influencia de las actividades extracurriculares en el rendimiento académico.\n",
    "\n",
    "## Resultados Obtenidos e Interpretación\n",
    "\n",
    "- **Análisis de Correlación**:\n",
    "  - No se encontró una correlación significativa entre las variables de actividades extracurriculares y la nota media.\n",
    "\n",
    "- **Clustering Jerárquico**:\n",
    "  - Se identificaron agrupaciones de variables que muestran similitudes en sus patrones de dedicación de tiempo.\n",
    "\n",
    "- **Distribución de Nota Media**:\n",
    "  - Los estudiantes que dedican más tiempo a actividades culturales tienden a tener una nota media ligeramente superior en comparación con aquellos que dedican más tiempo a actividades digitales.\n",
    "  - La media de la nota para los estudiantes que dedican más tiempo a actividades culturales es de 5.58, mientras que para aquellos que dedican más tiempo a actividades digitales es de 5.03.\n",
    "\n",
    "Estos resultados sugieren que, aunque no hay una correlación fuerte, existe una tendencia que apoya la hipótesis de que las actividades culturales pueden tener un impacto positivo en el rendimiento académico. Sin embargo, se recomienda realizar análisis adicionales para confirmar estos hallazgos y explorar otras posibles variables influyentes."
   ]
  }
 ],
 "metadata": {
  "language_info": {
   "name": "python"
  }
 },
 "nbformat": 4,
 "nbformat_minor": 2
}
